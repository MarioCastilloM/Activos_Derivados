{
  "nbformat": 4,
  "nbformat_minor": 0,
  "metadata": {
    "colab": {
      "name": "Activos Derivados.ipynb",
      "provenance": [],
      "collapsed_sections": []
    },
    "kernelspec": {
      "display_name": "Python 3",
      "name": "python3"
    },
    "language_info": {
      "name": "python"
    }
  },
  "cells": [
    {
      "cell_type": "markdown",
      "metadata": {
        "id": "YCNktfj2Euj7"
      },
      "source": [
        "# Activos Derivados"
      ]
    },
    {
      "cell_type": "markdown",
      "metadata": {
        "id": "Kb5hjVsxE2wu"
      },
      "source": [
        "## Clase 1\n",
        "\n",
        "### Contrato  Futuro: \n",
        "\n",
        "- Un comprador y un vendedor se ponen de acuerdo para intercambiar un activo en un tiempo futuro. Sirve como instrumento de cobertura ante variaciones en el precio, la tasa de interés, etc. al fijar el precio de mañana el día de hoy. Es un juego de suma cero (es una obligación para ambas partes, en la que si uno gana, el otro pierde).\n",
        "\n",
        "- Usualmente no hay entrega física, sino que hay un neteo de la pata activa contra la pata pasiva. Pago por compensación (?). Se paga la diferencia entre el precio fijado en el tiempo t = 0 y el precio efectivo en el tiempo t = T.\n",
        "\n",
        "- El comprador en el futuro toma una posición larga y el vendedor en el futuro toma la posición corta.\n",
        "\n",
        "- Los contratos futuros pueden ser acordados directamente entre dos partes u over the counter (Forward) o a través de un mercado público o bolsa (Futuro)\n",
        "\n",
        "- La contraparte central elimina el riesgo de crédito y provee de mayor liquidez al mercado de futuros\n",
        "\n",
        "- El forward es un contrato hecho a la medida, de modo que suele ser más transado que los futuros (mercado financiero chileno).\n",
        "\n",
        "- En un contrato forward no hay movimiento de dinero hasta la fecha de madurez del contrato\n",
        "\n",
        "- En el contrato a futuro la contraparte central exigirá la constitución de pérdidas y ganancias diarias derivadas del contrato. Es decir, se estará \"pagando\" diariamiente la diferencia entre pactado y efectivo.\n",
        "\n",
        "- Por otra parte, la estandarización del mercado de futuros contempla la regulación de los plazos, el volumen y los ticks de precios para poder eliminar el riesgo de liquidez y de crédito.\n",
        "\n",
        "- $S_T$ es el precio del activo subyacente a la fecha de madurez (precio sport o de mercado a la madurez) y $F_0$ es el precio pactado para transar en $T$\n",
        "\n",
        "  - Utilidad de posición larga:\n",
        "  \n",
        "  $S_T - F_0$\n",
        "\n",
        "  - Utilidad de posición corta:\n",
        "\n",
        "  $F_0 - S_T$\n",
        "\n",
        "  - Al sumar las gananias, el resultado es cero: **juego de suma cero**\n",
        "\n",
        "- Para el caso de los futuros $F_T$ converge a $S_T$ cuando $t\\rightarrow T$, es decir, $F_T = S_T$.\n",
        "\n",
        "- Los contratos a futuros y forwards, se utilizan para\n",
        "  - Cobertura de riesgo de precio, stock, etc.\n",
        "  - Especulación. Tengo expectativas de ganancias derivada de este contrato.\n",
        "  - Arbitraje: se espera obtener una ganancia cierta sin inversión de recursos propios. \n"
      ]
    },
    {
      "cell_type": "markdown",
      "metadata": {
        "id": "QwKwW1NRWAZn"
      },
      "source": [
        "- El único costo de formar un portafolio $P = F_0$ es $S_0$ (lo que pago por el activo en el momento $t=0$).\n",
        "\n",
        "- Dado que el flujo que recibo en $T$ no tiene riesgo, se cumple que:\n",
        "\n",
        "   $\\frac{F_0}{S_0} = (1+r_f)^T$\n",
        "\n",
        "- Y por lo tanto:\n",
        "\n",
        "   $F_0 = S_0(1+r_f)^T$\n",
        "\n",
        "- Con este portafolio, tengo un hedge perfecto, pues el activo subyacente tiene una correlación 1 con el futuro y al irme corto en el futuro, entonces la correlación es -1"
      ]
    },
    {
      "cell_type": "markdown",
      "metadata": {
        "id": "16wbhfUXYtxc"
      },
      "source": [
        "- El valor del contrato de un forward se define como:\n",
        "\n",
        "  $F_0 = S_0(1+r_f)^T$\n",
        "\n",
        "  $V_0 = 0$\n",
        "  \n",
        "  $V_0 = S_0 - F_0(1+r_f)^{-T} = 0$\n",
        "  \n",
        "  Sustituimos 0 por $t$\n",
        "\n",
        "  $V_t = S_t - F_0(1+r_f)^{-(T-t)}$\n",
        "\n",
        "  $V_t \\rightarrow (S_T - F_0)\\   cuando \\  t \\rightarrow T$"
      ]
    },
    {
      "cell_type": "markdown",
      "metadata": {
        "id": "haXpQ4-KZn-0"
      },
      "source": [
        "- De no cumplirse la igualdad anterior, hay oportunidad de arbitraje"
      ]
    },
    {
      "cell_type": "markdown",
      "metadata": {
        "id": "uiwilfLoaBLZ"
      },
      "source": [
        "### Futuros sobre Acciones\n",
        "\n",
        "$\\frac{F_0+D}{S_0} = (1+r_f)$\n",
        "\n",
        "$F_0 = S_0(1+r_f-d)$\n",
        "\n",
        "Donde $d$ es el dividend yield, $\\frac{D}{S_0} = d$, es un retorno que proviene del dividendo\n",
        "\n",
        "Generalizando para todos los períodos\n",
        "\n",
        "$F_0 = S_0(1+r_f-d)^T$\n",
        "\n",
        "Y si sólo conocemos el monto del dividendo y no el dividend yield:\n",
        "\n",
        "$F_0 = S_0(1+r_f)^T-D$"
      ]
    },
    {
      "cell_type": "markdown",
      "metadata": {
        "id": "IyfZvYJnlQjr"
      },
      "source": [
        "#### Futuros sobre commodities\n",
        "\n",
        "$F_0 = S_0(1+r_f)^T + \\Theta - \\Gamma$\n",
        "\n",
        "Donde $\\Theta, \\Gamma$ corresponden al costo de almacenamiento y los beneficios del almacenamiento, ambos como monto."
      ]
    },
    {
      "cell_type": "markdown",
      "metadata": {
        "id": "PLhvVCKcmX0N"
      },
      "source": [
        "#### Futuros de Moneda\n",
        "\n",
        "$F_0 = E_0(\\frac{1+r_f}{1+r_f^*})^T$\n",
        "\n",
        "A esto se le conoce como la tasa de paridad cubierta de interés.\n",
        "\n",
        "$i + \\pi^e = i^*+\\pi^e+\\Delta^e E$\n",
        "\n",
        "La parte izquierda corresponde a $r_f$ y la derecha a $r_f^*$ más la variación del tipo de cambio esperado.\n",
        "\n",
        "En el caso de los futuros está cubierto el riesgo de tipo de cambio por la misma existencia de dicho mercado.\n",
        "\n",
        "$\\frac{F_0}{E_0} = \\frac{(1+r_f)}{(1+r_f^*)}$ es la depreciación del tipo de cambio\n",
        "\n",
        "El retorno de este portafolio de cobertura debe ser suficiente para que el inversionista esté indiferente entre la tasa doméstica y la extranjera.\n",
        "\n",
        "Si esta relación no se cumple, me puedo endeudar por $E_0$ en pesos, compro usd a $E_0$ y vendo a futuro $(1+r_f^*)$ de moneda extranjera a $F_0$, presto la unidad de moneda extranjera a $r_f^*$ al plazo $T$, en el tiempo $T$ pago $E_0(1+R_f^*)$ y recibo $F_0(1+r_f^*)^T$\n",
        "\n"
      ]
    },
    {
      "cell_type": "markdown",
      "metadata": {
        "id": "caQJEdcQrtNP"
      },
      "source": [
        "Si $F_0$ > $E_0(\\frac{1+r_f}{1+r_f^*})^T$:"
      ]
    },
    {
      "cell_type": "code",
      "metadata": {
        "colab": {
          "base_uri": "https://localhost:8080/"
        },
        "id": "5ovDY2PvrDrg",
        "outputId": "f90cb30c-e29c-43dd-d1a9-c992e7f50601"
      },
      "source": [
        "E0 = 700\n",
        "F0 = 710\n",
        "rf = 0.03\n",
        "rfs = 0.02\n",
        "T = 1\n",
        "\n",
        "print(f\"Dado que se cumple\\n\\\n",
        "F0 {'=' if F0 == E0*((1+rf)/(1+rfs))**T else '!='} E0*[(1+rf)/(1+rf*)]^(T)\\n\\\n",
        "Entonces {'NO' if F0 == E0*((1+rf)/(1+rfs))**T else 'SI'} hay arbitraje\")"
      ],
      "execution_count": 1,
      "outputs": [
        {
          "output_type": "stream",
          "name": "stdout",
          "text": [
            "Dado que se cumple\n",
            "F0 != E0*[(1+rf)/(1+rf*)]^(T)\n",
            "Entonces SI hay arbitraje\n"
          ]
        }
      ]
    },
    {
      "cell_type": "markdown",
      "metadata": {
        "id": "3Tu24-xKsJ84"
      },
      "source": [
        "explicar la estrategia de inversión"
      ]
    },
    {
      "cell_type": "markdown",
      "metadata": {
        "id": "faezB5VbrFSE"
      },
      "source": [
        "Si la utilidad esperada es igual a cero para comprador y vendedor, estamos diciendo que ambos son neutrales al riesgo (no requieren premio por riesgo), $F_0 = E(S_T)$. ***Hipótesis de las Expectativas***\n",
        "\n",
        "El vendedor del contrato quiere cubrir riesgo, por lo que ofrece premio por riesgo a especuladores que entren en el contrato, es decir $F_0 < E(S_T)$. ***Normal Backwardation***\n",
        "\n",
        "Especulador vende contrato a comprador que quiere cubrir riesgos, por lo que quien compra, ofrece premio por riesgo al vendedor, $F_0 > E(S_T)$. ***Contango***"
      ]
    },
    {
      "cell_type": "markdown",
      "metadata": {
        "id": "wgfXwfXRuF_H"
      },
      "source": [
        "De la teoría financiera, el precio del activo riesgoso:\n",
        "\n",
        "$S_0 = E(S_T)(1+r)^{-T}$\n",
        "\n",
        "\\\n",
        "De la paridad spot-futuro:\n",
        "\n",
        "\\\n",
        "$S_0 = F_0(1+r_f)^{-T}$\n",
        "\n",
        "\\\n",
        "Luego,\n",
        "\n",
        "\\\n",
        "$F_0 = E(S_T)(\\frac{1+r_f}{1+r})^T$\n",
        "\n",
        "\\\n",
        "La relación entre $r$ y $r_f$ que determina si $F_0$ es mayor o no a la esperanza de $S_T$, de acuerdo con el modelo $CAPM$ está reflejada por el riesgo sistémico $\\beta$"
      ]
    },
    {
      "cell_type": "markdown",
      "metadata": {
        "id": "Vjd42KEwxn0u"
      },
      "source": [
        "## Clase 2\n",
        "\n",
        "### Options"
      ]
    },
    {
      "cell_type": "markdown",
      "metadata": {
        "id": "x4PdMjVuZLPM"
      },
      "source": [
        "- Las opciones son derecho para quien la compra (no está obligado a ejercer), sin embargo, es una obligación para quien la vende.\n",
        "\n",
        "- Call le otroga al tenedor el derecho de comprar a un precio srtike en la fecha de madurez o durante la vida del instrumento (se ejerce cuando el precio spot es mayor que el strike).\n",
        "\n",
        "- Put otorga derecho al tenedor de vender a un precio strike (le convendrá siempre que el spot sea menor que el strike).\n",
        "\n",
        "- La opción es un derecho y obligación sobre un activo subyacente.\n",
        "\n",
        "- No se hace entrega física del activo, sino que se netea.\n",
        "\n",
        "- Cuando tengo una opción sobre un commodity, la entrega física si puede realizarse.\n",
        "\n",
        "- El precio de compra de una opción se conoce como premio. La utilidad bruta, es el spot menos el strike y la utilidad neta es la utilidad bruta menos el premio.\n",
        "\n",
        "- Opción Europea sólo se puede ejercer en la fecha de madurez, en cambio la Americana, se puede ejercer en cualquier momento de la vida del activo subyacente.\n",
        "\n",
        "- Permiten la implementación de estrategias especulativas y apalancamiento, pues puede vender una opción sin tener el activo subyacente. Igualmente se pueden utilizar para estrategias de cobertura.\n",
        "\n",
        "- Moneyness: define si al ejercer la opción en determinado período, obtendré ganancias o no.\n",
        "\n",
        "- $Ut.\\ Bruta\\ Call =S_T-X$\n",
        "\n",
        "- $Ut.\\ Bruta\\ Put =X-S_T$\n",
        "\n",
        "- La opción está *In the Money*, si se ejerce la opción en ese momento y genera utilidad bruta positiva.\n",
        "\n",
        "- La opción está *Out of the Money*, si se ejerce la opción en ese momento y genera utilidad bruta negativa.\n",
        "\n",
        "- La opción está *At the Money*, si se ejerce la opción en ese momento y genera utilidad bruta igual a cero.\n",
        "\n",
        "- Es posible generar diferentes flujos de pagos a través de la combinación de Call y Put con distintos strikes y madureces.\n",
        "\n",
        "***Un mercado es completo si es posible replicar todos los estados de la naturaleza a través de los activos subyacentes disponibles. Las opciones permiten completar sintéticamente el mercado. Las opciones son activos que generan flujos que tienen una relación no lineal con el flujo de pago de los activos subyacentes.***\n",
        "\n",
        "- Estrategias frecuentes:\n",
        "  - Put de protección:\\\n",
        "  Se utiliza para poner un piso a las pérdidas potenciales del activo subyacente. Compro el activo subyacente y luego compro una put sobre el mismo activo subyacente. La estrategia garantiza que obtendré el strike de la put como mínimo.\\\n",
        "  $if\\ S_T \\leq X \\Rightarrow$ $Put = X - S_T$ + $Act = S_T$ obtengo $X$\\\n",
        "  $if\\ S_T < X \\Rightarrow$ $Put = 0$ + $Act = S_T$ obtengo $S_T$\n",
        "\n",
        "  - Call de protección:\\\n",
        "  Se compra una call sobre un activo subyacente, se compra un bono cupón cero con la misma madurez de la call y por el monto del strike. La estrategia garantiza precio strike de la call.\\\n",
        "  $if\\ S_T \\leq X \\Rightarrow$ $Call = 0$ + $Z = X$ obtengo $X$\\\n",
        "  $if\\ S_T < X \\Rightarrow$ $Call = S_T - X$ + $Z = X$ obtengo $S_T$\n",
        "****Ambas estrategias me permitirán obtener la paridad put call, pues son equivalentes y podré despejar el precio de la call (put) en función del precio de la put (call).***\n",
        "\n",
        "  - Call cubierta:\\\n",
        "  Obligarse a vender el activo subyacente al alcanzar cierto precio. Tengo un activo subyacente y luego vendo una call sobre ese mismo activo. Compro un activo y vendo una call sobre el mismo activo con un precio strike igual al precio de venta objetivo. Esta estrategia obliga a entregar el activo si la call se ejerce.\\\n",
        "  $if\\ S_T \\leq X \\Rightarrow$ $Acc = S_T$ + $Call = 0$ obtengo $S_T$\\\n",
        "  $if\\ S_T < X \\Rightarrow$ $Acc = S_T - X$ + $Call = X - S_T$ obtengo $X$\n",
        "\n",
        "  - Bull call spread:\\\n",
        "  Busca aprovechar una disminución limitada del precio del activo subyacente. Se compra call con straike $X_1$ y madurez $T$ y sobre el mismo activo vendo una call con igual madurez, pero strike $X_2< X_1$\n",
        "\n",
        "  $if\\ S_T \\leq X_1 \\Rightarrow$ $Call_1 = 0$ + $Call_2 = 0$ obtengo $0$\\\n",
        "  $if\\ X_1 \\leq S_T \\leq X_2 \\Rightarrow$ $Call_1 = S_T - X_1$ + $Call_2 = 0$ obtengo $S_T-X_1$\\\n",
        "  $if\\ S_T > X_2 \\Rightarrow$ $Call_1 = S_T - X_1$ + $Call_2 = X_2 - S_T$ obtengo $X_2-X_1$\n",
        "\n",
        "  - Bear put spread:\\\n",
        "  Busca aprovechar una disminución limitada del precio del activo subyacente. Se compra put con straike $X_2$ y madurez $T$ y sobre el mismo activo vendo una put con igual madurez, pero strike $X_1 < X_2$\\\n",
        "  $if\\ S_T \\leq X_1 \\Rightarrow$ $Put_1 = X_2-S_T$ + $Put_2 = S_T-X_1$ obtengo $X_2-X_1$\\\n",
        "  $if\\ X_1 \\leq S_T \\leq X_2 \\Rightarrow$ $Put_1 = X_2 - S_T$ + $Call_2 = 0$ obtengo $X_2-S_T$\\\n",
        "  $if\\ S_T > X_2 \\Rightarrow$ $Put_1 = 0$ + $Put_2 = 0$ obtengo $0$\n",
        "  - Straddle:\\\n",
        "  Estrategia puramente de especulación. Busca aprovechar períodos de alta volatilidad del precio del subyacente. Se compra una call con strike X y madurez T y una put con mismas características. Si el precio cae por sobre el strike, se ejerce la put y viceversa.\\\n",
        "  $if\\ S_T \\leq X \\Rightarrow$ $Call = 0$ + $Put = X - S_T$ obtengo $X - S_T$\\\n",
        "  $if\\ S_T > X \\Rightarrow$ $Call = S_T - X$ + $Put = 0$ obtengo $S_T-X$"
      ]
    },
    {
      "cell_type": "markdown",
      "metadata": {
        "id": "yri6M0SmoAB6"
      },
      "source": [
        "- Opciones Barrera: depende de si el precio del activo subyacente cruza un umbral y so europeas. Knock-out deja de existir cuando se alcanza dicho umbral y knock-in nace cuando ello ocurre.\n",
        "\n",
        "- Opciones Asiáticas: depende del promedio del precio del activo subyacente durante la vida del contrato. Son opciones europeas. Son útiles para quitarle volatilidad al precio del activo subyacente. Puedo asegurar la compra o venta por debajo o por sobre el precio promedio si se ejerce la opción. También puedo garantizar la compra o venta del activo al precio promedio de la vida del contrato si se ejerce la opción.\n",
        "\n",
        "- Opciones Lookback: el flujo de pago depende el precio mínimo o máximo del precio del activo subyacente durante la vida del contrato. Floating-Lookback para comprar o vender el activo al mejor precio durante la vida del contrato. Fixed-Lookback para obtener una ganancia máxima como si se hubiese ejercido la opción en el momento más favorable durante la vida del contrato.\n",
        "\n",
        "- Opciones binarias: depende de si se cumple o no una cierta condición respecto del precio del activo subyacente. Cash or Nothing y Asset or Nothing.\n",
        "\n",
        "- Opciones Shout: opción europea en la que el tenedor de la acción puede gritar un precio mínimo o máximo al vendedor por una sola vez durante la vida del contrato"
      ]
    },
    {
      "cell_type": "markdown",
      "metadata": {
        "id": "Vt0KAk4z_Y67"
      },
      "source": [
        "### Paridad Put Call opciones Europeas\n",
        "\n",
        "- A través del precio de la put (call) puedo obtener el precio de la call (put)\n",
        "\n",
        "- Si dos portfolios tienen mismos pagos y nivel de riesgo, deben tener el mismo precio. Igualando el costo de formar ambos portafolios obtenemos la paridad, put de cobertura y call de cobertura.\n",
        "\n",
        "- Compro acción y compro put sobre acción y una call más un bono cero. el costo será:\n",
        "\n",
        "  - $P+S_0 = C+X(1+r_f)^{-T}$\n",
        "\n",
        "- Si la igualdad no se cumpliera, existiría una oportunidad de arbitraje, comprando el portafolio barato y vendiendo el caro.\n"
      ]
    },
    {
      "cell_type": "code",
      "metadata": {
        "colab": {
          "base_uri": "https://localhost:8080/"
        },
        "id": "grapiSoSDX7m",
        "outputId": "5864b5f4-7c5f-403b-eac6-ef9b7c8381a8"
      },
      "source": [
        "s0 = 31\n",
        "x = 30\n",
        "rf = .1\n",
        "c3m = 3\n",
        "p3m = 2.25\n",
        "\n",
        "# luego la paridad sería\n",
        "\n",
        "portfolio_put = p3m + s0\n",
        "portfolio_call = c3m + x*(1+rf)**-(3/12)\n",
        "\n",
        "print(f\"El valor del portfolio put es {portfolio_put}\\n\\\n",
        "mientras que el portfolio call tiene un valor {portfolio_call}\\n\\\n",
        "por lo tanto la paridad {'SI' if portfolio_put==portfolio_call else 'NO'} se cumple\\n\\\n",
        "y hay posibilidad de arbitraje, compro el portfolio de la call y vendo el de la put\")"
      ],
      "execution_count": 2,
      "outputs": [
        {
          "output_type": "stream",
          "name": "stdout",
          "text": [
            "El valor del portfolio put es 33.25\n",
            "mientras que el portfolio call tiene un valor 32.29362269028931\n",
            "por lo tanto la paridad NO se cumple\n",
            "y hay posibilidad de arbitraje, compro el portfolio de la call y vendo el de la put\n"
          ]
        }
      ]
    },
    {
      "cell_type": "markdown",
      "metadata": {
        "id": "fytq1HU8Dhh_"
      },
      "source": [
        "  - Si la acción paga dividendos, estos deben incorporarse dentro del $S_0 \\Rightarrow S_0 - D(1+r_f)^{-T}$\n",
        "\n",
        "    - $P+S_0 - D(1+r_f)^{-T} = C+X(1+r_f)^{-T}$"
      ]
    },
    {
      "cell_type": "markdown",
      "metadata": {
        "id": "-AXnroYSKdfi"
      },
      "source": [
        "- El valor de un activo corresponde al valor presente de los pagos esperados, en el caso de la call, el pago esperado es el máximo entre $S_T-X$ y 0, por lo tanto el valor presente será:\n",
        "  - $C=E[max(S_T - X, 0)](1+r_f)^{-T}$\n",
        "  - $P=E[max(X - S_T, 0)](1+r_f)^{-T}$\n",
        "- Se utiliza $r_f$ pues se utiliza valoración neutral al riesgo. Para que sea consistente con la teoría financiera, descontar los pagos a la tasa de riesgo equivalente, la esperanza es bajo la distribución de probabilidad neutral al riesgo. Si descuento con una tasa menor a la de riesgo equivalente, tengo que ajustar a la baja el numerador de dicha operación (el valor esperado), por lo tanto esta distribución de probabilidad le da mayor masa de probabilidad a los estados de la naturaleza negativos (normal trasladada a la izquierda).\n",
        "\n",
        "- Cuando $S_T \\rightarrow \\infty \\Rightarrow C\\rightarrow S_0 - VP(X)$\n",
        "\n",
        "- Cuando $S_T \\rightarrow 0 \\Rightarrow P\\rightarrow VP(X) - S_0$\n",
        "\n",
        "- el valor en el tiempo de la opción puede ser definido como el premio de la opción menos el valor intrínsico\n",
        "\n",
        "  - $C - max(S_0-X, 0)$\n",
        "  - $P - max(X-S_0, 0)$\n",
        "\n",
        "- Dado que a la madurez el precio de la opción debe ser igual a valor intrínsico, entonces el valor en el tiempo de la opción converge a cero cuando la opción se acerca a la madurez."
      ]
    },
    {
      "cell_type": "markdown",
      "metadata": {
        "id": "BUo1gUDXTbip"
      },
      "source": [
        "### Determinantes del precio de la opción\n",
        "\n",
        "- Precio del activo subyacente: afecta positivamente (negativamente) si es una call (put).\n",
        "\n",
        "- Precio de ejercicio: tiene el efecto contrario que el precio de ejercicio.\n",
        "\n",
        "- Madurez de la opción: cuando aumenta la madurez la opción vale más, pues si el plazo es más largo, hay una mayor probabilidad de que el precio se mueva en la dirección que me conviene. Este efecto sobrecompensa la disminución del valor producto de un mayor descuento.\n",
        "\n",
        "- Tasa libre de riesgo: mayor descuento, por lo tanto valor presente más bajo, por lo tanto la call vale más y la put vale menos (ver fórmulas).\n",
        "\n",
        "- Volatilidad del activo subyacente: aumenta la posibilidad de que el precio suba mucho y por lo tanto aumenta la probabilidad de que yo ejerza una call, mientras que si baja demasiado el precio del activo subyacente, no la ejerzo, por lo tanto a mayor volatilidad más vale la opción. el efecto final es el mismo para la put, pero los mecanismos son inversos."
      ]
    },
    {
      "cell_type": "markdown",
      "metadata": {
        "id": "HI_QmLgGb3Wr"
      },
      "source": [
        "- La call debe tener un precio no menor al valor del portafolio (acción, bono).\\\n",
        "  $C\\geq S_0-X(1+r_f)^{-T} \\Leftrightarrow C\\geq S_0-VP(X)$\n",
        "\n",
        "- Adicionalmente, el máximo monto que estoy dispuesto a pagar por una call es el precio actual del activo subyacente, $S_0$:\n",
        "\n",
        "   $[S_0-VP(X)] \\leq C\\leq S_0$\n",
        "\n",
        "- Para la put hacemos venta corta de la acción y prestamos el equivalente al strike (portafolio con signo negativo al anterior)\\\n",
        "  $P\\geq (X-S_T)(1+r_f)^{-T} \\Leftrightarrow P\\geq VP(X)-S_0$\n",
        "\n",
        "- La put debe tener un precio máximo o igual al strike, VP(X):\n",
        "\n",
        "  $[VP(X)-S_0] \\leq P\\leq VP(X)$"
      ]
    },
    {
      "cell_type": "markdown",
      "metadata": {
        "id": "sYUv3YTy7ZiJ"
      },
      "source": [
        "### Ejercicio Anticipado Opción Americana\n",
        "\n",
        "- Debemos analizar si conviene ejercer la call de manera anticipada.\n",
        "\n",
        "- Se debe cumplir siempre que:\n",
        "\n",
        "  $C_t\\leq S_t-VP(X)$\n",
        "\n",
        "- Sin embargo, dado X > VP(X)\n",
        "\n",
        "  $C_t > S_t-X$\n",
        "\n",
        "- La call americana siempre vale más viva que muerta, i.e., siempre conviene venderla en lugar de ejercerla antes de la madurez. Dado esto, debe tener el mismo precio que la opción europea.\n",
        "\n",
        "- Podría convenir ejercer una call americana si la acción está próxima a pagar un dividendo elevado que pueda generaruna baja considerable en el precio del activo subyacente.\n",
        "\n",
        "- En el caso de la put, si tiene valor ejercerla anticipadamente. Además, si la tasa de interés es suficientemente alta, podría resultar conveniente ejercer anticipadamente la put e invertir el pago por el período restante, pese a que el precio del activo pueda bajar más aún.\n",
        "\n",
        "- Si se cumple lo siguiente, la put americana se debe ejercer anticipadamente:\n",
        "\n",
        "  $(X-S_T)(1+r_f)^{(T-t)}>(X-S_T)$"
      ]
    },
    {
      "cell_type": "markdown",
      "metadata": {
        "id": "g_E4i5msTW5c"
      },
      "source": [
        "### Árbol binomial de dos períodos\n",
        "\n",
        "- El precio de una acción que no paga dividendos, puede aumentar o disminuir por un factor $d$ o $u = 1+d$, por lo tanto en el segundo período tendremos $dS_0$ o $uS_0$ para el activo subyacente y $C$, $C_d$, $C_u$ para la opción call.\n",
        "\n",
        "- Formamos un portafolio libre de riesgo a través de una call de cobertura\n",
        "\n",
        "  - $H = \\frac{C_u-C_d}{uS_0-dS_0}$\n",
        "\n",
        "- La cobertura es perfecta, pues la acción y la call estan perfecta e inversamente correlacionadas\n",
        "\n",
        "- El precio de la opción se obtiene considerando que el retorno del portfolio debe corresponder a la tasa libra de riesgo:\n",
        "\n",
        "  - $\\frac{(HuS_0-C_u)}{(HS_0-C)}=(1+r_f)^{T}$\n",
        "\n",
        "- En el numerador tengo el pago del portafolio de cobertura en el estado de la naturaleza cuando el precio aumentó, sobre el costo de formar el portafolio, así el lado izquierdo, representa el retorno bruto del portafolio. De esta fórmula, la incógnita es $C$."
      ]
    },
    {
      "cell_type": "code",
      "metadata": {
        "colab": {
          "base_uri": "https://localhost:8080/"
        },
        "id": "w4wtyKbEUzS5",
        "outputId": "2295100c-fadd-4d88-e82a-f14f3bc377ae"
      },
      "source": [
        "s0 = 100\n",
        "u = 2\n",
        "d = 0.5\n",
        "x = 125\n",
        "rf = 0.08\n",
        "T = 1\n",
        "us0 = s0*u\n",
        "ds0 = s0*d\n",
        "cu = us0-x\n",
        "cd = 0 if x > ds0 else x - ds0\n",
        "\n",
        "\n",
        "H = (cu-cd)/(us0-ds0)\n",
        "\n",
        "C = H*s0-((H*us0-cu)/(1+rf)**T)\n",
        "\n",
        "print(f\"El valor de H es {H}, por lo tanto, el valor de la call es {C}\")"
      ],
      "execution_count": 3,
      "outputs": [
        {
          "output_type": "stream",
          "name": "stdout",
          "text": [
            "El valor de H es 0.5, por lo tanto, el valor de la call es 26.851851851851855\n"
          ]
        }
      ]
    },
    {
      "cell_type": "markdown",
      "metadata": {
        "id": "2XMrmvaDZ-wa"
      },
      "source": [
        "### Árbol binomial de tres o más períodos\n",
        "\n",
        "***A medida que vayamos subdividiendo los intervalos del árbol discreto, nos acercaremos al tiempo continuo***\n",
        "\n",
        "*Generalmente trabajaremos con árboles que se recombinan, i.e., abrán valores centrales que serán iguales independiente de si vengo de arriba o de abajo*\n",
        "\n",
        "*En una opción europea, el strike se incorpora solo en el último período*\n",
        "\n",
        "$u = exp(\\sigma\\sqrt{\\frac{T}{n}}),\\  d = 1/u$"
      ]
    },
    {
      "cell_type": "markdown",
      "metadata": {
        "id": "_1gg8iTvez3x"
      },
      "source": [
        "## Clase 3\n",
        "\n",
        "### Continuación Árbol Binomial 3 o más períodos"
      ]
    },
    {
      "cell_type": "markdown",
      "metadata": {
        "id": "Mq2DURrkPXAJ"
      },
      "source": [
        "- El árbol se construye por inducción hacia atrás\n",
        "- Calculamos el pago de la call en el último período considerando el precio del subyacente y el strike. Construimos el portafolio de cobertura, determinando el pago esperado del portafolio. Traemos dicho pago a valor presente y obtenemos el valor del nodo anterior, así período a período.\n",
        "- En cada subperíodo se recalcula la razón de cobertura, pues esta es dinámica.\n",
        "- Pasos para calcular precio de call con 2 subperíodos:\n",
        "  - Encontrar el valor de $C_u$ haciendo inducción hacia atrás\n",
        "  - Repetir lo anterior para $C_d$\n",
        "  - Por último encontramos $C$\n",
        "  - Ejemplo: $S_0 = 100$, $u = 1.1$, $d = 0.95$, $X = 110$, $r_f = 5\\%$ a 6 meses y $T = 1$."
      ]
    },
    {
      "cell_type": "code",
      "metadata": {
        "colab": {
          "base_uri": "https://localhost:8080/"
        },
        "id": "pxHiyvgUS0GO",
        "outputId": "af8c9599-5b24-4888-c133-b852bb9dcb88"
      },
      "source": [
        "s0 = 100\n",
        "f_u = 1.1\n",
        "f_d = 0.95\n",
        "u = f_u*s0\n",
        "d = f_d*s0\n",
        "ud = u*f_d\n",
        "uu = u*f_u\n",
        "dd = d*f_d\n",
        "\n",
        "print(f'Los resultados del precio del subyacente en los distintos escenarios es:\\nValor u: {round(u,1)}\\n\\\n",
        "Valor d: {d}\\nValor uu: {round(uu,1)}\\nValor ud: {round(ud,1)}\\nValor dd: {round(dd,1)}')"
      ],
      "execution_count": 4,
      "outputs": [
        {
          "output_type": "stream",
          "name": "stdout",
          "text": [
            "Los resultados del precio del subyacente en los distintos escenarios es:\n",
            "Valor u: 110.0\n",
            "Valor d: 95.0\n",
            "Valor uu: 121.0\n",
            "Valor ud: 104.5\n",
            "Valor dd: 90.2\n"
          ]
        }
      ]
    },
    {
      "cell_type": "code",
      "metadata": {
        "colab": {
          "base_uri": "https://localhost:8080/"
        },
        "id": "LIsDcyrWYNaQ",
        "outputId": "4490dcb4-ce51-408d-a955-becf791a0928"
      },
      "source": [
        "X = 110\n",
        "T = 1\n",
        "rf = 0.05/T\n",
        "cuu = max(uu-X, 0)\n",
        "cdu = max(ud-X, 0)\n",
        "cdd = max(dd-X, 0)\n",
        "Ht2 = (cuu - cdu)/(uu-ud)\n",
        "cu = Ht2*u-((Ht2*uu-cuu)/(1+rf))\n",
        "cd = 0\n",
        "print(f'El valor de la call en el segundo período es: {round(cu, 2)}\\n\\\n",
        "El valor de la call en el nodo inferior (down) del segundo período es {cd},\\\n",
        " pues cdd y cdu son {cdd} y {cdu}, respectivamente') "
      ],
      "execution_count": 5,
      "outputs": [
        {
          "output_type": "stream",
          "name": "stdout",
          "text": [
            "El valor de la call en el segundo período es: 6.98\n",
            "El valor de la call en el nodo inferior (down) del segundo período es 0, pues cdd y cdu son 0 y 0, respectivamente\n"
          ]
        }
      ]
    },
    {
      "cell_type": "code",
      "metadata": {
        "colab": {
          "base_uri": "https://localhost:8080/"
        },
        "id": "gi6Ek6q5aqul",
        "outputId": "4f7110f7-18c3-493f-b13e-03bd2ccc1932"
      },
      "source": [
        "Ht1 = (cu-cd)/(u-d)\n",
        "c = Ht1*s0-((Ht1*u-cu)/(1+rf))\n",
        "print(f'Razón de cobertura: {round(Ht1, 2)}\\n\\\n",
        "Valor de c: {round(c, 2)}')"
      ],
      "execution_count": 6,
      "outputs": [
        {
          "output_type": "stream",
          "name": "stdout",
          "text": [
            "Razón de cobertura: 0.47\n",
            "Valor de c: 4.43\n"
          ]
        }
      ]
    },
    {
      "cell_type": "markdown",
      "metadata": {
        "id": "fm3KbodScipT"
      },
      "source": [
        "### Opción Americana\n",
        "\n",
        "- Acá en cada nodo se debe evaluar si es óptimo o no ejercer la opción.\n",
        "- El valor de la opción en cada nodo antes de la madurez corresponde a $max\\{VP(E(\\star)),\\ pago\\ si\\ ejerce\\ opcion\\ en\\ t\\}$\n",
        "- Se considera una put y no una call, pues la call y la americana tienen igual valor si no hay dividendo (la call americana vale más viva que muerta, por lo tanto, nunca la ejerzo anticipadamente)."
      ]
    },
    {
      "cell_type": "code",
      "metadata": {
        "colab": {
          "base_uri": "https://localhost:8080/"
        },
        "id": "v8GTFy3HlZVH",
        "outputId": "b64b18d0-d4b3-4d0b-9be1-36856b4aae96"
      },
      "source": [
        "import numpy as np\n",
        "s0 = 50\n",
        "X = 52\n",
        "u = 1.2\n",
        "d = 0.8\n",
        "T = 2\n",
        "n = 2\n",
        "deltat = T/n\n",
        "rf = 0.05/deltat\n",
        "exp = np.exp(rf*deltat)\n",
        "p = (exp-d)/(u-d)\n",
        "us0 = u*s0\n",
        "ds0 = d*s0\n",
        "uus0 = us0*u\n",
        "uds0 = us0*d\n",
        "dds0 = ds0*d\n",
        "\n",
        "print(f'Los valores del árbol del subyacente son:\\n\\\n",
        "uS0: {us0}\\n\\\n",
        "dS0: {ds0}\\n\\\n",
        "uuS0: {uus0}\\n\\\n",
        "udS0 o duS0: {uds0}\\n\\\n",
        "ddS0: {dds0}')"
      ],
      "execution_count": 7,
      "outputs": [
        {
          "output_type": "stream",
          "name": "stdout",
          "text": [
            "Los valores del árbol del subyacente son:\n",
            "uS0: 60.0\n",
            "dS0: 40.0\n",
            "uuS0: 72.0\n",
            "udS0 o duS0: 48.0\n",
            "ddS0: 32.0\n"
          ]
        }
      ]
    },
    {
      "cell_type": "code",
      "metadata": {
        "colab": {
          "base_uri": "https://localhost:8080/"
        },
        "id": "HxqQVBoMmWOw",
        "outputId": "e242615e-1561-4bdb-81de-26c85e069d51"
      },
      "source": [
        "puu = max(X-uus0, 0)\n",
        "pud = max(X-uds0, 0)\n",
        "pdd = max(X-dds0, 0)\n",
        "pu = max((p*puu+(1-p)*pud)/exp, X-us0)\n",
        "pdown = max((p*pud+(1-p)*pdd)/exp, X-ds0)\n",
        "put = (p*pu+(1-p)*pdown)/exp\n",
        "print(f'Los valores del árbol de la put americana son:\\n\\\n",
        "puu: {round(puu, 2)}\\n\\\n",
        "pud: {round(pud, 2)}\\n\\\n",
        "pdd: {round(pdd, 2)}\\n\\\n",
        "pu: {round(pu, 2)}\\n\\\n",
        "pdown: {round(pdown, 2)}\\n\\\n",
        "put: {round(put, 2)}\\n')"
      ],
      "execution_count": 8,
      "outputs": [
        {
          "output_type": "stream",
          "name": "stdout",
          "text": [
            "Los valores del árbol de la put americana son:\n",
            "puu: 0\n",
            "pud: 4.0\n",
            "pdd: 20.0\n",
            "pu: 1.41\n",
            "pdown: 12.0\n",
            "put: 5.09\n",
            "\n"
          ]
        }
      ]
    },
    {
      "cell_type": "markdown",
      "metadata": {
        "id": "mJFaKMv4oeS1"
      },
      "source": [
        "### Árboles Binomiales Fórmulas Generales\n",
        "\n",
        "- $\\Delta t = T/n$\n",
        "- $u = exp(\\sigma\\sqrt{\\Delta t}),\\ d = 1/u$\n",
        "- $p* = \\frac{(e^{r_f\\Delta t}-d)}{(u-d)}$"
      ]
    },
    {
      "cell_type": "code",
      "metadata": {
        "id": "e_g5F4SFow_U"
      },
      "source": [
        "def put_americana_2(s0, X, sigma, rf, T):\n",
        "  import numpy as np\n",
        "  delt = T/2\n",
        "  u = np.exp(sigma*np.sqrt(delt))\n",
        "  d = 1/u\n",
        "  exp = np.exp(rf*delt)\n",
        "  pr = (exp-d)/(u-d)\n",
        "  us0 = u*s0\n",
        "  ds0 = d*s0\n",
        "  uus0 = us0*u\n",
        "  uds0 = us0*d\n",
        "  dds0 = ds0*d\n",
        "  puu = max(X-uus0, 0)\n",
        "  pud = max(X-uds0, 0)\n",
        "  pdd = max(X-dds0, 0)\n",
        "  pu = max((pr*puu+(1-pr)*pud)/exp, X-us0)\n",
        "  pdown = max((pr*pud + (1-pr)*pdd)/exp, X-ds0)\n",
        "  put = (pr*pu+(1-pr)*pdown)/exp\n",
        "  return put"
      ],
      "execution_count": 9,
      "outputs": []
    },
    {
      "cell_type": "code",
      "metadata": {
        "colab": {
          "base_uri": "https://localhost:8080/"
        },
        "id": "jBsjLRr4vln2",
        "outputId": "95444967-1bd8-4b14-bd52-921827400905"
      },
      "source": [
        "print(put_americana_2(s0 = 50, X = 52, sigma = 0.3, rf = 0.05, T = 2))"
      ],
      "execution_count": 10,
      "outputs": [
        {
          "output_type": "stream",
          "name": "stdout",
          "text": [
            "7.4284019027048345\n"
          ]
        }
      ]
    },
    {
      "cell_type": "markdown",
      "metadata": {
        "id": "8S1DJtCYyLyn"
      },
      "source": [
        "### BSM Model\n",
        "\n",
        "- El precio del activo subyacente sigue un proceso estocástico continuo:\\\n",
        "  $\\frac{dS}{S} = \\mu\\ dt + \\sigma\\ dz$\n",
        "\n",
        "  $dln(S) = lnS - lnS_{-1} = ln(\\frac{S}{S_{-1}})$\n",
        "\n",
        "  $\\frac{S}{S_{-1}} = exp(\\mu\\ dt + \\sigma\\ dz)$\n",
        "\n",
        "  $S = S_{-1}\\ exp(\\mu\\ dt + \\sigma\\ dz)$\n",
        "\n",
        "- $dz$ sigue un proceso browniano con las siguientes características:\\\n",
        "  $dz = \\varepsilon \\sqrt {dt}$\n",
        "\n",
        "  $dz \\thicksim N(0,1) \\Rightarrow dz \\thicksim N(0, dz)$\n",
        "\n",
        "- $z$ sigue un proceso de Markov, de modo que $dz$ es independiente de su rezago en cada intervalo de tiempo $dz$\n",
        "\n",
        "- Se asume que $\\mu$ y $\\sigma$ son constantes y reemplazando $d$ por $\\Delta$, entonces tenemos la aproximación discreta del modelo:\n",
        "\n",
        "  $\\frac{\\Delta S}{S} = \\mu\\ \\Delta t + \\sigma\\ \\varepsilon\\sqrt{\\Delta t}$\n",
        "\n",
        "  $\\frac{\\Delta S}{S} \\thicksim N(\\mu \\Delta t, \\sigma ^{2}\\Delta t)$\n",
        "\n",
        "- ***El cálculo de Ito, basado en el lemma de Ito, dice que la derivada en un punto, dado que tomada de la izquierda es diferente de tomada por la derecha, se tomará el promedio entre ambas derivadas.***\n",
        "\n",
        "  - $dG = (\\frac{\\partial{G}}{\\partial{S}}\\mu S + \\frac{\\partial{G}}{\\partial{t}} + \\frac{1}{2}\\frac{\\partial^{2}{G}}{\\partial{S^{2}}}\\sigma^{2}S^{2})dt + \\frac{\\partial G}{\\partial S}\\sigma Sdz$\n",
        "  \n",
        "  - Al definir $G=lnS$:\n",
        "  \n",
        "  - $\\frac{\\partial G}{\\partial S} = \\frac{1}{S}$\n",
        "  \n",
        "  - $\\frac{\\partial^{2} G}{\\partial S^{2}} = \\frac{1}{S^{2}}$\n",
        "  \n",
        "  - $\\frac{\\partial G}{\\partial t} = 0$\n",
        "\n",
        "  - $dG = (\\mu - \\frac{\\sigma^{2}}{2})dt + \\sigma dz = dlnS$\n",
        "  - $lnS_T \\thicksim N(lnS_0 + (\\mu - \\frac{\\sigma^2}{2}T),\\ \\sigma^2T)$\n",
        "  - *Si el logaritmo natural del precio es Normal, entonces el precio del subyacente distribuye Lognormal*\n",
        "\n",
        "\n",
        "- Formaremos un portafolio de cobertura con retorno igual a $r_f$. Debemos recalcular la razón de cobertura $H$ en cada intervalo de tiempo. Habría que rebalancear permanetemente del portafolio de cobertura.\n",
        "\n",
        "  - Se asume que el activo sigue un proceso estocástico Lognormal\n",
        "  - Se permite venta corta y divisibilidad de activos\n",
        "\n",
        "  - No hay impuestos ni costos de transacción\n",
        "  - Transacciones continuas\n",
        "  - No hay pago de dividendos durante la vida de la opción\n",
        "  - $r_f$ es constante e igual a todas las madureces\n",
        "  - No hay oportunidad de arbitrage.\n",
        "\n",
        "- Ecuación diferencial parcial BSM\n",
        "\n",
        "  - $C = f(S)$\n",
        "  \n",
        "  - $dC = (\\frac{\\partial{C}}{\\partial{S}}\\mu S + \\frac{\\partial{C}}{\\partial{t}} + \\frac{1}{2}\\frac{\\partial^{2}{C}}{\\partial{S^{2}}}\\sigma^{2}S^{2})dt + \\frac{\\partial C}{\\partial S}\\sigma Sdz$\n",
        "  \n",
        "  - $dS = \\mu Sdt + \\sigma Sdz$\n",
        "\n",
        "  - $\\Pi = -C + \\frac{\\partial C}{\\partial S} S$\n",
        "\n",
        "  - ***pago del portafolio de cobertura o costo del portafolio de cobertura***\n",
        "  \n",
        "  - $d \\Pi = -dC + \\frac{\\partial C}{\\partial S} dS$\n",
        "\n",
        "  - $d \\Pi = -[(\\frac{\\partial{C}}{\\partial{S}}\\mu S + \\frac{\\partial{C}}{\\partial{t}} + \\frac{1}{2}\\frac{\\partial^{2}{C}}{\\partial{S^{2}}}\\sigma^{2}S^{2})dt + \\frac{\\partial C}{\\partial S}\\sigma Sdz] + \\frac{\\partial C}{\\partial S} [\\mu Sdt + \\sigma Sdz]$\n",
        "\n",
        "  - $d\\Pi = -(\\frac{\\partial C}{\\partial t}+\\frac{1}{2}\\frac{\\partial^2 C}{\\partial S^2}\\sigma^2 S^2)dt$\n",
        "\n",
        "  - $d\\Pi = r_f\\Pi dt$\n",
        "\n",
        "  - $-(\\frac{\\partial C}{\\partial t}+\\frac{1}{2}\\frac{\\partial^2 C}{\\partial S^2}\\sigma^2 S^2)dt = -C + \\frac{\\partial C}{\\partial S} S dt$\n",
        "\n",
        "  - $\\frac{\\partial C}{\\partial t} + r_f S\\frac{\\partial C}{partial S} + \\frac{1}{2}\\sigma^2 S^2 \\frac{\\partial^2C}{\\partial S^2} - r_fC = 0$\n",
        "\n",
        "  - Eq de frontera: $C = max(S - X,\\ 0),\\ cuando\\ t\\ =\\ T$\n",
        "\n",
        "  - A partir de lo anterior, se obtiene el precio de un Call y Put Europeas:\n",
        "\n",
        "    - $C = S_0N(d_1) - Xe^{-r_fT}N(d_2)$\n",
        "    \n",
        "    - $P = Xe^{-r_fT}N(-d_2) - S_0N(-d_1)$\n",
        "    \n",
        "    Donde\n",
        "\n",
        "    - $d_1 = \\frac{ln(S_0/X)+(r_f+\\sigma^2/2)T}{\\sigma\\sqrt{T}}$\n",
        "\n",
        "    - ***$N(\\pm d_1)$. Positivo es equivalente a la razón de cobertura para la call. En el caso negativo, es equivalente a la razón de cobertura de la put***\n",
        "\n",
        "    - $d_2 = d_1 - \\sigma\\sqrt{T}$\n",
        "\n",
        "    - ***$N(\\pm d_2)$ Probabilidad bajo la distribución neutral al riesgo de que la put y la call sean ejercidas, que terminen in de money***\n",
        "\n",
        "    - Cuando $S_0 \\rightarrow \\infty$ el valor de la call converge a su valor intrínsico ajustado. Cuando $S_0 \\rightarrow 0$, el valor de la put converge a su valor intrínsico ajustado.\n",
        "\n",
        "- Si conocemos el precio de una opción europea y todos sus determinantes, podemos recuperar la volatilidad implícita (e.g. índice VIX), a través de un algoritmo de minización para encontrar el sigma que minimiza la diferencia entre el precio observado de la opción y su fórmula.\n",
        "\n",
        "  $argmin_{\\sigma}[C-(S_0N(d_1)-Xe^{-rfT} N(d_2))]^2$\n",
        "\n",
        "  $s.t.\\  d_1=\\frac{ln(S_0/X)+r_f+\\sigma^2/2)T}{\\sigma\\sqrt T},\\ d_2 = d_1 - \\sigma\\sqrt{T}$"
      ]
    },
    {
      "cell_type": "markdown",
      "metadata": {
        "id": "KV6tzFCEob0n"
      },
      "source": [
        "### Opciones europeas con pago de dividendos\n",
        "\n",
        "- Reemplazamos el precio spot del activo por el precio spot menos el valor presente del dividendo\n",
        "  - $C = (S_0 - De^{-rfT})N(d_1) - Xe^{-rfT}N(d2)$\n",
        "  \n",
        "  - $P = Xe^{-rfT}N(-d2) - (S_0 - De^{-rfT})N(-d_1)$\n",
        "\n",
        "  - $d_1=\\frac{ln(S_0 - De^{-rfT}/X)+(r_f+\\sigma^2/2)T}{\\sigma\\sqrt T},\\ d_2 = d_1 - \\sigma\\sqrt{T}$\n",
        "\n",
        "  - $C = (S_0*e^{-dT})N(d_1) - Xe^{-rfT}N(d2)$\n",
        "  \n",
        "  - $P = Xe^{-rfT}N(-d2) - (S_0*e^{-dT})N(-d_1)$\n",
        "\n",
        "  - $d_1=\\frac{ln(S_0*e^{-dT}/X)+(r_f+\\sigma^2/2)T}{\\sigma\\sqrt T},\\ d_2 = d_1 - \\sigma\\sqrt{T}$"
      ]
    },
    {
      "cell_type": "code",
      "metadata": {
        "colab": {
          "base_uri": "https://localhost:8080/"
        },
        "id": "S3o5747_d_J8",
        "outputId": "5f34ccd6-3781-4d5a-9ad4-8146bcb2d906"
      },
      "source": [
        "from scipy.stats import norm\n",
        "s0 = 930\n",
        "X = 900\n",
        "rf = 0.08\n",
        "sigma = 0.2\n",
        "div1 = 0.002\n",
        "div2 = 0.003\n",
        "T = 2/12\n",
        "div = (div1*0.5+div2*0.5)*12\n",
        "\n",
        "vpd = np.exp(-div*T)\n",
        "d1 = (np.log((s0*vpd)/X) + (rf + (sigma**2)/2)*T)/(sigma*np.sqrt(T))\n",
        "d2 = d1 - sigma * np.sqrt(T)\n",
        "\n",
        "c = (s0*vpd)*norm.cdf(d1) - X*np.exp(-rf*T)*norm.cdf(d2)\n",
        "\n",
        "print(f'Los valores relevantes de la valoración de la opción son:\\n\\\n",
        "d1: {round(d1, 2)}\\n\\\n",
        "d1: {round(d2, 2)}\\n\\\n",
        "Dados los valores anteriores, al aplicar BSM el valor de la call es: {round(c, 2)}')"
      ],
      "execution_count": 11,
      "outputs": [
        {
          "output_type": "stream",
          "name": "stdout",
          "text": [
            "Los valores relevantes de la valoración de la opción son:\n",
            "d1: 0.54\n",
            "d1: 0.46\n",
            "Dados los valores anteriores, al aplicar BSM el valor de la call es: 51.83\n"
          ]
        }
      ]
    },
    {
      "cell_type": "code",
      "metadata": {
        "id": "XXLH8c1ir9N9"
      },
      "source": [
        "class BSMOptions:\n",
        "  def __init__(self, s0, X, rf, sigma, div, T, option):\n",
        "    self.s0 = s0\n",
        "    self.X = X\n",
        "    self.rf = rf\n",
        "    self.sigma = sigma\n",
        "    self.div = div\n",
        "    self.T = T\n",
        "    self.option = option\n",
        "\n",
        "  def price(self):\n",
        "    import numpy as np\n",
        "    from scipy.stats import norm\n",
        "    if np.isnan(self.div):\n",
        "      d1 = (np.log((self.s0)/self.X) + (self.rf + (self.sigma**2)/2)*T)/(self.sigma*np.sqrt(self.T))\n",
        "      d2 = d1 - self.sigma * np.sqrt(self.T)\n",
        "\n",
        "      if self.option == \"call\":\n",
        "        price = (self.s0)*norm.cdf(d1) - self.X*np.exp(-self.rf*self.T)*norm.cdf(d2)\n",
        "      elif self.option == \"put\":\n",
        "        price = self.X*np.exp(-self.rf*self.T)*norm.cdf(-d2) - (self.s0)*norm.cdf(-d1)\n",
        "      else:\n",
        "        print(\"ingrese opción válida\")\n",
        "        price = 0\n",
        "    else:\n",
        "      vpd = np.exp(-self.div*self.T)\n",
        "      d1 = (np.log((self.s0*vpd)/self.X) + (self.rf + self.sigma**2/2)*self.T)/(self.sigma*np.sqrt(self.T))\n",
        "      d2 = d1 - self.sigma * np.sqrt(self.T)\n",
        "\n",
        "      if self.option == \"call\":\n",
        "        price = (self.s0*vpd)*norm.cdf(d1) - self.X*np.exp(-self.rf*self.T)*norm.cdf(d2)\n",
        "      elif self.option == \"put\":\n",
        "        price = self.X*np.exp(-self.rf*self.T)*norm.cdf(-d2) - (self.s0*vpd)*norm.cdf(-d1)\n",
        "      else:\n",
        "        print(\"ingrese opción válida\")\n",
        "        price = 0\n",
        "    return price\n",
        "\n",
        "  def parity(self, price):\n",
        "    import numpy as np\n",
        "    if np.isnan(self.div):\n",
        "      if self.option == \"call\":\n",
        "        par = price + self.X*(1+self.rf)**-self.T - self.s0\n",
        "      elif self.option == \"put\":\n",
        "        par = price - self.X*(1+self.rf)**-self.T + self.s0\n",
        "      else:\n",
        "        print(\"ingrese opción válida\")\n",
        "        par = 0\n",
        "    else:\n",
        "      vpd = np.exp(-self.div*self.T)\n",
        "      if self.option == \"call\":\n",
        "        vpd = np.exp(-self.div*self.T)\n",
        "        par = price + self.X*(1+self.rf)**-self.T - self.s0*vpd\n",
        "      elif self.option == \"put\":\n",
        "        par = price - self.X*(1+self.rf)**-self.T + self.s0*vpd\n",
        "      else:\n",
        "        print(\"ingrese opción válida\")\n",
        "        par = 0\n",
        "    return par"
      ],
      "execution_count": 12,
      "outputs": []
    },
    {
      "cell_type": "code",
      "metadata": {
        "colab": {
          "base_uri": "https://localhost:8080/"
        },
        "id": "C9B1FHHDvPdI",
        "outputId": "c35ea158-fda0-4813-c5c6-353345b40852"
      },
      "source": [
        "p1 = BSMOptions(s0 = 930, X = 900, rf = 0.08, sigma=0.2, div=0.03, T = 2/12, option=\"call\")\n",
        "pp1 = p1.price()\n",
        "print(pp1)\n",
        "parp1 = p1.parity(pp1)\n",
        "print(parp1)"
      ],
      "execution_count": 13,
      "outputs": [
        {
          "output_type": "stream",
          "name": "stdout",
          "text": [
            "51.83295679649086\n",
            "15.000916956714832\n"
          ]
        }
      ]
    },
    {
      "cell_type": "code",
      "metadata": {
        "colab": {
          "base_uri": "https://localhost:8080/"
        },
        "id": "IKw4zzeI9N_j",
        "outputId": "8abaf949-89b3-4a17-c107-d68aaddd7ff2"
      },
      "source": [
        "p2 = BSMOptions(s0 = 930, X = 900, rf = 0.08, sigma=0.2, div=0.03, T = 2/12, option=\"put\")\n",
        "pp2 = p2.price()\n",
        "print(pp2)"
      ],
      "execution_count": 14,
      "outputs": [
        {
          "output_type": "stream",
          "name": "stdout",
          "text": [
            "14.550996773772397\n"
          ]
        }
      ]
    },
    {
      "cell_type": "markdown",
      "metadata": {
        "id": "kpDtH8DG6HVB"
      },
      "source": [
        "## Clase 4\n",
        "\n",
        "### Call Americana con Dividendos\n",
        "\n",
        "- Al haber dividendos puede ser óptimo ejercer la opción antes de la madurez.\n",
        "\n",
        "- $C_n > S_{t_n}-D_n-Xe^{-rf(T-t_n)}$\n",
        "\n",
        "- Solo tendrá sentido ejercer la opción si se cumple lo siguiente:\n",
        "\n",
        "  - $S_{t_n} - D_n - Xe^{-rf(T-t_n)} < S_{t_n}-X$\n",
        "  - Si ordenamos:\n",
        "\n",
        "  - $D_n > X[1-e^{-r_f(T-t_n)}] \\approx d_n > r_f(T - t_n)$\n",
        "\n",
        "  - Si la rentabilidad del dividendo es mayor que la tasa libre de riesgo en ese intervalo de tiempo $(T-t_n)$, entonces es más rentable ejercer la opción. El único dividendo que tiene probabilidad de ser ejercido es el más cercano a la madurez, a menos que se tenga un dividend yield muy grande. Esto fundamenta la aproximación de Black que veremos a continuación.\n",
        "\n",
        "  - $d_i>r_f(t_{i+1}-t_i)$\n",
        "\n",
        "#### Aproximación Precio Call Americana con Dividendo\n",
        "\n",
        "- Calcular el precio de call europea que vence en T\n",
        "\n",
        "- Luego calcular el precio de una call europea con madurez en $t_n$\n",
        "\n",
        "- Finalmente, me quedo con el mayor valor entre los dos calculados anteriormente\n",
        "\n",
        "- La forma de corroborar si el precio por aproximación está correcto o no, es a través de un árbol binomial\n"
      ]
    },
    {
      "cell_type": "markdown",
      "metadata": {
        "id": "92q89v016KHO"
      },
      "source": [
        "### Estimación empírica de la volatilidad\n",
        "\n",
        "- Retorno del precio de la acción:\n",
        "\n",
        "  $u_i = ln(\\frac{S_i}{S_i-1}),\\ i = 1,..., n$\n",
        "\n",
        "- Desviación estándar diaria del precio del activo:\n",
        "\n",
        "  $\\hat{\\sigma_\\tau} = \\sqrt{\\frac{1}{n-1}\\Sigma^{n}_{1}(u_i - \\bar{u})^{2}},\\\\ \\hat{\\sigma} = \\hat{\\sigma_\\tau}*\\sqrt{\\tau}$\n",
        "\n",
        "- El error estándar (para formar, por ejemplo, intervalos de confianza) es:\n",
        "\n",
        "  $\\hat{\\sigma}/ \\sqrt{2n}$\n",
        "\n",
        "- ***La madurez de la opción en años será\n",
        "$T = \\frac{n\\ de\\ días\\ de\\ transacción}{252}$***\n",
        "\n"
      ]
    },
    {
      "cell_type": "markdown",
      "metadata": {
        "id": "pJnYpGzSbaO7"
      },
      "source": [
        "### Precio de la opción europea por Simulación de Montecarlo\n",
        "\n",
        "- Podemos obtener el precio de las opciones se la siguiente manera:\n",
        "  - Generamos errores estocásticos $\\varepsilon^{j} \\sim N(0,\\ 1)$\n",
        "\n",
        "  - Obtenemos el precio del activo a la madurez en cada replicación:\n",
        "\n",
        "    $S^j_T = S_0exp[(r_f-\\frac{\\sigma^2}{2})T + \\sigma \\varepsilon^j \\sqrt{T}]$\n",
        "  \n",
        "  - Calculamos VP del pago de la opción en cada replicación:\n",
        "\n",
        "  - Obtenemos precio como promedio de los valores obtenidos anteriormente\n",
        "\n",
        "  - Generamos un intervalo de confianza al 95% para el precio de las opciones (la desviación estándar la obtenemos de los precios simulados y la dividimos por raiz de J)\n",
        "  ***INSERTAR ECUACIONES**\n",
        "\n",
        "- Otra opción es simular el árbol binomial. ara esto debemos:\n",
        "  - Calcular $\\Delta t = T/n,\\\\u = exp(\\sigma\\sqrt{\\Delta t}),\\\\d=1/u,\\\\p^* = (e^{rf\\Delta t}-d)/(u-d)$\n",
        "\n",
        "  - Generamos un vector con n probabilidades estocásticas $p^{j}\\sim U(0,1)$ y definimos $\\delta$ como el número de elementos dentro del vector que cumple con ser $< (1-p^{*})$\n",
        "\n",
        "  - Obtenemos el precio del activo a la madurez en cada replicación:\n",
        "    $S_T^j = S_0d^{\\delta}u^{(n-\\delta)}$\n",
        "  \n",
        "  - Calculamos valor presente de la opción en cada replicación:\n",
        "\n",
        "    $C^{j} = [max(S_T^j-X,\\ 0)]*e^{-r_fT}$\n",
        "\n",
        "    $P^{j} = [max(X-S_T^j,\\ 0)]*e^{-r_fT}$\n",
        "\n",
        "  - Obtenemos el precio de la opción como el promedio y calculamos el intervalo de confianza.\n",
        "\n",
        "### Precio opción exótica por Simulación de Montecarlo\n",
        "\n",
        "- Necesitamos considerar toda la historia del precio del activo subyacente.\n",
        "\n",
        "- Simularemos el árbol binomial, pero con las trayectorias completas.\n",
        "\n",
        "  - Generamos un vector con n probabilidades con distribución uniforme entre 0 y 1.\n",
        "\n",
        "  - De esta manera, vamos generando la trayectoria del árbol hacia adelante.\n",
        "\n",
        "  - Calculamos el VP del pago de la opción en cada replicación con el $S_{prom}^{j}$\n",
        "\n",
        "      $C^{j} = [max(S_{prom}^{j}-X,\\ 0)]*e^{-r_fT}$\n",
        "\n",
        "      $P^{j} = [max(X-S_{prom}^{j},\\ 0)]*e^{-r_fT}$\n",
        "\n",
        "  - Obtenemos el precio de la opción como el promedio de lo obtenido anteriormente y generamos un intervalo de confianza."
      ]
    },
    {
      "cell_type": "markdown",
      "metadata": {
        "id": "Y8cv0Nv3zDF8"
      },
      "source": [
        "## Clase 5: Letras Griegas, Swaps y FRA\n"
      ]
    },
    {
      "cell_type": "markdown",
      "metadata": {
        "id": "H3k3-fFeMA8O"
      },
      "source": [
        "### Delta - Hedge\n",
        "\n",
        "- El delta de una Call y una Put corresponden a:\n",
        "\n",
        "  $\\Delta_C = \\frac{\\partial C}{\\partial S} = N(d_1)$\n",
        "\n",
        "  $\\Delta_P = \\frac{\\partial P}{\\partial S} = N(d_1) - 1$\n",
        "\n",
        "- La cobertura del portafolio en base al delta es dinámica, debe ajustarse permanentemente.\n",
        "\n",
        "- Un portafolio es delta neutral cuando es inmune a cambios en el precio del activo subyacente\n",
        "\n",
        "  $\\Delta_\\Pi = \\frac{\\partial \\Pi}{\\partial S} = 0$"
      ]
    },
    {
      "cell_type": "code",
      "metadata": {
        "colab": {
          "base_uri": "https://localhost:8080/"
        },
        "id": "jVE43-Z-qX1Y",
        "outputId": "201d4a5e-4411-4ced-89d3-d138cc2d9a19"
      },
      "source": [
        "nc = 2000\n",
        "c = 10\n",
        "acc = 100\n",
        "delta = 0.6\n",
        "n_cobertura = delta*nc\n",
        "n_cobertura"
      ],
      "execution_count": 15,
      "outputs": [
        {
          "output_type": "execute_result",
          "data": {
            "text/plain": [
              "1200.0"
            ]
          },
          "metadata": {},
          "execution_count": 15
        }
      ]
    },
    {
      "cell_type": "code",
      "metadata": {
        "colab": {
          "base_uri": "https://localhost:8080/"
        },
        "id": "xM-kK8wt663T",
        "outputId": "019e280f-755f-442c-b87d-1ee4df7bfef2"
      },
      "source": [
        "nc = 2000\n",
        "c = 10\n",
        "acc = 110\n",
        "delta = 0.65\n",
        "n_cobertura = delta*nc\n",
        "n_cobertura"
      ],
      "execution_count": 16,
      "outputs": [
        {
          "output_type": "execute_result",
          "data": {
            "text/plain": [
              "1300.0"
            ]
          },
          "metadata": {},
          "execution_count": 16
        }
      ]
    },
    {
      "cell_type": "markdown",
      "metadata": {
        "id": "eWCcVEK-67jq"
      },
      "source": [
        "- Un portafolio con $N$ opciones sobre el mismo activo tiene un delta de las opciones:\n",
        "\n",
        "  $\\Delta = \\Sigma^{N}_{1}w_i*\\Delta_i$"
      ]
    },
    {
      "cell_type": "code",
      "metadata": {
        "colab": {
          "base_uri": "https://localhost:8080/"
        },
        "id": "sfv_OBiw8va2",
        "outputId": "086e3c77-9a26-4677-bcea-92da0aab3380"
      },
      "source": [
        "neta = -150000\n",
        "call = 100000\n",
        "Xc = 55\n",
        "Tc = 3/12\n",
        "delta_i = .533\n",
        "call_2 = -200000\n",
        "Xc2 = 56\n",
        "Tc2 = 5/12\n",
        "delta_j = .468\n",
        "put = -50000\n",
        "Xp = 56\n",
        "Tp = 2/12\n",
        "delta_k = -.508\n",
        "\n",
        "delta = call/neta*delta_i + call_2/neta*delta_j + put/neta*delta_k\n",
        "\n",
        "print(f'La cartera puede hacerse delta-neutral comprando {round(delta*neta*-1, 1)} acciones')"
      ],
      "execution_count": 17,
      "outputs": [
        {
          "output_type": "stream",
          "name": "stdout",
          "text": [
            "La cartera puede hacerse delta-neutral comprando 14900.0 acciones\n"
          ]
        }
      ]
    },
    {
      "cell_type": "markdown",
      "metadata": {
        "id": "NEZmOO9s906N"
      },
      "source": [
        "### Gamma - Hedge\n",
        "\n",
        "- El gamma corresponde a la segunda derivada del valor del portafolio respecto al precio del activo. ***Cambio en el $\\Delta$ del portafolio***\n",
        "\n",
        "  $\\Gamma_\\Pi = \\frac{\\partial ^{2}\\Pi}{\\partial S^{2}} = \\frac{\\partial \\Delta_\\Pi}{\\partial S}$\n",
        "\n",
        "  $\\Gamma = \\frac{\\partial^2C}{\\partial S^2} = \\frac{\\partial^2P}{\\partial S^2} = \\frac{\\partial\\Delta}{\\partial S} = \\frac{N'(d_1)}{S_0 \\sigma\\sqrt T} = \\frac{\\frac{1}{\\sqrt{2\\pi}}e^{-d_1/2}}{S_0 \\sigma\\sqrt T}$\n",
        "\n",
        "- El delta es una aproximación lineal, mientras que el gamma es una aproximación de segundo orden (duración y convexidad).\n",
        "\n",
        "- Mientras mayores los cambios en el precio del subyacente, pero la cobertura basada exclusivamente en delta y mejor la basada en delta + gamma.\n",
        "\n",
        "- Para un portafolio gamma  neutral, no se puede modificar el número de acciones del portafolio, sino que se deben incorporar opciones que tengan una relación no lineal con el subyacente. Suonga que una opción en el mercado tiene una relación no lineal con el activo y tiene un gamma $\\Gamma'$\n",
        "\n",
        "  $w'_\\Gamma = -\\frac{\\Gamma}{\\Gamma '}\\Rightarrow\\Gamma_\\Pi = \\Gamma + w'_\\Gamma*\\Gamma' = 0$\n",
        "\n",
        "- Al incorporar opciones al portafolio, eventualmente habrá que cambiar el número de acciones para mantenerlo delta-neutral\n",
        "\n",
        "- Si el portafolio delta-neutral tiene $\\Gamma = -3000$ y una Call no lineal tiene $\\Delta' = 0.62$ y $\\Gamma'=1.50$, comprando 2000 opciones y vendiendo 1240 acciones, el portafolio se hace delta y gamma neutral\n",
        "\n",
        "### Vega - Hedge\n",
        "\n",
        "- El vega de un portafolio corresponde al cambio en su valor ante un cambio en la volatilidad del activo subyacente\n",
        "\n",
        "  $V_\\Pi = \\frac{\\partial \\Pi}{\\partial \\sigma}$\n",
        "\n",
        "- El vega de la opción esta dado por:\n",
        "  \n",
        "  $V = \\frac{\\partial C}{\\partial \\sigma} = \\frac{\\partial P}{\\partial \\sigma} = S_0\\sigma\\sqrt{T}N'(d_1)$\n",
        "\n",
        "- Para hacer un portafolio vega-neutral se debe incorporar opciones no lineales con el subyacente:\n",
        "\n",
        "  $V_\\Pi =  + w'_VV' = 0,\\ w'_V = -\\frac{V}{V'}$"
      ]
    },
    {
      "cell_type": "code",
      "metadata": {
        "colab": {
          "base_uri": "https://localhost:8080/"
        },
        "id": "is_gihX-Tn2Q",
        "outputId": "c59e1ee5-acb7-42a9-affc-8385c92ec5fc"
      },
      "source": [
        "delta_p = 0\n",
        "gamma_p = -5000\n",
        "vega_p = -8000\n",
        "\n",
        "delta_o1 = 0.6\n",
        "gamma_o1 = 0.5\n",
        "vega_o1 = 2\n",
        "\n",
        "delta_o2 = 0.5\n",
        "gamma_o2 = 0.8\n",
        "vega_o2 = 1.2\n",
        "\n",
        "from sympy import symbols, Eq, solve\n",
        "\n",
        "x, y = symbols('x y')\n",
        "eq1 = Eq(gamma_p + gamma_o1*x + gamma_o2*y)\n",
        "eq2 = Eq(vega_p + vega_o1*x + vega_o2*y)\n",
        "resul = solve((eq1, eq2), (x, y))\n",
        "\n"
      ],
      "execution_count": 18,
      "outputs": [
        {
          "output_type": "stream",
          "name": "stderr",
          "text": [
            "/usr/local/lib/python3.7/dist-packages/sympy/core/relational.py:496: SymPyDeprecationWarning: \n",
            "\n",
            "Eq(expr) with rhs default to 0 has been deprecated since SymPy 1.5.\n",
            "Use Eq(expr, 0) instead. See\n",
            "https://github.com/sympy/sympy/issues/16587 for more info.\n",
            "\n",
            "  deprecated_since_version=\"1.5\"\n"
          ]
        }
      ]
    },
    {
      "cell_type": "code",
      "metadata": {
        "colab": {
          "base_uri": "https://localhost:8080/"
        },
        "id": "LAZ3fga6GmBh",
        "outputId": "7fcd080f-3038-4d24-cc36-f90628de315b"
      },
      "source": [
        "print(f'Para que el portafolio sea delta neutral, se deben vender {resul[x]*delta_o1 + resul[y]*delta_o2} acciones')"
      ],
      "execution_count": 19,
      "outputs": [
        {
          "output_type": "stream",
          "name": "stdout",
          "text": [
            "Para que el portafolio sea delta neutral, se deben vender 3240.00000000000 acciones\n"
          ]
        }
      ]
    },
    {
      "cell_type": "markdown",
      "metadata": {
        "id": "85135AS2JVTK"
      },
      "source": [
        "### Swaps\n",
        "\n",
        "- Es un acuerdo OTC entre dos empresas para intercambiar flujos en el futuro.\n",
        "\n",
        "- Se puede entender como una secuencia de contratos a futuro.\n",
        "\n",
        "- Considere un swap de 3 años iniciado el 5 de marzo de 2014 en que A paga fijo $5\\%$ anual sobre capital de 100 y B paga LIBOR a 6 meses. Los pagos son cada 6 meses"
      ]
    },
    {
      "cell_type": "code",
      "metadata": {
        "id": "uyzHDgAYmxtY"
      },
      "source": [
        "fechas = np.array(['2014-03-05', '2014-09-05', '2015-03-05', '2015-09-05', '2016-03-05', '2016-09-05', '2017-03-05'])\n",
        "\n",
        "libor = np.array([4.2, 4.8, 5.3, 5.5, 5.6, 5.9])\n",
        "\n",
        "variable = np.zeros(len(libor))\n",
        "\n",
        "fijo = np.zeros(len(libor))\n",
        "\n",
        "neto = np.zeros(len(libor))\n",
        "\n",
        "for i in range(len(libor)):\n",
        "  variable[i] = libor[i]/(2*100)*100\n",
        "  fijo[i] = 0.05/2*100\n",
        "  neto[i] = variable[i] - fijo[i]"
      ],
      "execution_count": 20,
      "outputs": []
    },
    {
      "cell_type": "code",
      "metadata": {
        "colab": {
          "base_uri": "https://localhost:8080/",
          "height": 266
        },
        "id": "LIstBeJHY3Yq",
        "outputId": "53a97e8e-ca86-4df0-9186-f735ccc84c84"
      },
      "source": [
        "import pandas as pd\n",
        "\n",
        "swap = pd.DataFrame({'Fechas': fechas,\n",
        "                     'LIBOR': np.append(libor, [0]),\n",
        "                     'Variable': np.append([0], variable),\n",
        "                     'Fijo': np.append([0], fijo),\n",
        "                     'Neto': np.append([0], neto)})\n",
        "swap"
      ],
      "execution_count": 21,
      "outputs": [
        {
          "output_type": "execute_result",
          "data": {
            "text/html": [
              "<div>\n",
              "<style scoped>\n",
              "    .dataframe tbody tr th:only-of-type {\n",
              "        vertical-align: middle;\n",
              "    }\n",
              "\n",
              "    .dataframe tbody tr th {\n",
              "        vertical-align: top;\n",
              "    }\n",
              "\n",
              "    .dataframe thead th {\n",
              "        text-align: right;\n",
              "    }\n",
              "</style>\n",
              "<table border=\"1\" class=\"dataframe\">\n",
              "  <thead>\n",
              "    <tr style=\"text-align: right;\">\n",
              "      <th></th>\n",
              "      <th>Fechas</th>\n",
              "      <th>LIBOR</th>\n",
              "      <th>Variable</th>\n",
              "      <th>Fijo</th>\n",
              "      <th>Neto</th>\n",
              "    </tr>\n",
              "  </thead>\n",
              "  <tbody>\n",
              "    <tr>\n",
              "      <th>0</th>\n",
              "      <td>2014-03-05</td>\n",
              "      <td>4.2</td>\n",
              "      <td>0.00</td>\n",
              "      <td>0.0</td>\n",
              "      <td>0.00</td>\n",
              "    </tr>\n",
              "    <tr>\n",
              "      <th>1</th>\n",
              "      <td>2014-09-05</td>\n",
              "      <td>4.8</td>\n",
              "      <td>2.10</td>\n",
              "      <td>2.5</td>\n",
              "      <td>-0.40</td>\n",
              "    </tr>\n",
              "    <tr>\n",
              "      <th>2</th>\n",
              "      <td>2015-03-05</td>\n",
              "      <td>5.3</td>\n",
              "      <td>2.40</td>\n",
              "      <td>2.5</td>\n",
              "      <td>-0.10</td>\n",
              "    </tr>\n",
              "    <tr>\n",
              "      <th>3</th>\n",
              "      <td>2015-09-05</td>\n",
              "      <td>5.5</td>\n",
              "      <td>2.65</td>\n",
              "      <td>2.5</td>\n",
              "      <td>0.15</td>\n",
              "    </tr>\n",
              "    <tr>\n",
              "      <th>4</th>\n",
              "      <td>2016-03-05</td>\n",
              "      <td>5.6</td>\n",
              "      <td>2.75</td>\n",
              "      <td>2.5</td>\n",
              "      <td>0.25</td>\n",
              "    </tr>\n",
              "    <tr>\n",
              "      <th>5</th>\n",
              "      <td>2016-09-05</td>\n",
              "      <td>5.9</td>\n",
              "      <td>2.80</td>\n",
              "      <td>2.5</td>\n",
              "      <td>0.30</td>\n",
              "    </tr>\n",
              "    <tr>\n",
              "      <th>6</th>\n",
              "      <td>2017-03-05</td>\n",
              "      <td>0.0</td>\n",
              "      <td>2.95</td>\n",
              "      <td>2.5</td>\n",
              "      <td>0.45</td>\n",
              "    </tr>\n",
              "  </tbody>\n",
              "</table>\n",
              "</div>"
            ],
            "text/plain": [
              "       Fechas  LIBOR  Variable  Fijo  Neto\n",
              "0  2014-03-05    4.2      0.00   0.0  0.00\n",
              "1  2014-09-05    4.8      2.10   2.5 -0.40\n",
              "2  2015-03-05    5.3      2.40   2.5 -0.10\n",
              "3  2015-09-05    5.5      2.65   2.5  0.15\n",
              "4  2016-03-05    5.6      2.75   2.5  0.25\n",
              "5  2016-09-05    5.9      2.80   2.5  0.30\n",
              "6  2017-03-05    0.0      2.95   2.5  0.45"
            ]
          },
          "metadata": {},
          "execution_count": 21
        }
      ]
    },
    {
      "cell_type": "markdown",
      "metadata": {
        "id": "577uM8F7eRUy"
      },
      "source": [
        "- Dado que los flujos del swap son equivalentes a la diferencia de pagos de bonos con tasa fija versus flotante, el $VP$ del swap corresponderá a:\n",
        "\n",
        "  - $V_{swap} = B_f-B_v\\ ó\\ V_{swap} = B_v - B_f$\n",
        "\n"
      ]
    },
    {
      "cell_type": "markdown",
      "metadata": {
        "id": "mFh6KrQ6xxsl"
      },
      "source": [
        "## Ejercicios\n",
        "\n",
        "1. Suponga que en el tiempo 0 celebramos un contrato a 1 año con precio 105. Nueve meses después el precio observado de la acción es 110 y la tasa de interés anual es de $5\\%$. El valor del contrato a futuro que vence 3 meses es más cercano a:\\\n",
        "$V_t = S_t - F_0(1+r_f)^{-(T-t)}$"
      ]
    },
    {
      "cell_type": "code",
      "metadata": {
        "colab": {
          "base_uri": "https://localhost:8080/"
        },
        "id": "KCR1o6sUWLTx",
        "outputId": "7bc8d245-fe8b-4c16-8226-9035ccc4c836"
      },
      "source": [
        "st = 110\n",
        "f0 = 105\n",
        "rf = 0.05\n",
        "T = 1\n",
        "t = 9/12\n",
        "vt = st-f0*(1+rf)**(-(T-t))\n",
        "\n",
        "vt"
      ],
      "execution_count": 22,
      "outputs": [
        {
          "output_type": "execute_result",
          "data": {
            "text/plain": [
              "6.272962520577224"
            ]
          },
          "metadata": {},
          "execution_count": 22
        }
      ]
    },
    {
      "cell_type": "markdown",
      "metadata": {
        "id": "RZ5bgxjpWlyH"
      },
      "source": [
        "2. El dividend yield del EURO STOXX 50 es de $3\\%$ anual y nivel actual del índice bursátil es de 3500. La tasa de interés anual es del $0.15\\%$. El precio futuro a 3 meses es más cercano a:\\\n",
        "$F_0=S_0(1+r_f−d)^T$"
      ]
    },
    {
      "cell_type": "code",
      "metadata": {
        "colab": {
          "base_uri": "https://localhost:8080/"
        },
        "id": "XWE6kMSHqRp3",
        "outputId": "73b129cd-afbb-44e0-cae9-f7ab0d150a0f"
      },
      "source": [
        "s0 = 3.5\n",
        "rf = 0.0015\n",
        "d = 0.03\n",
        "T = 3/12\n",
        "\n",
        "f0 = s0*(1+rf-d)**(T)\n",
        "\n",
        "f0"
      ],
      "execution_count": 23,
      "outputs": [
        {
          "output_type": "execute_result",
          "data": {
            "text/plain": [
              "3.4747914608652444"
            ]
          },
          "metadata": {},
          "execution_count": 23
        }
      ]
    },
    {
      "cell_type": "markdown",
      "metadata": {
        "id": "1AmR1PJkqx1A"
      },
      "source": [
        "3. Acciones ordinarias de Nestlé se cotizan a CHF $\\$70$ y pagan CHF $\\$2.20$ de dividendo en un mes. La tasa libre de riesgo suiza es de $1\\%$ anual. Suponga que la acción sale ex-dividendo el mismo día que expira el contrato futuro. El futuro vence en un mes. El precio futuro a un mes para las acciones ordinarias de Nestlé es más cercano a:\\\n",
        "$F_0=S_0(1+r_f)^T−D$"
      ]
    },
    {
      "cell_type": "code",
      "metadata": {
        "colab": {
          "base_uri": "https://localhost:8080/"
        },
        "id": "jmixB80Zs3as",
        "outputId": "229e922c-42a3-48bd-e1a2-c863c03ad35c"
      },
      "source": [
        "s0 = 70\n",
        "rf = 0.01\n",
        "T = 1/12\n",
        "D = 2.2\n",
        "\n",
        "f0 = s0*(1+rf)**T-D\n",
        "\n",
        "f0"
      ],
      "execution_count": 24,
      "outputs": [
        {
          "output_type": "execute_result",
          "data": {
            "text/plain": [
              "67.85806766800422"
            ]
          },
          "metadata": {},
          "execution_count": 24
        }
      ]
    },
    {
      "cell_type": "markdown",
      "metadata": {
        "id": "W71rKzF5xV60"
      },
      "source": [
        "4. Tipo de Cambio actual es $0.792$ por euro. Las tasas libres de riesgo $0.01$ para la libra esterlina y del $0.003$ para el euro. El tipo de cambio a un año es más cercano a:\\\n",
        "$F_0 = E_0(\\frac{1+r_f}{1+r_f^*})^T$\n"
      ]
    },
    {
      "cell_type": "code",
      "metadata": {
        "colab": {
          "base_uri": "https://localhost:8080/"
        },
        "id": "z65oP9Qz3C8k",
        "outputId": "af63f96c-dc4a-47ba-b00e-f6a99fdf3eb7"
      },
      "source": [
        "e0 = 0.792\n",
        "rf_libra = 0.01\n",
        "rf_eur = 0.3/100\n",
        "T = 1\n",
        "\n",
        "f0 = e0*((1+rf_libra)/(1+rf_eur))**T\n",
        "\n",
        "f0"
      ],
      "execution_count": 25,
      "outputs": [
        {
          "output_type": "execute_result",
          "data": {
            "text/plain": [
              "0.7975274177467598"
            ]
          },
          "metadata": {},
          "execution_count": 25
        }
      ]
    },
    {
      "cell_type": "markdown",
      "metadata": {
        "id": "4StTvrxL4ZcF"
      },
      "source": [
        "5. Una corporación vendió $10.000.000$ a futuro al tipo de cambio $0.8\\ GBP/EUR$ en el momento $t=0$. El tipo de cambio spot en $t$ es tal que $0.75\\ GBP/EUR$ y las tasas libres de riesgo anuales $0.80\\%$ para la $GBP\\ $  $0.40\\%$ para el $EUR$.\\\n",
        "Suponga que en el momento t hay tres meses hasta el vencimiento del contrato a plazo.\\\n",
        "El tipo de cambio futuro en el momento $t$ es más cercano a:\\\n",
        "$F_0 = E_0(\\frac{1+r_f}{1+r_f^*})^T$\\\n",
        "El valor del contrato a futuro de divisas en el momento $t$ es:\\\n",
        "$V_t = S_t - F_0(1+r_f)^{-(T-t)} = \\frac{(F_0 - F_t)}{(1+r_f)^{T}}\\ \\star$\n",
        "\n",
        "$\\star$ Consideramos $F_0-F_t$ pues es una posición corta"
      ]
    },
    {
      "cell_type": "code",
      "metadata": {
        "colab": {
          "base_uri": "https://localhost:8080/"
        },
        "id": "qsXvTUbh8Yh9",
        "outputId": "2505f4cf-13a8-482a-8566-b8990f11a371"
      },
      "source": [
        "et = 0.75\n",
        "nocional = 10000000\n",
        "T = 3/12\n",
        "rf_gbp = 0.8/100\n",
        "rf_eur = 0.4/100\n",
        "ft = et*((1+rf_gbp)/(1+rf_eur))**T\n",
        "f0 = 0.8\n",
        "\n",
        "vt = round(((f0-ft)/(1+rf_gbp)**T), 4)*nocional\n",
        "\n",
        "print(ft, vt)"
      ],
      "execution_count": 26,
      "outputs": [
        {
          "output_type": "stream",
          "name": "stdout",
          "text": [
            "0.7507458984851448 492000.0\n"
          ]
        }
      ]
    },
    {
      "cell_type": "markdown",
      "metadata": {
        "id": "lJN-NFpcGxxU"
      },
      "source": [
        "6. Una cía. mantiene una posición larga en un contacto de futuros Nikkei 225 que vence en 3 meses. La rentabilidad por dividendo del índice es de $1.1\\%$ y el nivel actual es de 16.08. La tasa de interés anual es $0.2996\\%$. El precio actual del contrato de futuros Nikkei 225 es:\\\n",
        "$F_0=S_0(1+r_f−d)^T$"
      ]
    },
    {
      "cell_type": "code",
      "metadata": {
        "colab": {
          "base_uri": "https://localhost:8080/"
        },
        "id": "jY_jWqxbMxca",
        "outputId": "a8c2c586-f454-4e76-a3b0-2d1b7ac190ae"
      },
      "source": [
        "s0 = 16.080\n",
        "rf = 0.2996/100\n",
        "d = 1.1/100\n",
        "T = 3/12\n",
        "\n",
        "f0 = s0*(1+rf-d)**T\n",
        "\n",
        "f0"
      ],
      "execution_count": 27,
      "outputs": [
        {
          "output_type": "execute_result",
          "data": {
            "text/plain": [
              "16.047726890083915"
            ]
          },
          "metadata": {},
          "execution_count": 27
        }
      ]
    },
    {
      "cell_type": "markdown",
      "metadata": {
        "id": "dj2jWgivNKGq"
      },
      "source": [
        "7. Hace un mes el mismo operador de derivados compró contratos a futuro $EUR/JPY$ con 3 meses de vencimiento a un precio de $100.2$ (como \\% del valor par). El monto del contrato es de $JPY\\ 100.000.000\\ $ El precio futuro actual es $100.05$ y la tasa libre de riesgo anualizada es $0.3\\%$. El valor de la posición es:\\\n",
        "$V_t = S_t - F_0(1+r_f)^{-(T-t)} = \\frac{(F_t - F_0)}{(1+r_f)^{T}}$"
      ]
    },
    {
      "cell_type": "code",
      "metadata": {
        "colab": {
          "base_uri": "https://localhost:8080/"
        },
        "id": "HMYAh744gYEh",
        "outputId": "eb748947-9076-4cbe-972f-0f2834bb52b4"
      },
      "source": [
        "ft = 100.05\n",
        "f0 = 100.2\n",
        "rf = 0.3/100\n",
        "T = 3/12-1/12 # esto, pues se compró hace 1 mes\n",
        "nocional = 100000000\n",
        "\n",
        "vt = ((ft-f0)/(1+rf)**T)\n",
        "\n",
        "round(vt, 6)*nocional"
      ],
      "execution_count": 28,
      "outputs": [
        {
          "output_type": "execute_result",
          "data": {
            "text/plain": [
              "-14992500.0"
            ]
          },
          "metadata": {},
          "execution_count": 28
        }
      ]
    },
    {
      "cell_type": "markdown",
      "metadata": {
        "id": "ypGizkQMhZ6P"
      },
      "source": [
        "8. Un operador tiene una posición corta en un contrato a plazo $JPY/USD$ con un valor de $1.000.000$. Al inicio del contrato, el tipo de cambio era de $112.10$ yenes por dólar. El contrato futuro vence en 3 meses. El tipo de cambio actual es de $JPY\\ 112$ y las tasas anuales libres de riesgo son $JPY\\ -0.20\\%$ y $USD\\ 0.30\\%$. El valor de la posición es más cercano a:\\\n",
        "$F_0 = E_0(\\frac{1+r_f}{1+r_f^*})^T$\\\n",
        "\\\n",
        "$V_t = S_t - F_0(1+r_f)^{-(T-t)} = \\frac{(F_0 - F_t)}{(1+r_f)^{T}}$\n",
        "\n"
      ]
    },
    {
      "cell_type": "code",
      "metadata": {
        "colab": {
          "base_uri": "https://localhost:8080/"
        },
        "id": "9W9vni8PjP41",
        "outputId": "b2cdd11d-5c74-455f-9dce-6efebafc89de"
      },
      "source": [
        "f0 = 112.1\n",
        "et = 112\n",
        "rf_jpy = -.2/100\n",
        "rf_usd = .3/100\n",
        "T = 3/12\n",
        "nocional = 1000000\n",
        "\n",
        "ft = et*((1+rf_jpy)/(1+rf_usd))**T\n",
        "\n",
        "vt = (f0-ft)/(1+rf_jpy)**T\n",
        "\n",
        "vt*nocional, ft"
      ],
      "execution_count": 29,
      "outputs": [
        {
          "output_type": "execute_result",
          "data": {
            "text/plain": [
              "(239963.02127821618, 111.86015705032368)"
            ]
          },
          "metadata": {},
          "execution_count": 29
        }
      ]
    },
    {
      "cell_type": "markdown",
      "metadata": {
        "id": "-zftYXcckVDK"
      },
      "source": [
        "\n",
        "9. Asuma que el precio inicial de las acciones ordinarias de TSI es 250. El precio futuro por acción a nueve meses es de 250.562289. Tres meses después de la iniciación del contrato, el precio de las acciones ordinarias de TSI es 245. La tasa libre de riesgo anual es del 0.325\\%. TSI anunció recientemente su dividendo semestral de 1.50 por acción que se pagará exactamente 3 meses antes del vencimiento del contrato. El valor por acción de la posición corta en el contrato futuro de TSI, tres meses después del inicio contrato es más cercano a:\\\n",
        "\\\n",
        "$F_t = VF(S_t-VP(D_t+\\tau))$\\\n",
        "\\\n",
        "$V_t = \\frac{(F_0-F_t)}{(1+r_f)^{(T-t)}}$"
      ]
    },
    {
      "cell_type": "code",
      "metadata": {
        "colab": {
          "base_uri": "https://localhost:8080/"
        },
        "id": "08U568OYo8mx",
        "outputId": "1b9ed318-486a-4129-cdf7-656cfaa1e9d7"
      },
      "source": [
        "# se deben considerar las fracciones de tiempo mencionadas en el enunciado\n",
        "\n",
        "s0 = 250\n",
        "f0 = 250.562289\n",
        "s3 = 245\n",
        "rf = 0.325/100\n",
        "D = 1.5\n",
        "\n",
        "\n",
        "ft = (s3-(D)/(1+rf)**(6/12-3/12))*(1+rf)**(9/12-3/12) # en tres meses con dividendo que se paga 3 meses antes del vencimiento\n",
        "\n",
        "vt = (f0-ft)/(1+rf)**(9/12-3/12)\n",
        "\n",
        "ft, vt"
      ],
      "execution_count": 30,
      "outputs": [
        {
          "output_type": "execute_result",
          "data": {
            "text/plain": [
              "(243.89658478056347, 6.654898781213894)"
            ]
          },
          "metadata": {},
          "execution_count": 30
        }
      ]
    },
    {
      "cell_type": "markdown",
      "metadata": {
        "id": "IstLkzPpD-dq"
      },
      "source": [
        "10. Una acción que no paga dividendos se cotiza actualmente a 100 euros. Una call tiene un año de vencimiento, la tasa de interés libre de riesgo es 5,15\\% y el strike es 100 euros. Suponga un modelo de valoración binomial de un período, donde u=1.35 y d=0.74.\\\n",
        "La razón de cobertura óptima es:\\\n",
        "$H = \\frac{C_u-C_d}{uS_0-dS_0}$"
      ]
    },
    {
      "cell_type": "code",
      "metadata": {
        "colab": {
          "base_uri": "https://localhost:8080/"
        },
        "id": "uRr5VaSJWabh",
        "outputId": "22bc4929-9dc8-4790-ce77-3ed812967061"
      },
      "source": [
        "s0 = 100\n",
        "u = 1.35\n",
        "d = 0.74\n",
        "x = 100\n",
        "rf = 0.0515\n",
        "T = 1\n",
        "us0 = s0*u\n",
        "ds0 = s0*d\n",
        "cu = us0-x\n",
        "cd = 0 if x > ds0 else x - ds0\n",
        "\n",
        "\n",
        "H = (cu-cd)/(us0-ds0)\n",
        "\n",
        "C = H*s0-((H*us0-cu)/(1+rf)**T)\n",
        "\n",
        "print(f\"El valor de H es {H}, por lo tanto, el valor de la call es {C}\")"
      ],
      "execution_count": 31,
      "outputs": [
        {
          "output_type": "stream",
          "name": "stdout",
          "text": [
            "El valor de H es 0.5737704918032787, por lo tanto, el valor de la call es 16.9975756725365\n"
          ]
        }
      ]
    },
    {
      "cell_type": "markdown",
      "metadata": {
        "id": "CmDHShdlW0C1"
      },
      "source": [
        "11. Con la misma información, el precio de la put es:\\\n",
        "$P+S_0 = C+X(1+r_f)^{-T}$"
      ]
    },
    {
      "cell_type": "code",
      "metadata": {
        "colab": {
          "base_uri": "https://localhost:8080/"
        },
        "id": "Ws7_oeGGXT_4",
        "outputId": "9e66d54f-d015-4055-ca7e-69b5772e2110"
      },
      "source": [
        "p = C + x*(1+rf)**-T - s0\n",
        "\n",
        "p"
      ],
      "execution_count": 32,
      "outputs": [
        {
          "output_type": "execute_result",
          "data": {
            "text/plain": [
              "12.099810575056694"
            ]
          },
          "metadata": {},
          "execution_count": 32
        }
      ]
    },
    {
      "cell_type": "markdown",
      "metadata": {
        "id": "DTdPI9VZYSDr"
      },
      "source": [
        "12. Usted observa un precio de 50 euros por una acción que no paga dividendos. La opción de compra tiene un vencimiento de dos años, la tasa de interés libre de riesgo compuesto periodicamente es del 5\\%, el precio de ejercicio es de 50 euros, u=1.356 y d = 0.744. La probabilidad de un movimiento alcista basada en la probabilidad neutral al riesgo es:\\\n",
        "$p* = [(1+r_f)-d]/(u-d)$"
      ]
    },
    {
      "cell_type": "code",
      "metadata": {
        "colab": {
          "base_uri": "https://localhost:8080/"
        },
        "id": "gX6kKbwJbvoM",
        "outputId": "d65108a1-c799-46e5-bf5d-507afe8d9342"
      },
      "source": [
        "u = 1.356\n",
        "d = 0.744\n",
        "s0 = 50\n",
        "rf = 0.05\n",
        "X = 50\n",
        "pr = ((1+rf)-d)/(u-d)\n",
        "us0 = u*s0\n",
        "ds0 = d*s0\n",
        "uus0 = us0*u\n",
        "uds0 = us0*d\n",
        "dds0 = ds0*d\n",
        "cuu = max(uus0-X, 0)\n",
        "cud = max(uds0-X, 0)\n",
        "cdd = max(dds0-X, 0)\n",
        "cu = max((pr*cuu+(1-pr)*cud), us0-X)/(1+rf)\n",
        "cdown = max((pr*cud + (1-pr)*cdd), ds0-X)/(1+rf)\n",
        "call = (pr*cu+(1-pr)*cdown)/(1+rf)\n",
        "\n",
        "call"
      ],
      "execution_count": 33,
      "outputs": [
        {
          "output_type": "execute_result",
          "data": {
            "text/plain": [
              "9.7104761904762"
            ]
          },
          "metadata": {},
          "execution_count": 33
        }
      ]
    },
    {
      "cell_type": "markdown",
      "metadata": {
        "id": "8Shzj2j4auMI"
      },
      "source": [
        "13. Con la misma información de la pregunta anterior, el precio de la Put se acerca a:\\\n",
        "$P+S_0 = C+X(1+r_f)^{-T}$\n"
      ]
    },
    {
      "cell_type": "code",
      "metadata": {
        "colab": {
          "base_uri": "https://localhost:8080/"
        },
        "id": "ye7a8zx3eDSY",
        "outputId": "cf389752-af6e-4d66-f19d-a6796cc735dd"
      },
      "source": [
        "T = 2\n",
        "p = call + X*(1+rf)**-T - s0\n",
        "\n",
        "p"
      ],
      "execution_count": 34,
      "outputs": [
        {
          "output_type": "execute_result",
          "data": {
            "text/plain": [
              "5.061950113378693"
            ]
          },
          "metadata": {},
          "execution_count": 34
        }
      ]
    },
    {
      "cell_type": "markdown",
      "metadata": {
        "id": "fglrWE_3eJi5"
      },
      "source": [
        "## Ejercicios 2\n",
        "\n",
        "1. Calcule el precio futuro del siguiente contrato con 25 días hábiles hasta el vencimiento (250 días hábiles en un año) y una tasa de interés libre de riesgo en dólares de 1.5\\% anual. Un contrato a futuro de divisas para libras esterlinas con el precio spot actual de USD 1.620/GBP y la tasa británica de 2.6\\%:\\\n",
        "\\\n",
        "$F_0 = E_0(\\frac{1+r_f}{1+r_f^*})^T$"
      ]
    },
    {
      "cell_type": "code",
      "metadata": {
        "colab": {
          "base_uri": "https://localhost:8080/"
        },
        "id": "YI5c-oPOWrL3",
        "outputId": "67194e70-34f0-4e35-9de3-8e5b63dd42f5"
      },
      "source": [
        "T = 25/250\n",
        "rf_usd = 0.015\n",
        "e0 = 1.620\n",
        "rf_gbp = 0.026\n",
        "\n",
        "f0 = e0*((1+rf_usd)/(1+rf_gbp))**T\n",
        "\n",
        "f0"
      ],
      "execution_count": 35,
      "outputs": [
        {
          "output_type": "execute_result",
          "data": {
            "text/plain": [
              "1.6182547210495104"
            ]
          },
          "metadata": {},
          "execution_count": 35
        }
      ]
    },
    {
      "cell_type": "markdown",
      "metadata": {
        "id": "YxRMiObg1ZVM"
      },
      "source": [
        "2. Calcule el precio futuro del contrato con 25 días hábiles al vencimiento y una tasa de interés usd de 1.5\\% anual. Un contrato a futuro sobre un índice de acciones con un nivel actual de 1364.1 y una rentabilidad por dividendo anualizada de 2.1\\%:\\\n",
        "\\\n",
        "$F_0=S_0(1+r_f−d)^T$"
      ]
    },
    {
      "cell_type": "code",
      "metadata": {
        "colab": {
          "base_uri": "https://localhost:8080/"
        },
        "id": "Y7oWOF7I2Ils",
        "outputId": "d2fee26d-3d8a-4fa8-8b0c-3bb090af0def"
      },
      "source": [
        "s0 = 1364.1\n",
        "rf = 0.015\n",
        "d = 0.021\n",
        "T = 25/250\n",
        "\n",
        "f0 = s0*(1+rf-d)**T\n",
        "\n",
        "f0"
      ],
      "execution_count": 36,
      "outputs": [
        {
          "output_type": "execute_result",
          "data": {
            "text/plain": [
              "1363.2793217238998"
            ]
          },
          "metadata": {},
          "execution_count": 36
        }
      ]
    },
    {
      "cell_type": "markdown",
      "metadata": {
        "id": "Iol1Ynun3G8j"
      },
      "source": [
        "3. Un operador tiene una posición larga en contrato a futuro JPY/USD con un valor de 1000000. Al inicio del contrato, el tipo de cambio futuro era de 112.1 JPY/USD. El contrato vence en 3 meses. El tipo de cambio actual es de 112 JPY/USD y las tasas anuales libres de riesgo son 0.2\\% JPY y 0.3\\% USD. Cuál es el valor de la posición en JPY?\\\n",
        "\\\n",
        "$V_t = S_t - F_0(1+r_f)^{-(T-t)} = \\frac{(F_0 - F_t)}{(1+r_f)^{T}}$"
      ]
    },
    {
      "cell_type": "code",
      "metadata": {
        "colab": {
          "base_uri": "https://localhost:8080/"
        },
        "id": "uKybTin399vR",
        "outputId": "b38e8fe1-fc15-42c8-e1dc-f028ad0b707b"
      },
      "source": [
        "e0 = 112\n",
        "f0 = 112.1\n",
        "rf_usd = 0.3/100\n",
        "rf_jpy = 0.2/100\n",
        "T = 3/12\n",
        "\n",
        "ft = e0*((1+rf_jpy)/(1+rf_usd))**T\n",
        "\n",
        "vt = ((ft-f0)/(1+rf_jpy)**T)\n",
        "\n",
        "vt*1000000"
      ],
      "execution_count": 37,
      "outputs": [
        {
          "output_type": "execute_result",
          "data": {
            "text/plain": [
              "-127862.81109013656"
            ]
          },
          "metadata": {},
          "execution_count": 37
        }
      ]
    },
    {
      "cell_type": "markdown",
      "metadata": {
        "id": "BPCx_eCQ-dEB"
      },
      "source": [
        "4. Considere un swap de tasa de interés que un banco celebró hace un año, recibiendo pagos basados en la tasa flotante y pagando una fija de 3% anual. el swap era a 3 años, con pagos anuales sobre un monto de \\$50000000. La tasa spot no ha variado en el último año. Los factores de descuento actuales para los próximos 3 años a la madurez son 0.99099, 0.977876 y 0.965136. Calcule el valor actual del contrato desde el punto de vista del banco.\\\n",
        "\\\n",
        "\\\n",
        "$B_f = N*\\frac{1}{(1+i)^{T}} + \\Sigma_1^{T}\\frac{i*N}{(1+i)^{t}}$\\\n",
        "\\\n",
        "$B_v = N*\\frac{1}{(1+i^*)} + \\frac{i^**N}{(1+i^*)}$ se calcula un solo flujo, donde $i^*$ es la tasa variable del período anterior\\\n",
        "\\\n",
        "$V_{swap} = B_f-B_v\\ ó\\ V_{swap} = B_v - B_f$\n"
      ]
    },
    {
      "cell_type": "code",
      "metadata": {
        "colab": {
          "base_uri": "https://localhost:8080/"
        },
        "id": "fpl1xsXcGvI8",
        "outputId": "f455747b-f32e-459f-c8eb-0ccca0965c9b"
      },
      "source": [
        "import numpy as np\n",
        "\n",
        "mat = np.array([1, 2])\n",
        "\n",
        "n = 50000000\n",
        "rf = 0.03\n",
        "\n",
        "fd = np.array([0.99099, 0.977876, 0.965136])\n",
        "\n",
        "ff = np.zeros(len(mat))\n",
        "for i in range(len(ff)):\n",
        "  ff[i] = n*rf*fd[i]\n",
        "  if i+1 == len(ff):\n",
        "    ff[i] = ff[i] + n*fd[i]\n",
        "\n",
        "rv = 1/fd[0]**(1/(0+1)) - 1 # sólo calculo el primer flujo para el precio del bono variable\n",
        "fv = n*rv + n\n",
        "\n",
        "bf = np.sum(ff)\n",
        "\n",
        "bv = fv*fd[0]\n",
        "\n",
        "v = bv-bf\n",
        "\n",
        "v"
      ],
      "execution_count": 38,
      "outputs": [
        {
          "output_type": "execute_result",
          "data": {
            "text/plain": [
              "-1847099.0"
            ]
          },
          "metadata": {},
          "execution_count": 38
        }
      ]
    },
    {
      "cell_type": "markdown",
      "metadata": {
        "id": "HBofWNPqIwJr"
      },
      "source": [
        "5. Usted tiene la siguiente información sobre las acciones de la compañía Beta. El precio actual de las acciones es 38 y el precio de ejercicio es 40. El factor de alza es 1.3 y el factor de baja es 0.8. La tasa de interés libre de riesgo es 3\\%. Usando un modelo binomial de dos períodos anuales, el precio de una Call europea sobre la acción es:\\\n",
        "\\\n",
        "$p^* = \\frac{(1+r_f)-d}{(u-d)}$\\\n",
        "\\\n",
        "$c_{uu} = max(uuS_0 - X, 0)$\\\n",
        "\\\n",
        "$c_u = \\frac{[c_{uu}*p^*+c_{ud}*(1-p^*)]}{(1+r_f)}$\\\n",
        "\\\n",
        "$c = \\frac{[c_{u}*p^*+c_{d}*(1-p^*)]}{(1+r_f)}$"
      ]
    },
    {
      "cell_type": "code",
      "metadata": {
        "colab": {
          "base_uri": "https://localhost:8080/"
        },
        "id": "8osvh6Op1uWY",
        "outputId": "25ddbfdc-0735-46b5-f874-c362d18e464f"
      },
      "source": [
        "import numpy as np\n",
        "s0 = 38\n",
        "X = 40\n",
        "u = 1.3\n",
        "d = .8\n",
        "T = 1\n",
        "rf = 0.03\n",
        "exp = np.exp(rf*T)\n",
        "pr = (exp-d)/(u-d)\n",
        "us0 = u*s0\n",
        "ds0 = d*s0\n",
        "uus0 = us0*u\n",
        "uds0 = us0*d\n",
        "dds0 = ds0*d\n",
        "cuu = max(uus0-X, 0)\n",
        "cud = max(uds0-X, 0)\n",
        "cdd = max(dds0-X, 0)\n",
        "cu = max((pr*cuu+(1-pr)*cud)/exp, us0-X)\n",
        "cd = max((pr*cud + (1-pr)*cdd)/exp, ds0-X)\n",
        "call = (pr*cu+(1-pr)*cd)/exp\n",
        "call"
      ],
      "execution_count": 39,
      "outputs": [
        {
          "output_type": "execute_result",
          "data": {
            "text/plain": [
              "4.845593464443734"
            ]
          },
          "metadata": {},
          "execution_count": 39
        }
      ]
    },
    {
      "cell_type": "markdown",
      "metadata": {
        "id": "rMzxjbvW6DcZ"
      },
      "source": [
        "6. Considere que el precio de una acción es 30 y su volatilidad es de 30\\% anual. La tasa de interés libre de riesgo es 5\\%. Usando un modelo binomial de dos períodos, para una madurez de 3 meses y un precio de ejercicio de 32, el precio de una put americana sobre la acción es:\\\n",
        "\\\n",
        "$u = exp(\\sigma\\sqrt{\\Delta t}),\\ d = 1/u$\\\n",
        "\\\n",
        "$p^* = \\frac{(exp(r_f*\\Delta t)-d)}{u-d}$"
      ]
    },
    {
      "cell_type": "code",
      "metadata": {
        "colab": {
          "base_uri": "https://localhost:8080/"
        },
        "id": "PjZjuIWSOV9w",
        "outputId": "d66f5f9c-ed1b-49b6-f1e0-8bf10ac2f2b8"
      },
      "source": [
        "import numpy as np\n",
        "s0 = 30\n",
        "X = 32\n",
        "vol = 0.3\n",
        "T = 3/12\n",
        "n = 2\n",
        "deltat = T/n\n",
        "u = np.exp(vol*np.sqrt(deltat))\n",
        "d = 1/u\n",
        "rf = 0.05\n",
        "exp = np.exp(rf*deltat)\n",
        "p = (exp-d)/(u-d)\n",
        "us0 = u*s0\n",
        "ds0 = d*s0\n",
        "uus0 = us0*u\n",
        "uds0 = us0*d\n",
        "dds0 = ds0*d\n",
        "\n",
        "puu = max(X-uus0, 0)\n",
        "pud = max(X-uds0, 0)\n",
        "pdd = max(X-dds0, 0)\n",
        "pu = max((p*puu+(1-p)*pud)/exp, X-us0)\n",
        "pdown = max((p*pud+(1-p)*pdd)/exp, X-ds0)\n",
        "put = (p*pu+(1-p)*pdown)/exp\n",
        "\n",
        "put"
      ],
      "execution_count": 40,
      "outputs": [
        {
          "output_type": "execute_result",
          "data": {
            "text/plain": [
              "2.9726529839504034"
            ]
          },
          "metadata": {},
          "execution_count": 40
        }
      ]
    },
    {
      "cell_type": "markdown",
      "metadata": {
        "id": "UlS7WBKTSilO"
      },
      "source": [
        "7. Suponga que la estructura actual de tasas en Japón y USA -para los próximos 3 años a la madurez- es (3\\%, 4\\%, 5\\%) y (8\\%, 9\\%, 10\\%), respectivamente. Hace algún tiempo una institución financiera celebró un swap de divisas en el que recibe 5\\% anual en yenes y paga 8\\% anual en dólares cada año. Los principales son 10 y 1200 millones de yenes y el spot es 110 JPY/USD. Cuál es el valor del swap en millones de yenes?\n",
        "\n",
        "  ***Armar la estructura de madurez, flujos y valor presente***"
      ]
    },
    {
      "cell_type": "code",
      "metadata": {
        "colab": {
          "base_uri": "https://localhost:8080/"
        },
        "id": "q6uwExmWUUOT",
        "outputId": "eb6881f5-bee7-40a5-d704-3f2d6ac44dd9"
      },
      "source": [
        "mat = np.array([1, 2, 3])\n",
        "\n",
        "y = 1200\n",
        "usd = 10\n",
        "\n",
        "ry = np.array([.03, 0.04, .05])\n",
        "rusd = np.array([.08, 0.09, .1])\n",
        "\n",
        "fy = np.zeros(len(mat))\n",
        "for i in range(len(fy)):\n",
        "  fy[i] = 0.05*y*np.exp(-ry[i]*(i+1))\n",
        "  if i+1 == len(fy):\n",
        "    fy[i] = fy[i] + y*np.exp(-ry[i]*(i+1))\n",
        "\n",
        "fusd = np.zeros(len(mat))\n",
        "for i in range(len(fusd)):\n",
        "  fusd[i] = 0.08*usd*np.exp(-rusd[i]*(i+1))\n",
        "  if i+1 == len(fusd):\n",
        "    fusd[i] = fusd[i] + usd*np.exp(-rusd[i]*(i+1))\n",
        "\n",
        "Y = np.sum(fy)\n",
        "USD = np.sum(fusd)\n",
        "\n",
        "USD*110-Y"
      ],
      "execution_count": 41,
      "outputs": [
        {
          "output_type": "execute_result",
          "data": {
            "text/plain": [
              "-163.27569983558487"
            ]
          },
          "metadata": {},
          "execution_count": 41
        }
      ]
    },
    {
      "cell_type": "markdown",
      "metadata": {
        "id": "JsE0uGtqZ5IA"
      },
      "source": [
        "8. El precio de la acción es 18, el precio de ejercicio es 20, el plazo de vencimiento es 6 meses, la volatilidad es 30\\% anual y la tasa de interés libre de riesgo es 10\\% anual. Se esperan dos dividendos iguales durante la vida de la opción con fechas de pago al final de los meses 2 y 5. Suponga que los dividendos son de 40 centavos. Cuál es el precio de la call europea sobre la acción?\n",
        "\n",
        "- $C = (S_0 - De^{-rfT})N(d_1) - Xe^{-rfT}N(d2)$\n",
        "  \n",
        "- $P = Xe^{-rfT}N(-d2) - (S_0 - De^{-rfT})N(-d_1)$\n",
        "\n",
        "- $d_1=\\frac{ln((S_0 - De^{-rfT})/X)+(r_f+\\sigma^2/2)T}{\\sigma\\sqrt T},\\ d_2 = d_1 - \\sigma\\sqrt{T}$\n"
      ]
    },
    {
      "cell_type": "code",
      "metadata": {
        "colab": {
          "base_uri": "https://localhost:8080/"
        },
        "id": "2ioo_xBVdXGy",
        "outputId": "f555c7f8-48e3-4502-9e2b-794025fbd7d8"
      },
      "source": [
        "import numpy as np\n",
        "from scipy.stats import norm\n",
        "s0 = 18\n",
        "X = 20\n",
        "T = 6/12\n",
        "sigma = 0.3\n",
        "rf = 0.1\n",
        "De = 0.40*np.exp(-rf*4/12) + 0.40*np.exp(-rf*1/12)\n",
        "\n",
        "d1 = (np.log((s0-De)/X) + (rf + ((sigma**2)/2))*T)/(sigma*np.sqrt(T))\n",
        "d2 = d1 - sigma*np.sqrt(T)\n",
        "\n",
        "C = (s0 - De)*norm.cdf(d1) - X*np.exp(-rf*T)*norm.cdf(d2)\n",
        "\n",
        "C"
      ],
      "execution_count": 42,
      "outputs": [
        {
          "output_type": "execute_result",
          "data": {
            "text/plain": [
              "0.7923242404879876"
            ]
          },
          "metadata": {},
          "execution_count": 42
        }
      ]
    },
    {
      "cell_type": "markdown",
      "metadata": {
        "id": "uJ0NB0xNrcpY"
      },
      "source": [
        "9. Considere una opción put con un delta de -0.289, así como una call con el mismo precio de ejercicio y madurez. Un inversionista compra 125 opciones call y vende 200 opciones put. Cuántas acciones debe vender para que el portafolio sea delta-neutral?\\\n",
        "\\\n",
        "$\\Delta Put = N(-d_1) = N(d_1)-1 = \\Delta Call - 1$\\\n",
        "\\\n",
        "$\\Delta Call = \\Delta Put + 1$\n"
      ]
    },
    {
      "cell_type": "code",
      "metadata": {
        "colab": {
          "base_uri": "https://localhost:8080/"
        },
        "id": "xY1I4NoY0Z2Y",
        "outputId": "3d14a50a-0554-432a-a2a7-db656653513c"
      },
      "source": [
        "delta_p = -0.289\n",
        "delta_c = 1 + delta_p\n",
        "\n",
        "neto = -200 + 125\n",
        "\n",
        "delta = -200/neto*delta_p + 125/neto*delta_c\n",
        "\n",
        "n_acc = delta*neto\n",
        "\n",
        "n_acc"
      ],
      "execution_count": 43,
      "outputs": [
        {
          "output_type": "execute_result",
          "data": {
            "text/plain": [
              "146.675"
            ]
          },
          "metadata": {},
          "execution_count": 43
        }
      ]
    },
    {
      "cell_type": "markdown",
      "metadata": {
        "id": "mpNu-1aCrdG5"
      },
      "source": [
        "10. Suponga que las tasas de interés a dos años en Australia y Estados Unidos son del 5\\% y 7\\% respectivamente, y que el tipo de cambio spot es 0.62 USD/AUD. Si el tipo de cambio a dos años es 0.63, para aprovechar la oportunidad de arbitraje un inversionista debe:\n",
        "\n",
        "$\\frac{F_0}{E_0} = \\frac{(1+r_f)}{(1+r_f^*)}$\n"
      ]
    },
    {
      "cell_type": "code",
      "metadata": {
        "colab": {
          "base_uri": "https://localhost:8080/"
        },
        "id": "VtKfX3hY0Vnb",
        "outputId": "0a12e9c8-f81a-4af4-bcd6-1a64bc94fb4e"
      },
      "source": [
        "rf_aud = 0.05\n",
        "rf_usd = 0.07\n",
        "e0 = 0.62\n",
        "f0 = 0.63\n",
        "T = 2\n",
        "\n",
        "print(f\"Dado que se cumple\\n\\\n",
        "F0 {'=' if f0 == e0*((1+rf_aud)/(1+rf_usd))**T else '!='} E0*[(1+rf)/(1+rf*)]^(T)\\n\\\n",
        "Entonces {'NO' if f0 == e0*((1+rf_aud)/(1+rf_usd))**T else 'SI'} hay arbitraje\")\n",
        "\n",
        "print(f\"Como f0/e0 > (1+rf_aud)/(1+rf_usd) = {f0*(1+rf_usd) > (1+rf_aud)*e0}, entonces me endeudo en USD, compro USD a futuro y presto en AUD\")"
      ],
      "execution_count": 44,
      "outputs": [
        {
          "output_type": "stream",
          "name": "stdout",
          "text": [
            "Dado que se cumple\n",
            "F0 != E0*[(1+rf)/(1+rf*)]^(T)\n",
            "Entonces SI hay arbitraje\n",
            "Como f0/e0 > (1+rf_aud)/(1+rf_usd) = True, entonces me endeudo en USD, compro USD a futuro y presto en AUD\n"
          ]
        }
      ]
    }
  ]
}