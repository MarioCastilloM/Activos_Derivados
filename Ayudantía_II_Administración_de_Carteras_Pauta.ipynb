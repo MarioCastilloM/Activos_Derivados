{
  "nbformat": 4,
  "nbformat_minor": 0,
  "metadata": {
    "colab": {
      "provenance": [],
      "collapsed_sections": [],
      "authorship_tag": "ABX9TyOSOg+uYRJAtt2X8PRjj95w",
      "include_colab_link": true
    },
    "kernelspec": {
      "name": "python3",
      "display_name": "Python 3"
    },
    "language_info": {
      "name": "python"
    },
    "widgets": {
      "application/vnd.jupyter.widget-state+json": {
        "e60bf2f6b4d04be1880c62a5215b1561": {
          "model_module": "@jupyter-widgets/controls",
          "model_name": "VBoxModel",
          "model_module_version": "1.5.0",
          "state": {
            "_dom_classes": [
              "widget-interact"
            ],
            "_model_module": "@jupyter-widgets/controls",
            "_model_module_version": "1.5.0",
            "_model_name": "VBoxModel",
            "_view_count": null,
            "_view_module": "@jupyter-widgets/controls",
            "_view_module_version": "1.5.0",
            "_view_name": "VBoxView",
            "box_style": "",
            "children": [
              "IPY_MODEL_658c8d95733644eb8c73e206d720a1a4",
              "IPY_MODEL_b5cfd552de6b4a1e9f64a21dcf550d01",
              "IPY_MODEL_9ce00ec9b5424006b99b34ca9a879c08"
            ],
            "layout": "IPY_MODEL_f267b67c01124f658c3470211b1c841d"
          }
        },
        "658c8d95733644eb8c73e206d720a1a4": {
          "model_module": "@jupyter-widgets/controls",
          "model_name": "FloatSliderModel",
          "model_module_version": "1.5.0",
          "state": {
            "_dom_classes": [],
            "_model_module": "@jupyter-widgets/controls",
            "_model_module_version": "1.5.0",
            "_model_name": "FloatSliderModel",
            "_view_count": null,
            "_view_module": "@jupyter-widgets/controls",
            "_view_module_version": "1.5.0",
            "_view_name": "FloatSliderView",
            "continuous_update": true,
            "description": "tau",
            "description_tooltip": null,
            "disabled": false,
            "layout": "IPY_MODEL_c2e114aa1699443b9f916912036cdf77",
            "max": 4,
            "min": -4,
            "orientation": "horizontal",
            "readout": true,
            "readout_format": ".2f",
            "step": 0.1,
            "style": "IPY_MODEL_1eaa63fe3ac1472d80765303a0118c38",
            "value": 0
          }
        },
        "b5cfd552de6b4a1e9f64a21dcf550d01": {
          "model_module": "@jupyter-widgets/controls",
          "model_name": "IntSliderModel",
          "model_module_version": "1.5.0",
          "state": {
            "_dom_classes": [],
            "_model_module": "@jupyter-widgets/controls",
            "_model_module_version": "1.5.0",
            "_model_name": "IntSliderModel",
            "_view_count": null,
            "_view_module": "@jupyter-widgets/controls",
            "_view_module_version": "1.5.0",
            "_view_name": "IntSliderView",
            "continuous_update": true,
            "description": "w_width",
            "description_tooltip": null,
            "disabled": false,
            "layout": "IPY_MODEL_e7ee278697004f6586c5cdd559f221f1",
            "max": 600,
            "min": -200,
            "orientation": "horizontal",
            "readout": true,
            "readout_format": "d",
            "step": 1,
            "style": "IPY_MODEL_996b528c4c6a4eff878b549a0fa162a4",
            "value": 200
          }
        },
        "9ce00ec9b5424006b99b34ca9a879c08": {
          "model_module": "@jupyter-widgets/output",
          "model_name": "OutputModel",
          "model_module_version": "1.0.0",
          "state": {
            "_dom_classes": [],
            "_model_module": "@jupyter-widgets/output",
            "_model_module_version": "1.0.0",
            "_model_name": "OutputModel",
            "_view_count": null,
            "_view_module": "@jupyter-widgets/output",
            "_view_module_version": "1.0.0",
            "_view_name": "OutputView",
            "layout": "IPY_MODEL_be10e7a30d6d4090a529b1162fe12841",
            "msg_id": "",
            "outputs": [
              {
                "output_type": "display_data",
                "data": {
                  "text/plain": "<Figure size 864x432 with 1 Axes>",
                  "image/png": "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\n"
                },
                "metadata": {
                  "needs_background": "light"
                }
              }
            ]
          }
        },
        "f267b67c01124f658c3470211b1c841d": {
          "model_module": "@jupyter-widgets/base",
          "model_name": "LayoutModel",
          "model_module_version": "1.2.0",
          "state": {
            "_model_module": "@jupyter-widgets/base",
            "_model_module_version": "1.2.0",
            "_model_name": "LayoutModel",
            "_view_count": null,
            "_view_module": "@jupyter-widgets/base",
            "_view_module_version": "1.2.0",
            "_view_name": "LayoutView",
            "align_content": null,
            "align_items": null,
            "align_self": null,
            "border": null,
            "bottom": null,
            "display": null,
            "flex": null,
            "flex_flow": null,
            "grid_area": null,
            "grid_auto_columns": null,
            "grid_auto_flow": null,
            "grid_auto_rows": null,
            "grid_column": null,
            "grid_gap": null,
            "grid_row": null,
            "grid_template_areas": null,
            "grid_template_columns": null,
            "grid_template_rows": null,
            "height": null,
            "justify_content": null,
            "justify_items": null,
            "left": null,
            "margin": null,
            "max_height": null,
            "max_width": null,
            "min_height": null,
            "min_width": null,
            "object_fit": null,
            "object_position": null,
            "order": null,
            "overflow": null,
            "overflow_x": null,
            "overflow_y": null,
            "padding": null,
            "right": null,
            "top": null,
            "visibility": null,
            "width": null
          }
        },
        "c2e114aa1699443b9f916912036cdf77": {
          "model_module": "@jupyter-widgets/base",
          "model_name": "LayoutModel",
          "model_module_version": "1.2.0",
          "state": {
            "_model_module": "@jupyter-widgets/base",
            "_model_module_version": "1.2.0",
            "_model_name": "LayoutModel",
            "_view_count": null,
            "_view_module": "@jupyter-widgets/base",
            "_view_module_version": "1.2.0",
            "_view_name": "LayoutView",
            "align_content": null,
            "align_items": null,
            "align_self": null,
            "border": null,
            "bottom": null,
            "display": null,
            "flex": null,
            "flex_flow": null,
            "grid_area": null,
            "grid_auto_columns": null,
            "grid_auto_flow": null,
            "grid_auto_rows": null,
            "grid_column": null,
            "grid_gap": null,
            "grid_row": null,
            "grid_template_areas": null,
            "grid_template_columns": null,
            "grid_template_rows": null,
            "height": null,
            "justify_content": null,
            "justify_items": null,
            "left": null,
            "margin": null,
            "max_height": null,
            "max_width": null,
            "min_height": null,
            "min_width": null,
            "object_fit": null,
            "object_position": null,
            "order": null,
            "overflow": null,
            "overflow_x": null,
            "overflow_y": null,
            "padding": null,
            "right": null,
            "top": null,
            "visibility": null,
            "width": null
          }
        },
        "1eaa63fe3ac1472d80765303a0118c38": {
          "model_module": "@jupyter-widgets/controls",
          "model_name": "SliderStyleModel",
          "model_module_version": "1.5.0",
          "state": {
            "_model_module": "@jupyter-widgets/controls",
            "_model_module_version": "1.5.0",
            "_model_name": "SliderStyleModel",
            "_view_count": null,
            "_view_module": "@jupyter-widgets/base",
            "_view_module_version": "1.2.0",
            "_view_name": "StyleView",
            "description_width": "",
            "handle_color": null
          }
        },
        "e7ee278697004f6586c5cdd559f221f1": {
          "model_module": "@jupyter-widgets/base",
          "model_name": "LayoutModel",
          "model_module_version": "1.2.0",
          "state": {
            "_model_module": "@jupyter-widgets/base",
            "_model_module_version": "1.2.0",
            "_model_name": "LayoutModel",
            "_view_count": null,
            "_view_module": "@jupyter-widgets/base",
            "_view_module_version": "1.2.0",
            "_view_name": "LayoutView",
            "align_content": null,
            "align_items": null,
            "align_self": null,
            "border": null,
            "bottom": null,
            "display": null,
            "flex": null,
            "flex_flow": null,
            "grid_area": null,
            "grid_auto_columns": null,
            "grid_auto_flow": null,
            "grid_auto_rows": null,
            "grid_column": null,
            "grid_gap": null,
            "grid_row": null,
            "grid_template_areas": null,
            "grid_template_columns": null,
            "grid_template_rows": null,
            "height": null,
            "justify_content": null,
            "justify_items": null,
            "left": null,
            "margin": null,
            "max_height": null,
            "max_width": null,
            "min_height": null,
            "min_width": null,
            "object_fit": null,
            "object_position": null,
            "order": null,
            "overflow": null,
            "overflow_x": null,
            "overflow_y": null,
            "padding": null,
            "right": null,
            "top": null,
            "visibility": null,
            "width": null
          }
        },
        "996b528c4c6a4eff878b549a0fa162a4": {
          "model_module": "@jupyter-widgets/controls",
          "model_name": "SliderStyleModel",
          "model_module_version": "1.5.0",
          "state": {
            "_model_module": "@jupyter-widgets/controls",
            "_model_module_version": "1.5.0",
            "_model_name": "SliderStyleModel",
            "_view_count": null,
            "_view_module": "@jupyter-widgets/base",
            "_view_module_version": "1.2.0",
            "_view_name": "StyleView",
            "description_width": "",
            "handle_color": null
          }
        },
        "be10e7a30d6d4090a529b1162fe12841": {
          "model_module": "@jupyter-widgets/base",
          "model_name": "LayoutModel",
          "model_module_version": "1.2.0",
          "state": {
            "_model_module": "@jupyter-widgets/base",
            "_model_module_version": "1.2.0",
            "_model_name": "LayoutModel",
            "_view_count": null,
            "_view_module": "@jupyter-widgets/base",
            "_view_module_version": "1.2.0",
            "_view_name": "LayoutView",
            "align_content": null,
            "align_items": null,
            "align_self": null,
            "border": null,
            "bottom": null,
            "display": null,
            "flex": null,
            "flex_flow": null,
            "grid_area": null,
            "grid_auto_columns": null,
            "grid_auto_flow": null,
            "grid_auto_rows": null,
            "grid_column": null,
            "grid_gap": null,
            "grid_row": null,
            "grid_template_areas": null,
            "grid_template_columns": null,
            "grid_template_rows": null,
            "height": null,
            "justify_content": null,
            "justify_items": null,
            "left": null,
            "margin": null,
            "max_height": null,
            "max_width": null,
            "min_height": null,
            "min_width": null,
            "object_fit": null,
            "object_position": null,
            "order": null,
            "overflow": null,
            "overflow_x": null,
            "overflow_y": null,
            "padding": null,
            "right": null,
            "top": null,
            "visibility": null,
            "width": null
          }
        }
      }
    }
  },
  "cells": [
    {
      "cell_type": "markdown",
      "metadata": {
        "id": "view-in-github",
        "colab_type": "text"
      },
      "source": [
        "<a href=\"https://colab.research.google.com/github/MarioCastilloM/Activos_Derivados/blob/main/Ayudant%C3%ADa_II_Administraci%C3%B3n_de_Carteras_Pauta.ipynb\" target=\"_parent\"><img src=\"https://colab.research.google.com/assets/colab-badge.svg\" alt=\"Open In Colab\"/></a>"
      ]
    },
    {
      "cell_type": "markdown",
      "source": [
        "# Ayudantía II Administración de Carteras\n",
        "+ Nicolás Álvarez\n",
        "+ Mario Castillo\n",
        "\n",
        "## Pregunta 1\n",
        "\n",
        "Considere la función de utilidad de la forma $U(W)=\\frac{W^{(1-\\tau)}}{1-\\tau}$, donde $W$ es la riqueza y $\\tau$ es una medida de la aversión al riesgo. Grafique la función de utilidad y evalúe y comente su forma para distintos niveles de $\\tau$"
      ],
      "metadata": {
        "id": "euAHjjzxhgls"
      }
    },
    {
      "cell_type": "code",
      "source": [
        "def utility(w, tau=0.5):\n",
        "  u = (w**(1-tau))/(1-tau)\n",
        "  return u"
      ],
      "metadata": {
        "id": "lEg2YSrbkf5B"
      },
      "execution_count": 1,
      "outputs": []
    },
    {
      "cell_type": "code",
      "source": [
        "import numpy as np\n",
        "riqueza = list(range(1, 141))\n",
        "utilidad = [utility(w = x) for x in riqueza]"
      ],
      "metadata": {
        "id": "VbszDCpzkvcm"
      },
      "execution_count": 2,
      "outputs": []
    },
    {
      "cell_type": "code",
      "source": [
        "import matplotlib.pyplot as plt\n",
        "import seaborn as sns\n",
        "plt.figure(figsize = (12, 6))\n",
        "sns.lineplot(x=riqueza, y=utilidad)"
      ],
      "metadata": {
        "colab": {
          "base_uri": "https://localhost:8080/",
          "height": 391
        },
        "id": "M-OQHnKGkzOj",
        "outputId": "8554c1a5-d09b-483e-cf7d-c68b5a0dde0c"
      },
      "execution_count": 3,
      "outputs": [
        {
          "output_type": "execute_result",
          "data": {
            "text/plain": [
              "<matplotlib.axes._subplots.AxesSubplot at 0x7f523a160250>"
            ]
          },
          "metadata": {},
          "execution_count": 3
        },
        {
          "output_type": "display_data",
          "data": {
            "text/plain": [
              "<Figure size 864x432 with 1 Axes>"
            ],
            "image/png": "[encoded data removed]"
          },
          "metadata": {
            "needs_background": "light"
          }
        }
      ]
    },
    {
      "cell_type": "code",
      "source": [
        "import ipywidgets as widgets\n",
        "from IPython.display import display\n",
        "\n",
        "# función para graficar la función de utilidad resultante\n",
        "def show_utility(tau, w_width=200):\n",
        "  \"\"\"\n",
        "  Draw the results of a utility function given wealth and risk aversion levels\n",
        "  \"\"\"\n",
        "  w_range = range(1, w_width + 1)\n",
        "  u = [utility(w, tau) for w in w_range]\n",
        "  plt.figure(figsize = (12, 6))\n",
        "  sns.lineplot(x=w_range, y=u)\n",
        "\n",
        "# generamos un panel de control de los parámetros para obtener un gráfico interactivo\n",
        "utility_controls = widgets.interactive(show_utility,\n",
        "                                   tau = (-4, 4, 0.1)\n",
        "                                   )\n",
        "\n",
        "# desplegamos el panel de control establecido en el paso anterior\n",
        "display(utility_controls)"
      ],
      "metadata": {
        "colab": {
          "base_uri": "https://localhost:8080/",
          "height": 438,
          "referenced_widgets": [
            "e60bf2f6b4d04be1880c62a5215b1561",
            "658c8d95733644eb8c73e206d720a1a4",
            "b5cfd552de6b4a1e9f64a21dcf550d01",
            "9ce00ec9b5424006b99b34ca9a879c08",
            "f267b67c01124f658c3470211b1c841d",
            "c2e114aa1699443b9f916912036cdf77",
            "1eaa63fe3ac1472d80765303a0118c38",
            "e7ee278697004f6586c5cdd559f221f1",
            "996b528c4c6a4eff878b549a0fa162a4",
            "be10e7a30d6d4090a529b1162fe12841"
          ]
        },
        "id": "-jnBch46lfhW",
        "outputId": "5c48a779-278f-402e-ba01-0f8b0a54c83a"
      },
      "execution_count": 4,
      "outputs": [
        {
          "output_type": "display_data",
          "data": {
            "text/plain": [
              "interactive(children=(FloatSlider(value=0.0, description='tau', max=4.0, min=-4.0), IntSlider(value=200, descr…"
            ],
            "application/vnd.jupyter.widget-view+json": {
              "version_major": 2,
              "version_minor": 0,
              "model_id": "e60bf2f6b4d04be1880c62a5215b1561"
            }
          },
          "metadata": {}
        }
      ]
    },
    {
      "cell_type": "markdown",
      "source": [
        "## Pregunta 2\n",
        "\n",
        "Seleccione dos series de precios de activos, calcule sus retornos y grafique la frontera eficiente, el portafolio óptimo y la Capital Allocation Line"
      ],
      "metadata": {
        "id": "E34uIY__oPka"
      }
    },
    {
      "cell_type": "code",
      "source": [
        "!pip install --upgrade pandas-datareader"
      ],
      "metadata": {
        "colab": {
          "base_uri": "https://localhost:8080/"
        },
        "id": "YJ9HEmjFyiiU",
        "outputId": "7f4c1b2a-16ee-4c9b-c148-667f8858cdc7"
      },
      "execution_count": 5,
      "outputs": [
        {
          "output_type": "stream",
          "name": "stdout",
          "text": [
            "Looking in indexes: https://pypi.org/simple, https://us-python.pkg.dev/colab-wheels/public/simple/\n",
            "Requirement already satisfied: pandas-datareader in /usr/local/lib/python3.7/dist-packages (0.9.0)\n",
            "Collecting pandas-datareader\n",
            "  Downloading pandas_datareader-0.10.0-py3-none-any.whl (109 kB)\n",
            "\u001b[K     |████████████████████████████████| 109 kB 5.4 MB/s \n",
            "\u001b[?25hRequirement already satisfied: pandas>=0.23 in /usr/local/lib/python3.7/dist-packages (from pandas-datareader) (1.3.5)\n",
            "Requirement already satisfied: lxml in /usr/local/lib/python3.7/dist-packages (from pandas-datareader) (4.9.1)\n",
            "Requirement already satisfied: requests>=2.19.0 in /usr/local/lib/python3.7/dist-packages (from pandas-datareader) (2.23.0)\n",
            "Requirement already satisfied: numpy>=1.17.3 in /usr/local/lib/python3.7/dist-packages (from pandas>=0.23->pandas-datareader) (1.21.6)\n",
            "Requirement already satisfied: python-dateutil>=2.7.3 in /usr/local/lib/python3.7/dist-packages (from pandas>=0.23->pandas-datareader) (2.8.2)\n",
            "Requirement already satisfied: pytz>=2017.3 in /usr/local/lib/python3.7/dist-packages (from pandas>=0.23->pandas-datareader) (2022.2.1)\n",
            "Requirement already satisfied: six>=1.5 in /usr/local/lib/python3.7/dist-packages (from python-dateutil>=2.7.3->pandas>=0.23->pandas-datareader) (1.15.0)\n",
            "Requirement already satisfied: idna<3,>=2.5 in /usr/local/lib/python3.7/dist-packages (from requests>=2.19.0->pandas-datareader) (2.10)\n",
            "Requirement already satisfied: certifi>=2017.4.17 in /usr/local/lib/python3.7/dist-packages (from requests>=2.19.0->pandas-datareader) (2022.6.15)\n",
            "Requirement already satisfied: chardet<4,>=3.0.2 in /usr/local/lib/python3.7/dist-packages (from requests>=2.19.0->pandas-datareader) (3.0.4)\n",
            "Requirement already satisfied: urllib3!=1.25.0,!=1.25.1,<1.26,>=1.21.1 in /usr/local/lib/python3.7/dist-packages (from requests>=2.19.0->pandas-datareader) (1.24.3)\n",
            "Installing collected packages: pandas-datareader\n",
            "  Attempting uninstall: pandas-datareader\n",
            "    Found existing installation: pandas-datareader 0.9.0\n",
            "    Uninstalling pandas-datareader-0.9.0:\n",
            "      Successfully uninstalled pandas-datareader-0.9.0\n",
            "Successfully installed pandas-datareader-0.10.0\n"
          ]
        }
      ]
    },
    {
      "cell_type": "code",
      "source": [
        "import pandas as pd\n",
        "import pandas_datareader.data as web\n",
        "from datetime import datetime\n",
        "\n",
        "stocklist = ['NOVA','PLUG']\n",
        "\n",
        "start = '2019-07-18'\n",
        "end = '2022-07-18'\n",
        "\n",
        "p = web.DataReader(stocklist, 'yahoo', start, end)\n",
        "\n",
        "prices = p['Adj Close']\n",
        "\n",
        "returns = prices.pct_change().dropna()"
      ],
      "metadata": {
        "id": "Y1X48VsuuIyN"
      },
      "execution_count": 6,
      "outputs": []
    },
    {
      "cell_type": "code",
      "source": [
        "returns.shape"
      ],
      "metadata": {
        "colab": {
          "base_uri": "https://localhost:8080/"
        },
        "id": "-vrQdqavzA6t",
        "outputId": "75712e1d-d9ce-491b-f5da-e01e4b28e92d"
      },
      "execution_count": 7,
      "outputs": [
        {
          "output_type": "execute_result",
          "data": {
            "text/plain": [
              "(750, 2)"
            ]
          },
          "metadata": {},
          "execution_count": 7
        }
      ]
    },
    {
      "cell_type": "code",
      "source": [
        "def annualize_rets(r, periods_per_year):\n",
        "    \"\"\"\n",
        "    Annualizes a set of returns\n",
        "    We should infer the periods per year\n",
        "    \"\"\"\n",
        "    compounded_growth = (1+r).prod()\n",
        "    n_periods = r.shape[0]\n",
        "    return compounded_growth**(periods_per_year/n_periods)-1\n",
        "\n",
        "\n",
        "def annualize_vol(r, periods_per_year):\n",
        "    \"\"\"\n",
        "    Annualizes the vol of a set of returns\n",
        "    \"\"\"\n",
        "    return r.std()*(periods_per_year**0.5)\n",
        "\n",
        "def portfolio_return(weights, returns):\n",
        "    \"\"\"\n",
        "    Computes the return on a portfolio from constituent returns and weights\n",
        "    weights are a numpy array or Nx1 matrix and returns are a numpy array or Nx1 matrix\n",
        "    \"\"\"\n",
        "    return weights.T @ returns\n",
        "\n",
        "def portfolio_vol(weights, covmat):\n",
        "    \"\"\"\n",
        "    Computes the vol of a portfolio from a covariance matrix and constituent weights\n",
        "    weights are a numpy array or N x 1 maxtrix and covmat is an N x N matrix\n",
        "    \"\"\"\n",
        "    return (weights.T @ covmat @ weights)**0.5\n",
        "\n",
        "returns_ann = annualize_rets(returns, 12)\n",
        "n_points = 100\n",
        "weights = [np.array([w, 1 - w]) for w in np.linspace(0, 1, n_points)]\n",
        "cov = returns.cov()\n",
        "rets = [portfolio_return(w, returns_ann) for w in weights]\n",
        "vol = [portfolio_vol(w, cov) for w in weights]\n",
        "ef = pd.DataFrame({\n",
        "    \"R\": rets,\n",
        "    \"Vol\": vol\n",
        "})\n",
        "ef.plot.scatter(x = \"Vol\", y = \"R\")"
      ],
      "metadata": {
        "id": "UlywGAEgv_0b",
        "colab": {
          "base_uri": "https://localhost:8080/",
          "height": 296
        },
        "outputId": "62500024-4bdd-47d2-ada7-ff8746d75919"
      },
      "execution_count": 8,
      "outputs": [
        {
          "output_type": "execute_result",
          "data": {
            "text/plain": [
              "<matplotlib.axes._subplots.AxesSubplot at 0x7f5229a7f610>"
            ]
          },
          "metadata": {},
          "execution_count": 8
        },
        {
          "output_type": "display_data",
          "data": {
            "text/plain": [
              "<Figure size 432x288 with 1 Axes>"
            ],
            "image/png": "[encoded data removed]"
          },
          "metadata": {
            "needs_background": "light"
          }
        }
      ]
    },
    {
      "cell_type": "code",
      "source": [
        "from scipy.optimize import minimize\n",
        "def msr(riskfree_rate, er, cov):\n",
        "    \"\"\"\n",
        "    Returns the weights of the portfolio that gives you the maximum sharpe ratio\n",
        "    given the riskfree rate and expected returns and a covariance matrix\n",
        "    \"\"\"\n",
        "    n = er.shape[0]\n",
        "    init_guess = np.repeat(1/n, n)\n",
        "    bounds = ((0.0, 1.0),) * n # an N-tuple of 2-tuples!\n",
        "    # construct the constraints\n",
        "    weights_sum_to_1 = {'type': 'eq',\n",
        "                        'fun': lambda weights: np.sum(weights) - 1\n",
        "    }\n",
        "    def neg_sharpe(weights, riskfree_rate, er, cov):\n",
        "        \"\"\"\n",
        "        Returns the negative of the sharpe ratio\n",
        "        of the given portfolio\n",
        "        \"\"\"\n",
        "        r = portfolio_return(weights, er)\n",
        "        vol = portfolio_vol(weights, cov)\n",
        "        return -(r - riskfree_rate)/vol\n",
        "    \n",
        "    weights = minimize(neg_sharpe, init_guess,\n",
        "                       args=(riskfree_rate, er, cov), method='SLSQP',\n",
        "                       options={'disp': False},\n",
        "                       constraints=(weights_sum_to_1,),\n",
        "                       bounds=bounds)\n",
        "    return weights.x"
      ],
      "metadata": {
        "id": "F_VSEsPr9hHv"
      },
      "execution_count": 9,
      "outputs": []
    },
    {
      "cell_type": "code",
      "source": [
        "ax = ef.plot.scatter(x = \"Vol\", y = \"R\")\n",
        "ax.set_xlim(left = 0)\n",
        "rf = 0.01\n",
        "w_msr = msr(rf, returns_ann, cov)\n",
        "r_msr = portfolio_return(w_msr, returns_ann)\n",
        "vol_msr = portfolio_vol(w_msr, cov)\n",
        "# Add CML\n",
        "cml_x = [0, vol_msr]\n",
        "cml_y = [rf, r_msr]\n",
        "ax.plot(cml_x, cml_y, color='green', marker = 'o', linestyle = \"dashed\")"
      ],
      "metadata": {
        "colab": {
          "base_uri": "https://localhost:8080/",
          "height": 296
        },
        "id": "tUhC1prijVDH",
        "outputId": "566e878e-edde-4079-f6cb-54cc046ababe"
      },
      "execution_count": 10,
      "outputs": [
        {
          "output_type": "execute_result",
          "data": {
            "text/plain": [
              "[<matplotlib.lines.Line2D at 0x7f5229842d10>]"
            ]
          },
          "metadata": {},
          "execution_count": 10
        },
        {
          "output_type": "display_data",
          "data": {
            "text/plain": [
              "<Figure size 432x288 with 1 Axes>"
            ],
            "image/png": "[encoded data removed]"
          },
          "metadata": {
            "needs_background": "light"
          }
        }
      ]
    },
    {
      "cell_type": "markdown",
      "source": [
        "## Pregunta 3\n",
        "\n",
        "Considere los sets de datos \"brka_d_ret.csv\" y \"F-F_Research_Data_Factors_m.csv\", los que contienen información acerca de los retornos de BlackRock y los factores $Mkt-RF$, $SMB$, $HML$ y $RF$.\n",
        "\n",
        "+ Descomponga los retornos de BRKA en la porción que corresponde al mercado y el resto que no es explica por el mercado usando el CAPM como modelo explicativo\n",
        "\n",
        "$$ R_{brka,t} - R_{f,t} = \\alpha + \\beta(R_{mkt,t} - R_{f,t}) + \\epsilon_t $$"
      ],
      "metadata": {
        "id": "K-5k4szH3bOW"
      }
    },
    {
      "cell_type": "code",
      "source": [
        "from google.colab import drive\n",
        "drive.mount('/content/drive/')\n",
        "path = '/content/drive/MyDrive/Cursos/Investment Management with ML/data/'"
      ],
      "metadata": {
        "colab": {
          "base_uri": "https://localhost:8080/"
        },
        "id": "ZMgc0441LDWk",
        "outputId": "4d1cbae0-a362-4193-eb14-229f15156db0"
      },
      "execution_count": 11,
      "outputs": [
        {
          "output_type": "stream",
          "name": "stdout",
          "text": [
            "Mounted at /content/drive/\n"
          ]
        }
      ]
    },
    {
      "cell_type": "code",
      "source": [
        "fff = pd.read_csv(path + 'F-F_Research_Data_Factors_m.csv', parse_dates=True,  index_col=0)\n",
        "brka_d = pd.read_csv(path + 'brka_d_ret.csv', parse_dates=True, index_col=0)"
      ],
      "metadata": {
        "id": "pAq6bnLDLku2"
      },
      "execution_count": 12,
      "outputs": []
    },
    {
      "cell_type": "code",
      "source": [
        "def compound(r):\n",
        "  \"\"\"\n",
        "  returns the result of compounding the set of returns in r\n",
        "  \"\"\"\n",
        "  return np.expm1(np.log1p(r).sum())"
      ],
      "metadata": {
        "id": "1qc2_6sSMtSr"
      },
      "execution_count": 13,
      "outputs": []
    },
    {
      "cell_type": "code",
      "source": [
        "brka_m = brka_d.resample('M').apply(compound).to_period('M')\n",
        "brka_m.head()"
      ],
      "metadata": {
        "colab": {
          "base_uri": "https://localhost:8080/",
          "height": 238
        },
        "id": "0wddqOjXM3L2",
        "outputId": "557a170f-c597-439b-ea7a-6ac95f211ebf"
      },
      "execution_count": 14,
      "outputs": [
        {
          "output_type": "execute_result",
          "data": {
            "text/plain": [
              "             BRKA\n",
              "DATE             \n",
              "1990-01 -0.140634\n",
              "1990-02 -0.030852\n",
              "1990-03 -0.069204\n",
              "1990-04 -0.003717\n",
              "1990-05  0.067164"
            ],
            "text/html": [
              "\n",
              "  <div id=\"df-f45fd146-57e3-452b-8ff0-2b6206d8f883\">\n",
              "    <div class=\"colab-df-container\">\n",
              "      <div>\n",
              "<style scoped>\n",
              "    .dataframe tbody tr th:only-of-type {\n",
              "        vertical-align: middle;\n",
              "    }\n",
              "\n",
              "    .dataframe tbody tr th {\n",
              "        vertical-align: top;\n",
              "    }\n",
              "\n",
              "    .dataframe thead th {\n",
              "        text-align: right;\n",
              "    }\n",
              "</style>\n",
              "<table border=\"1\" class=\"dataframe\">\n",
              "  <thead>\n",
              "    <tr style=\"text-align: right;\">\n",
              "      <th></th>\n",
              "      <th>BRKA</th>\n",
              "    </tr>\n",
              "    <tr>\n",
              "      <th>DATE</th>\n",
              "      <th></th>\n",
              "    </tr>\n",
              "  </thead>\n",
              "  <tbody>\n",
              "    <tr>\n",
              "      <th>1990-01</th>\n",
              "      <td>-0.140634</td>\n",
              "    </tr>\n",
              "    <tr>\n",
              "      <th>1990-02</th>\n",
              "      <td>-0.030852</td>\n",
              "    </tr>\n",
              "    <tr>\n",
              "      <th>1990-03</th>\n",
              "      <td>-0.069204</td>\n",
              "    </tr>\n",
              "    <tr>\n",
              "      <th>1990-04</th>\n",
              "      <td>-0.003717</td>\n",
              "    </tr>\n",
              "    <tr>\n",
              "      <th>1990-05</th>\n",
              "      <td>0.067164</td>\n",
              "    </tr>\n",
              "  </tbody>\n",
              "</table>\n",
              "</div>\n",
              "      <button class=\"colab-df-convert\" onclick=\"convertToInteractive('df-f45fd146-57e3-452b-8ff0-2b6206d8f883')\"\n",
              "              title=\"Convert this dataframe to an interactive table.\"\n",
              "              style=\"display:none;\">\n",
              "        \n",
              "  <svg xmlns=\"http://www.w3.org/2000/svg\" height=\"24px\"viewBox=\"0 0 24 24\"\n",
              "       width=\"24px\">\n",
              "    <path d=\"M0 0h24v24H0V0z\" fill=\"none\"/>\n",
              "    <path d=\"M18.56 5.44l.94 2.06.94-2.06 2.06-.94-2.06-.94-.94-2.06-.94 2.06-2.06.94zm-11 1L8.5 8.5l.94-2.06 2.06-.94-2.06-.94L8.5 2.5l-.94 2.06-2.06.94zm10 10l.94 2.06.94-2.06 2.06-.94-2.06-.94-.94-2.06-.94 2.06-2.06.94z\"/><path d=\"M17.41 7.96l-1.37-1.37c-.4-.4-.92-.59-1.43-.59-.52 0-1.04.2-1.43.59L10.3 9.45l-7.72 7.72c-.78.78-.78 2.05 0 2.83L4 21.41c.39.39.9.59 1.41.59.51 0 1.02-.2 1.41-.59l7.78-7.78 2.81-2.81c.8-.78.8-2.07 0-2.86zM5.41 20L4 18.59l7.72-7.72 1.47 1.35L5.41 20z\"/>\n",
              "  </svg>\n",
              "      </button>\n",
              "      \n",
              "  <style>\n",
              "    .colab-df-container {\n",
              "      display:flex;\n",
              "      flex-wrap:wrap;\n",
              "      gap: 12px;\n",
              "    }\n",
              "\n",
              "    .colab-df-convert {\n",
              "      background-color: #E8F0FE;\n",
              "      border: none;\n",
              "      border-radius: 50%;\n",
              "      cursor: pointer;\n",
              "      display: none;\n",
              "      fill: #1967D2;\n",
              "      height: 32px;\n",
              "      padding: 0 0 0 0;\n",
              "      width: 32px;\n",
              "    }\n",
              "\n",
              "    .colab-df-convert:hover {\n",
              "      background-color: #E2EBFA;\n",
              "      box-shadow: 0px 1px 2px rgba(60, 64, 67, 0.3), 0px 1px 3px 1px rgba(60, 64, 67, 0.15);\n",
              "      fill: #174EA6;\n",
              "    }\n",
              "\n",
              "    [theme=dark] .colab-df-convert {\n",
              "      background-color: #3B4455;\n",
              "      fill: #D2E3FC;\n",
              "    }\n",
              "\n",
              "    [theme=dark] .colab-df-convert:hover {\n",
              "      background-color: #434B5C;\n",
              "      box-shadow: 0px 1px 3px 1px rgba(0, 0, 0, 0.15);\n",
              "      filter: drop-shadow(0px 1px 2px rgba(0, 0, 0, 0.3));\n",
              "      fill: #FFFFFF;\n",
              "    }\n",
              "  </style>\n",
              "\n",
              "      <script>\n",
              "        const buttonEl =\n",
              "          document.querySelector('#df-f45fd146-57e3-452b-8ff0-2b6206d8f883 button.colab-df-convert');\n",
              "        buttonEl.style.display =\n",
              "          google.colab.kernel.accessAllowed ? 'block' : 'none';\n",
              "\n",
              "        async function convertToInteractive(key) {\n",
              "          const element = document.querySelector('#df-f45fd146-57e3-452b-8ff0-2b6206d8f883');\n",
              "          const dataTable =\n",
              "            await google.colab.kernel.invokeFunction('convertToInteractive',\n",
              "                                                     [key], {});\n",
              "          if (!dataTable) return;\n",
              "\n",
              "          const docLinkHtml = 'Like what you see? Visit the ' +\n",
              "            '<a target=\"_blank\" href=https://colab.research.google.com/notebooks/data_table.ipynb>data table notebook</a>'\n",
              "            + ' to learn more about interactive tables.';\n",
              "          element.innerHTML = '';\n",
              "          dataTable['output_type'] = 'display_data';\n",
              "          await google.colab.output.renderOutput(dataTable, element);\n",
              "          const docLink = document.createElement('div');\n",
              "          docLink.innerHTML = docLinkHtml;\n",
              "          element.appendChild(docLink);\n",
              "        }\n",
              "      </script>\n",
              "    </div>\n",
              "  </div>\n",
              "  "
            ]
          },
          "metadata": {},
          "execution_count": 14
        }
      ]
    },
    {
      "cell_type": "code",
      "source": [
        "fff.head()"
      ],
      "metadata": {
        "colab": {
          "base_uri": "https://localhost:8080/",
          "height": 206
        },
        "id": "9o-lsvS9Ol_R",
        "outputId": "1998ac0d-b4c6-4934-cfb4-fc741bb1a40e"
      },
      "execution_count": 15,
      "outputs": [
        {
          "output_type": "execute_result",
          "data": {
            "text/plain": [
              "        Mkt-RF   SMB   HML    RF\n",
              "192607    2.96 -2.30 -2.87  0.22\n",
              "192608    2.64 -1.40  4.19  0.25\n",
              "192609    0.36 -1.32  0.01  0.23\n",
              "192610   -3.24  0.04  0.51  0.32\n",
              "192611    2.53 -0.20 -0.35  0.31"
            ],
            "text/html": [
              "\n",
              "  <div id=\"df-efa529d5-5ac4-4129-ac3a-2a3f5539c3b7\">\n",
              "    <div class=\"colab-df-container\">\n",
              "      <div>\n",
              "<style scoped>\n",
              "    .dataframe tbody tr th:only-of-type {\n",
              "        vertical-align: middle;\n",
              "    }\n",
              "\n",
              "    .dataframe tbody tr th {\n",
              "        vertical-align: top;\n",
              "    }\n",
              "\n",
              "    .dataframe thead th {\n",
              "        text-align: right;\n",
              "    }\n",
              "</style>\n",
              "<table border=\"1\" class=\"dataframe\">\n",
              "  <thead>\n",
              "    <tr style=\"text-align: right;\">\n",
              "      <th></th>\n",
              "      <th>Mkt-RF</th>\n",
              "      <th>SMB</th>\n",
              "      <th>HML</th>\n",
              "      <th>RF</th>\n",
              "    </tr>\n",
              "  </thead>\n",
              "  <tbody>\n",
              "    <tr>\n",
              "      <th>192607</th>\n",
              "      <td>2.96</td>\n",
              "      <td>-2.30</td>\n",
              "      <td>-2.87</td>\n",
              "      <td>0.22</td>\n",
              "    </tr>\n",
              "    <tr>\n",
              "      <th>192608</th>\n",
              "      <td>2.64</td>\n",
              "      <td>-1.40</td>\n",
              "      <td>4.19</td>\n",
              "      <td>0.25</td>\n",
              "    </tr>\n",
              "    <tr>\n",
              "      <th>192609</th>\n",
              "      <td>0.36</td>\n",
              "      <td>-1.32</td>\n",
              "      <td>0.01</td>\n",
              "      <td>0.23</td>\n",
              "    </tr>\n",
              "    <tr>\n",
              "      <th>192610</th>\n",
              "      <td>-3.24</td>\n",
              "      <td>0.04</td>\n",
              "      <td>0.51</td>\n",
              "      <td>0.32</td>\n",
              "    </tr>\n",
              "    <tr>\n",
              "      <th>192611</th>\n",
              "      <td>2.53</td>\n",
              "      <td>-0.20</td>\n",
              "      <td>-0.35</td>\n",
              "      <td>0.31</td>\n",
              "    </tr>\n",
              "  </tbody>\n",
              "</table>\n",
              "</div>\n",
              "      <button class=\"colab-df-convert\" onclick=\"convertToInteractive('df-efa529d5-5ac4-4129-ac3a-2a3f5539c3b7')\"\n",
              "              title=\"Convert this dataframe to an interactive table.\"\n",
              "              style=\"display:none;\">\n",
              "        \n",
              "  <svg xmlns=\"http://www.w3.org/2000/svg\" height=\"24px\"viewBox=\"0 0 24 24\"\n",
              "       width=\"24px\">\n",
              "    <path d=\"M0 0h24v24H0V0z\" fill=\"none\"/>\n",
              "    <path d=\"M18.56 5.44l.94 2.06.94-2.06 2.06-.94-2.06-.94-.94-2.06-.94 2.06-2.06.94zm-11 1L8.5 8.5l.94-2.06 2.06-.94-2.06-.94L8.5 2.5l-.94 2.06-2.06.94zm10 10l.94 2.06.94-2.06 2.06-.94-2.06-.94-.94-2.06-.94 2.06-2.06.94z\"/><path d=\"M17.41 7.96l-1.37-1.37c-.4-.4-.92-.59-1.43-.59-.52 0-1.04.2-1.43.59L10.3 9.45l-7.72 7.72c-.78.78-.78 2.05 0 2.83L4 21.41c.39.39.9.59 1.41.59.51 0 1.02-.2 1.41-.59l7.78-7.78 2.81-2.81c.8-.78.8-2.07 0-2.86zM5.41 20L4 18.59l7.72-7.72 1.47 1.35L5.41 20z\"/>\n",
              "  </svg>\n",
              "      </button>\n",
              "      \n",
              "  <style>\n",
              "    .colab-df-container {\n",
              "      display:flex;\n",
              "      flex-wrap:wrap;\n",
              "      gap: 12px;\n",
              "    }\n",
              "\n",
              "    .colab-df-convert {\n",
              "      background-color: #E8F0FE;\n",
              "      border: none;\n",
              "      border-radius: 50%;\n",
              "      cursor: pointer;\n",
              "      display: none;\n",
              "      fill: #1967D2;\n",
              "      height: 32px;\n",
              "      padding: 0 0 0 0;\n",
              "      width: 32px;\n",
              "    }\n",
              "\n",
              "    .colab-df-convert:hover {\n",
              "      background-color: #E2EBFA;\n",
              "      box-shadow: 0px 1px 2px rgba(60, 64, 67, 0.3), 0px 1px 3px 1px rgba(60, 64, 67, 0.15);\n",
              "      fill: #174EA6;\n",
              "    }\n",
              "\n",
              "    [theme=dark] .colab-df-convert {\n",
              "      background-color: #3B4455;\n",
              "      fill: #D2E3FC;\n",
              "    }\n",
              "\n",
              "    [theme=dark] .colab-df-convert:hover {\n",
              "      background-color: #434B5C;\n",
              "      box-shadow: 0px 1px 3px 1px rgba(0, 0, 0, 0.15);\n",
              "      filter: drop-shadow(0px 1px 2px rgba(0, 0, 0, 0.3));\n",
              "      fill: #FFFFFF;\n",
              "    }\n",
              "  </style>\n",
              "\n",
              "      <script>\n",
              "        const buttonEl =\n",
              "          document.querySelector('#df-efa529d5-5ac4-4129-ac3a-2a3f5539c3b7 button.colab-df-convert');\n",
              "        buttonEl.style.display =\n",
              "          google.colab.kernel.accessAllowed ? 'block' : 'none';\n",
              "\n",
              "        async function convertToInteractive(key) {\n",
              "          const element = document.querySelector('#df-efa529d5-5ac4-4129-ac3a-2a3f5539c3b7');\n",
              "          const dataTable =\n",
              "            await google.colab.kernel.invokeFunction('convertToInteractive',\n",
              "                                                     [key], {});\n",
              "          if (!dataTable) return;\n",
              "\n",
              "          const docLinkHtml = 'Like what you see? Visit the ' +\n",
              "            '<a target=\"_blank\" href=https://colab.research.google.com/notebooks/data_table.ipynb>data table notebook</a>'\n",
              "            + ' to learn more about interactive tables.';\n",
              "          element.innerHTML = '';\n",
              "          dataTable['output_type'] = 'display_data';\n",
              "          await google.colab.output.renderOutput(dataTable, element);\n",
              "          const docLink = document.createElement('div');\n",
              "          docLink.innerHTML = docLinkHtml;\n",
              "          element.appendChild(docLink);\n",
              "        }\n",
              "      </script>\n",
              "    </div>\n",
              "  </div>\n",
              "  "
            ]
          },
          "metadata": {},
          "execution_count": 15
        }
      ]
    },
    {
      "cell_type": "code",
      "source": [
        "fff.reset_index(inplace=True)\n",
        "fff.head()"
      ],
      "metadata": {
        "colab": {
          "base_uri": "https://localhost:8080/",
          "height": 206
        },
        "id": "QFqNdTudOzad",
        "outputId": "16889148-2ec9-448f-fb31-04e976492810"
      },
      "execution_count": 16,
      "outputs": [
        {
          "output_type": "execute_result",
          "data": {
            "text/plain": [
              "    index  Mkt-RF   SMB   HML    RF\n",
              "0  192607    2.96 -2.30 -2.87  0.22\n",
              "1  192608    2.64 -1.40  4.19  0.25\n",
              "2  192609    0.36 -1.32  0.01  0.23\n",
              "3  192610   -3.24  0.04  0.51  0.32\n",
              "4  192611    2.53 -0.20 -0.35  0.31"
            ],
            "text/html": [
              "\n",
              "  <div id=\"df-f29a6165-132b-4f18-ac46-b0cc34f6250a\">\n",
              "    <div class=\"colab-df-container\">\n",
              "      <div>\n",
              "<style scoped>\n",
              "    .dataframe tbody tr th:only-of-type {\n",
              "        vertical-align: middle;\n",
              "    }\n",
              "\n",
              "    .dataframe tbody tr th {\n",
              "        vertical-align: top;\n",
              "    }\n",
              "\n",
              "    .dataframe thead th {\n",
              "        text-align: right;\n",
              "    }\n",
              "</style>\n",
              "<table border=\"1\" class=\"dataframe\">\n",
              "  <thead>\n",
              "    <tr style=\"text-align: right;\">\n",
              "      <th></th>\n",
              "      <th>index</th>\n",
              "      <th>Mkt-RF</th>\n",
              "      <th>SMB</th>\n",
              "      <th>HML</th>\n",
              "      <th>RF</th>\n",
              "    </tr>\n",
              "  </thead>\n",
              "  <tbody>\n",
              "    <tr>\n",
              "      <th>0</th>\n",
              "      <td>192607</td>\n",
              "      <td>2.96</td>\n",
              "      <td>-2.30</td>\n",
              "      <td>-2.87</td>\n",
              "      <td>0.22</td>\n",
              "    </tr>\n",
              "    <tr>\n",
              "      <th>1</th>\n",
              "      <td>192608</td>\n",
              "      <td>2.64</td>\n",
              "      <td>-1.40</td>\n",
              "      <td>4.19</td>\n",
              "      <td>0.25</td>\n",
              "    </tr>\n",
              "    <tr>\n",
              "      <th>2</th>\n",
              "      <td>192609</td>\n",
              "      <td>0.36</td>\n",
              "      <td>-1.32</td>\n",
              "      <td>0.01</td>\n",
              "      <td>0.23</td>\n",
              "    </tr>\n",
              "    <tr>\n",
              "      <th>3</th>\n",
              "      <td>192610</td>\n",
              "      <td>-3.24</td>\n",
              "      <td>0.04</td>\n",
              "      <td>0.51</td>\n",
              "      <td>0.32</td>\n",
              "    </tr>\n",
              "    <tr>\n",
              "      <th>4</th>\n",
              "      <td>192611</td>\n",
              "      <td>2.53</td>\n",
              "      <td>-0.20</td>\n",
              "      <td>-0.35</td>\n",
              "      <td>0.31</td>\n",
              "    </tr>\n",
              "  </tbody>\n",
              "</table>\n",
              "</div>\n",
              "      <button class=\"colab-df-convert\" onclick=\"convertToInteractive('df-f29a6165-132b-4f18-ac46-b0cc34f6250a')\"\n",
              "              title=\"Convert this dataframe to an interactive table.\"\n",
              "              style=\"display:none;\">\n",
              "        \n",
              "  <svg xmlns=\"http://www.w3.org/2000/svg\" height=\"24px\"viewBox=\"0 0 24 24\"\n",
              "       width=\"24px\">\n",
              "    <path d=\"M0 0h24v24H0V0z\" fill=\"none\"/>\n",
              "    <path d=\"M18.56 5.44l.94 2.06.94-2.06 2.06-.94-2.06-.94-.94-2.06-.94 2.06-2.06.94zm-11 1L8.5 8.5l.94-2.06 2.06-.94-2.06-.94L8.5 2.5l-.94 2.06-2.06.94zm10 10l.94 2.06.94-2.06 2.06-.94-2.06-.94-.94-2.06-.94 2.06-2.06.94z\"/><path d=\"M17.41 7.96l-1.37-1.37c-.4-.4-.92-.59-1.43-.59-.52 0-1.04.2-1.43.59L10.3 9.45l-7.72 7.72c-.78.78-.78 2.05 0 2.83L4 21.41c.39.39.9.59 1.41.59.51 0 1.02-.2 1.41-.59l7.78-7.78 2.81-2.81c.8-.78.8-2.07 0-2.86zM5.41 20L4 18.59l7.72-7.72 1.47 1.35L5.41 20z\"/>\n",
              "  </svg>\n",
              "      </button>\n",
              "      \n",
              "  <style>\n",
              "    .colab-df-container {\n",
              "      display:flex;\n",
              "      flex-wrap:wrap;\n",
              "      gap: 12px;\n",
              "    }\n",
              "\n",
              "    .colab-df-convert {\n",
              "      background-color: #E8F0FE;\n",
              "      border: none;\n",
              "      border-radius: 50%;\n",
              "      cursor: pointer;\n",
              "      display: none;\n",
              "      fill: #1967D2;\n",
              "      height: 32px;\n",
              "      padding: 0 0 0 0;\n",
              "      width: 32px;\n",
              "    }\n",
              "\n",
              "    .colab-df-convert:hover {\n",
              "      background-color: #E2EBFA;\n",
              "      box-shadow: 0px 1px 2px rgba(60, 64, 67, 0.3), 0px 1px 3px 1px rgba(60, 64, 67, 0.15);\n",
              "      fill: #174EA6;\n",
              "    }\n",
              "\n",
              "    [theme=dark] .colab-df-convert {\n",
              "      background-color: #3B4455;\n",
              "      fill: #D2E3FC;\n",
              "    }\n",
              "\n",
              "    [theme=dark] .colab-df-convert:hover {\n",
              "      background-color: #434B5C;\n",
              "      box-shadow: 0px 1px 3px 1px rgba(0, 0, 0, 0.15);\n",
              "      filter: drop-shadow(0px 1px 2px rgba(0, 0, 0, 0.3));\n",
              "      fill: #FFFFFF;\n",
              "    }\n",
              "  </style>\n",
              "\n",
              "      <script>\n",
              "        const buttonEl =\n",
              "          document.querySelector('#df-f29a6165-132b-4f18-ac46-b0cc34f6250a button.colab-df-convert');\n",
              "        buttonEl.style.display =\n",
              "          google.colab.kernel.accessAllowed ? 'block' : 'none';\n",
              "\n",
              "        async function convertToInteractive(key) {\n",
              "          const element = document.querySelector('#df-f29a6165-132b-4f18-ac46-b0cc34f6250a');\n",
              "          const dataTable =\n",
              "            await google.colab.kernel.invokeFunction('convertToInteractive',\n",
              "                                                     [key], {});\n",
              "          if (!dataTable) return;\n",
              "\n",
              "          const docLinkHtml = 'Like what you see? Visit the ' +\n",
              "            '<a target=\"_blank\" href=https://colab.research.google.com/notebooks/data_table.ipynb>data table notebook</a>'\n",
              "            + ' to learn more about interactive tables.';\n",
              "          element.innerHTML = '';\n",
              "          dataTable['output_type'] = 'display_data';\n",
              "          await google.colab.output.renderOutput(dataTable, element);\n",
              "          const docLink = document.createElement('div');\n",
              "          docLink.innerHTML = docLinkHtml;\n",
              "          element.appendChild(docLink);\n",
              "        }\n",
              "      </script>\n",
              "    </div>\n",
              "  </div>\n",
              "  "
            ]
          },
          "metadata": {},
          "execution_count": 16
        }
      ]
    },
    {
      "cell_type": "code",
      "source": [
        "fff['index'] = pd.to_datetime(fff['index'], format='%Y%m')"
      ],
      "metadata": {
        "id": "TvObKn1GPgLh"
      },
      "execution_count": 17,
      "outputs": []
    },
    {
      "cell_type": "code",
      "source": [
        "fff.set_index('index', inplace=True)"
      ],
      "metadata": {
        "id": "CwcGhmvoQ7uV"
      },
      "execution_count": 18,
      "outputs": []
    },
    {
      "cell_type": "code",
      "source": [
        "fff.index = fff.index.to_period('M')\n",
        "fff.index"
      ],
      "metadata": {
        "colab": {
          "base_uri": "https://localhost:8080/"
        },
        "id": "8ier6kwlRGfn",
        "outputId": "5ea665f0-edb6-4184-f848-2a580f9e60ef"
      },
      "execution_count": 19,
      "outputs": [
        {
          "output_type": "execute_result",
          "data": {
            "text/plain": [
              "PeriodIndex(['1926-07', '1926-08', '1926-09', '1926-10', '1926-11', '1926-12',\n",
              "             '1927-01', '1927-02', '1927-03', '1927-04',\n",
              "             ...\n",
              "             '2018-03', '2018-04', '2018-05', '2018-06', '2018-07', '2018-08',\n",
              "             '2018-09', '2018-10', '2018-11', '2018-12'],\n",
              "            dtype='period[M]', name='index', length=1110)"
            ]
          },
          "metadata": {},
          "execution_count": 19
        }
      ]
    },
    {
      "cell_type": "code",
      "source": [
        "import statsmodels.api as sm\n",
        "import numpy as np\n",
        "brka_excess = brka_m[\"1990\":\"2012-05\"] - fff.loc[\"1990\":\"2012-05\", ['RF']].values\n",
        "mkt_excess = fff.loc[\"1990\":\"2012-05\",['Mkt-RF']]\n",
        "exp_var = mkt_excess.copy()\n",
        "exp_var[\"Constant\"] = 1\n",
        "lm = sm.OLS(brka_excess, exp_var).fit()"
      ],
      "metadata": {
        "id": "8AXYrMPCSSDT"
      },
      "execution_count": 20,
      "outputs": []
    },
    {
      "cell_type": "code",
      "source": [
        "lm.summary()"
      ],
      "metadata": {
        "colab": {
          "base_uri": "https://localhost:8080/",
          "height": 452
        },
        "id": "ybTopqvhRTLD",
        "outputId": "df4988c6-9455-40f1-f0c2-80006479574f"
      },
      "execution_count": 21,
      "outputs": [
        {
          "output_type": "execute_result",
          "data": {
            "text/plain": [
              "<class 'statsmodels.iolib.summary.Summary'>\n",
              "\"\"\"\n",
              "                            OLS Regression Results                            \n",
              "==============================================================================\n",
              "Dep. Variable:                   BRKA   R-squared:                       0.019\n",
              "Model:                            OLS   Adj. R-squared:                  0.015\n",
              "Method:                 Least Squares   F-statistic:                     5.056\n",
              "Date:                Wed, 07 Sep 2022   Prob (F-statistic):             0.0254\n",
              "Time:                        14:22:36   Log-Likelihood:                 72.791\n",
              "No. Observations:                 269   AIC:                            -141.6\n",
              "Df Residuals:                     267   BIC:                            -134.4\n",
              "Df Model:                           1                                         \n",
              "Covariance Type:            nonrobust                                         \n",
              "==============================================================================\n",
              "                 coef    std err          t      P>|t|      [0.025      0.975]\n",
              "------------------------------------------------------------------------------\n",
              "Mkt-RF         0.0056      0.003      2.249      0.025       0.001       0.011\n",
              "Constant      -0.2720      0.011    -23.924      0.000      -0.294      -0.250\n",
              "==============================================================================\n",
              "Omnibus:                       17.353   Durbin-Watson:                   0.238\n",
              "Prob(Omnibus):                  0.000   Jarque-Bera (JB):                6.747\n",
              "Skew:                          -0.020   Prob(JB):                       0.0343\n",
              "Kurtosis:                       2.225   Cond. No.                         4.56\n",
              "==============================================================================\n",
              "\n",
              "Notes:\n",
              "[1] Standard Errors assume that the covariance matrix of the errors is correctly specified.\n",
              "\"\"\""
            ],
            "text/html": [
              "<table class=\"simpletable\">\n",
              "<caption>OLS Regression Results</caption>\n",
              "<tr>\n",
              "  <th>Dep. Variable:</th>          <td>BRKA</td>       <th>  R-squared:         </th> <td>   0.019</td>\n",
              "</tr>\n",
              "<tr>\n",
              "  <th>Model:</th>                   <td>OLS</td>       <th>  Adj. R-squared:    </th> <td>   0.015</td>\n",
              "</tr>\n",
              "<tr>\n",
              "  <th>Method:</th>             <td>Least Squares</td>  <th>  F-statistic:       </th> <td>   5.056</td>\n",
              "</tr>\n",
              "<tr>\n",
              "  <th>Date:</th>             <td>Wed, 07 Sep 2022</td> <th>  Prob (F-statistic):</th>  <td>0.0254</td> \n",
              "</tr>\n",
              "<tr>\n",
              "  <th>Time:</th>                 <td>14:22:36</td>     <th>  Log-Likelihood:    </th> <td>  72.791</td>\n",
              "</tr>\n",
              "<tr>\n",
              "  <th>No. Observations:</th>      <td>   269</td>      <th>  AIC:               </th> <td>  -141.6</td>\n",
              "</tr>\n",
              "<tr>\n",
              "  <th>Df Residuals:</th>          <td>   267</td>      <th>  BIC:               </th> <td>  -134.4</td>\n",
              "</tr>\n",
              "<tr>\n",
              "  <th>Df Model:</th>              <td>     1</td>      <th>                     </th>     <td> </td>   \n",
              "</tr>\n",
              "<tr>\n",
              "  <th>Covariance Type:</th>      <td>nonrobust</td>    <th>                     </th>     <td> </td>   \n",
              "</tr>\n",
              "</table>\n",
              "<table class=\"simpletable\">\n",
              "<tr>\n",
              "      <td></td>        <th>coef</th>     <th>std err</th>      <th>t</th>      <th>P>|t|</th>  <th>[0.025</th>    <th>0.975]</th>  \n",
              "</tr>\n",
              "<tr>\n",
              "  <th>Mkt-RF</th>   <td>    0.0056</td> <td>    0.003</td> <td>    2.249</td> <td> 0.025</td> <td>    0.001</td> <td>    0.011</td>\n",
              "</tr>\n",
              "<tr>\n",
              "  <th>Constant</th> <td>   -0.2720</td> <td>    0.011</td> <td>  -23.924</td> <td> 0.000</td> <td>   -0.294</td> <td>   -0.250</td>\n",
              "</tr>\n",
              "</table>\n",
              "<table class=\"simpletable\">\n",
              "<tr>\n",
              "  <th>Omnibus:</th>       <td>17.353</td> <th>  Durbin-Watson:     </th> <td>   0.238</td>\n",
              "</tr>\n",
              "<tr>\n",
              "  <th>Prob(Omnibus):</th> <td> 0.000</td> <th>  Jarque-Bera (JB):  </th> <td>   6.747</td>\n",
              "</tr>\n",
              "<tr>\n",
              "  <th>Skew:</th>          <td>-0.020</td> <th>  Prob(JB):          </th> <td>  0.0343</td>\n",
              "</tr>\n",
              "<tr>\n",
              "  <th>Kurtosis:</th>      <td> 2.225</td> <th>  Cond. No.          </th> <td>    4.56</td>\n",
              "</tr>\n",
              "</table><br/><br/>Notes:<br/>[1] Standard Errors assume that the covariance matrix of the errors is correctly specified."
            ]
          },
          "metadata": {},
          "execution_count": 21
        }
      ]
    },
    {
      "cell_type": "markdown",
      "source": [
        "+ Descomponga los retornos de BRKA según el modelo de Fama-French\n",
        "$$E[r_i]=r_f+\\beta_{i, MKT}E[r_m-r_f]+\\beta_{i, SMB}E[SMB]+\\beta_{i, HML}E[HML]$$"
      ],
      "metadata": {
        "id": "P19UrtGcSTTz"
      }
    },
    {
      "cell_type": "code",
      "source": [
        "exp_var[\"Value\"] = fff.loc[\"1990\":\"2012-05\",['HML']]\n",
        "exp_var[\"Size\"] = fff.loc[\"1990\":\"2012-05\",['SMB']]\n",
        "exp_var.head()"
      ],
      "metadata": {
        "id": "S-VnXHkvTTCI",
        "colab": {
          "base_uri": "https://localhost:8080/",
          "height": 238
        },
        "outputId": "1265e43f-0ea7-464b-cdf3-3b220d86a24a"
      },
      "execution_count": 22,
      "outputs": [
        {
          "output_type": "execute_result",
          "data": {
            "text/plain": [
              "         Mkt-RF  Constant  Value  Size\n",
              "index                                 \n",
              "1990-01   -7.85         1   0.87 -1.29\n",
              "1990-02    1.11         1   0.61  1.03\n",
              "1990-03    1.83         1  -2.90  1.52\n",
              "1990-04   -3.36         1  -2.55 -0.50\n",
              "1990-05    8.42         1  -3.74 -2.57"
            ],
            "text/html": [
              "\n",
              "  <div id=\"df-76b462f8-0f45-46a9-a9ed-d205172a27c0\">\n",
              "    <div class=\"colab-df-container\">\n",
              "      <div>\n",
              "<style scoped>\n",
              "    .dataframe tbody tr th:only-of-type {\n",
              "        vertical-align: middle;\n",
              "    }\n",
              "\n",
              "    .dataframe tbody tr th {\n",
              "        vertical-align: top;\n",
              "    }\n",
              "\n",
              "    .dataframe thead th {\n",
              "        text-align: right;\n",
              "    }\n",
              "</style>\n",
              "<table border=\"1\" class=\"dataframe\">\n",
              "  <thead>\n",
              "    <tr style=\"text-align: right;\">\n",
              "      <th></th>\n",
              "      <th>Mkt-RF</th>\n",
              "      <th>Constant</th>\n",
              "      <th>Value</th>\n",
              "      <th>Size</th>\n",
              "    </tr>\n",
              "    <tr>\n",
              "      <th>index</th>\n",
              "      <th></th>\n",
              "      <th></th>\n",
              "      <th></th>\n",
              "      <th></th>\n",
              "    </tr>\n",
              "  </thead>\n",
              "  <tbody>\n",
              "    <tr>\n",
              "      <th>1990-01</th>\n",
              "      <td>-7.85</td>\n",
              "      <td>1</td>\n",
              "      <td>0.87</td>\n",
              "      <td>-1.29</td>\n",
              "    </tr>\n",
              "    <tr>\n",
              "      <th>1990-02</th>\n",
              "      <td>1.11</td>\n",
              "      <td>1</td>\n",
              "      <td>0.61</td>\n",
              "      <td>1.03</td>\n",
              "    </tr>\n",
              "    <tr>\n",
              "      <th>1990-03</th>\n",
              "      <td>1.83</td>\n",
              "      <td>1</td>\n",
              "      <td>-2.90</td>\n",
              "      <td>1.52</td>\n",
              "    </tr>\n",
              "    <tr>\n",
              "      <th>1990-04</th>\n",
              "      <td>-3.36</td>\n",
              "      <td>1</td>\n",
              "      <td>-2.55</td>\n",
              "      <td>-0.50</td>\n",
              "    </tr>\n",
              "    <tr>\n",
              "      <th>1990-05</th>\n",
              "      <td>8.42</td>\n",
              "      <td>1</td>\n",
              "      <td>-3.74</td>\n",
              "      <td>-2.57</td>\n",
              "    </tr>\n",
              "  </tbody>\n",
              "</table>\n",
              "</div>\n",
              "      <button class=\"colab-df-convert\" onclick=\"convertToInteractive('df-76b462f8-0f45-46a9-a9ed-d205172a27c0')\"\n",
              "              title=\"Convert this dataframe to an interactive table.\"\n",
              "              style=\"display:none;\">\n",
              "        \n",
              "  <svg xmlns=\"http://www.w3.org/2000/svg\" height=\"24px\"viewBox=\"0 0 24 24\"\n",
              "       width=\"24px\">\n",
              "    <path d=\"M0 0h24v24H0V0z\" fill=\"none\"/>\n",
              "    <path d=\"M18.56 5.44l.94 2.06.94-2.06 2.06-.94-2.06-.94-.94-2.06-.94 2.06-2.06.94zm-11 1L8.5 8.5l.94-2.06 2.06-.94-2.06-.94L8.5 2.5l-.94 2.06-2.06.94zm10 10l.94 2.06.94-2.06 2.06-.94-2.06-.94-.94-2.06-.94 2.06-2.06.94z\"/><path d=\"M17.41 7.96l-1.37-1.37c-.4-.4-.92-.59-1.43-.59-.52 0-1.04.2-1.43.59L10.3 9.45l-7.72 7.72c-.78.78-.78 2.05 0 2.83L4 21.41c.39.39.9.59 1.41.59.51 0 1.02-.2 1.41-.59l7.78-7.78 2.81-2.81c.8-.78.8-2.07 0-2.86zM5.41 20L4 18.59l7.72-7.72 1.47 1.35L5.41 20z\"/>\n",
              "  </svg>\n",
              "      </button>\n",
              "      \n",
              "  <style>\n",
              "    .colab-df-container {\n",
              "      display:flex;\n",
              "      flex-wrap:wrap;\n",
              "      gap: 12px;\n",
              "    }\n",
              "\n",
              "    .colab-df-convert {\n",
              "      background-color: #E8F0FE;\n",
              "      border: none;\n",
              "      border-radius: 50%;\n",
              "      cursor: pointer;\n",
              "      display: none;\n",
              "      fill: #1967D2;\n",
              "      height: 32px;\n",
              "      padding: 0 0 0 0;\n",
              "      width: 32px;\n",
              "    }\n",
              "\n",
              "    .colab-df-convert:hover {\n",
              "      background-color: #E2EBFA;\n",
              "      box-shadow: 0px 1px 2px rgba(60, 64, 67, 0.3), 0px 1px 3px 1px rgba(60, 64, 67, 0.15);\n",
              "      fill: #174EA6;\n",
              "    }\n",
              "\n",
              "    [theme=dark] .colab-df-convert {\n",
              "      background-color: #3B4455;\n",
              "      fill: #D2E3FC;\n",
              "    }\n",
              "\n",
              "    [theme=dark] .colab-df-convert:hover {\n",
              "      background-color: #434B5C;\n",
              "      box-shadow: 0px 1px 3px 1px rgba(0, 0, 0, 0.15);\n",
              "      filter: drop-shadow(0px 1px 2px rgba(0, 0, 0, 0.3));\n",
              "      fill: #FFFFFF;\n",
              "    }\n",
              "  </style>\n",
              "\n",
              "      <script>\n",
              "        const buttonEl =\n",
              "          document.querySelector('#df-76b462f8-0f45-46a9-a9ed-d205172a27c0 button.colab-df-convert');\n",
              "        buttonEl.style.display =\n",
              "          google.colab.kernel.accessAllowed ? 'block' : 'none';\n",
              "\n",
              "        async function convertToInteractive(key) {\n",
              "          const element = document.querySelector('#df-76b462f8-0f45-46a9-a9ed-d205172a27c0');\n",
              "          const dataTable =\n",
              "            await google.colab.kernel.invokeFunction('convertToInteractive',\n",
              "                                                     [key], {});\n",
              "          if (!dataTable) return;\n",
              "\n",
              "          const docLinkHtml = 'Like what you see? Visit the ' +\n",
              "            '<a target=\"_blank\" href=https://colab.research.google.com/notebooks/data_table.ipynb>data table notebook</a>'\n",
              "            + ' to learn more about interactive tables.';\n",
              "          element.innerHTML = '';\n",
              "          dataTable['output_type'] = 'display_data';\n",
              "          await google.colab.output.renderOutput(dataTable, element);\n",
              "          const docLink = document.createElement('div');\n",
              "          docLink.innerHTML = docLinkHtml;\n",
              "          element.appendChild(docLink);\n",
              "        }\n",
              "      </script>\n",
              "    </div>\n",
              "  </div>\n",
              "  "
            ]
          },
          "metadata": {},
          "execution_count": 22
        }
      ]
    },
    {
      "cell_type": "code",
      "source": [
        "lm = sm.OLS(brka_excess, exp_var).fit()\n",
        "lm.summary()"
      ],
      "metadata": {
        "colab": {
          "base_uri": "https://localhost:8080/",
          "height": 494
        },
        "id": "85efdNnTSGT-",
        "outputId": "75c59472-46b9-4902-c6ad-287d1a3e62c2"
      },
      "execution_count": 23,
      "outputs": [
        {
          "output_type": "execute_result",
          "data": {
            "text/plain": [
              "<class 'statsmodels.iolib.summary.Summary'>\n",
              "\"\"\"\n",
              "                            OLS Regression Results                            \n",
              "==============================================================================\n",
              "Dep. Variable:                   BRKA   R-squared:                       0.024\n",
              "Model:                            OLS   Adj. R-squared:                  0.013\n",
              "Method:                 Least Squares   F-statistic:                     2.132\n",
              "Date:                Wed, 07 Sep 2022   Prob (F-statistic):             0.0966\n",
              "Time:                        14:22:36   Log-Likelihood:                 73.475\n",
              "No. Observations:                 269   AIC:                            -138.9\n",
              "Df Residuals:                     265   BIC:                            -124.6\n",
              "Df Model:                           3                                         \n",
              "Covariance Type:            nonrobust                                         \n",
              "==============================================================================\n",
              "                 coef    std err          t      P>|t|      [0.025      0.975]\n",
              "------------------------------------------------------------------------------\n",
              "Mkt-RF         0.0059      0.003      2.284      0.023       0.001       0.011\n",
              "Constant      -0.2735      0.011    -23.873      0.000      -0.296      -0.251\n",
              "Value          0.0044      0.004      1.149      0.252      -0.003       0.012\n",
              "Size           0.0018      0.004      0.492      0.623      -0.005       0.009\n",
              "==============================================================================\n",
              "Omnibus:                       18.879   Durbin-Watson:                   0.237\n",
              "Prob(Omnibus):                  0.000   Jarque-Bera (JB):                7.069\n",
              "Skew:                           0.020   Prob(JB):                       0.0292\n",
              "Kurtosis:                       2.207   Cond. No.                         4.84\n",
              "==============================================================================\n",
              "\n",
              "Notes:\n",
              "[1] Standard Errors assume that the covariance matrix of the errors is correctly specified.\n",
              "\"\"\""
            ],
            "text/html": [
              "<table class=\"simpletable\">\n",
              "<caption>OLS Regression Results</caption>\n",
              "<tr>\n",
              "  <th>Dep. Variable:</th>          <td>BRKA</td>       <th>  R-squared:         </th> <td>   0.024</td>\n",
              "</tr>\n",
              "<tr>\n",
              "  <th>Model:</th>                   <td>OLS</td>       <th>  Adj. R-squared:    </th> <td>   0.013</td>\n",
              "</tr>\n",
              "<tr>\n",
              "  <th>Method:</th>             <td>Least Squares</td>  <th>  F-statistic:       </th> <td>   2.132</td>\n",
              "</tr>\n",
              "<tr>\n",
              "  <th>Date:</th>             <td>Wed, 07 Sep 2022</td> <th>  Prob (F-statistic):</th>  <td>0.0966</td> \n",
              "</tr>\n",
              "<tr>\n",
              "  <th>Time:</th>                 <td>14:22:36</td>     <th>  Log-Likelihood:    </th> <td>  73.475</td>\n",
              "</tr>\n",
              "<tr>\n",
              "  <th>No. Observations:</th>      <td>   269</td>      <th>  AIC:               </th> <td>  -138.9</td>\n",
              "</tr>\n",
              "<tr>\n",
              "  <th>Df Residuals:</th>          <td>   265</td>      <th>  BIC:               </th> <td>  -124.6</td>\n",
              "</tr>\n",
              "<tr>\n",
              "  <th>Df Model:</th>              <td>     3</td>      <th>                     </th>     <td> </td>   \n",
              "</tr>\n",
              "<tr>\n",
              "  <th>Covariance Type:</th>      <td>nonrobust</td>    <th>                     </th>     <td> </td>   \n",
              "</tr>\n",
              "</table>\n",
              "<table class=\"simpletable\">\n",
              "<tr>\n",
              "      <td></td>        <th>coef</th>     <th>std err</th>      <th>t</th>      <th>P>|t|</th>  <th>[0.025</th>    <th>0.975]</th>  \n",
              "</tr>\n",
              "<tr>\n",
              "  <th>Mkt-RF</th>   <td>    0.0059</td> <td>    0.003</td> <td>    2.284</td> <td> 0.023</td> <td>    0.001</td> <td>    0.011</td>\n",
              "</tr>\n",
              "<tr>\n",
              "  <th>Constant</th> <td>   -0.2735</td> <td>    0.011</td> <td>  -23.873</td> <td> 0.000</td> <td>   -0.296</td> <td>   -0.251</td>\n",
              "</tr>\n",
              "<tr>\n",
              "  <th>Value</th>    <td>    0.0044</td> <td>    0.004</td> <td>    1.149</td> <td> 0.252</td> <td>   -0.003</td> <td>    0.012</td>\n",
              "</tr>\n",
              "<tr>\n",
              "  <th>Size</th>     <td>    0.0018</td> <td>    0.004</td> <td>    0.492</td> <td> 0.623</td> <td>   -0.005</td> <td>    0.009</td>\n",
              "</tr>\n",
              "</table>\n",
              "<table class=\"simpletable\">\n",
              "<tr>\n",
              "  <th>Omnibus:</th>       <td>18.879</td> <th>  Durbin-Watson:     </th> <td>   0.237</td>\n",
              "</tr>\n",
              "<tr>\n",
              "  <th>Prob(Omnibus):</th> <td> 0.000</td> <th>  Jarque-Bera (JB):  </th> <td>   7.069</td>\n",
              "</tr>\n",
              "<tr>\n",
              "  <th>Skew:</th>          <td> 0.020</td> <th>  Prob(JB):          </th> <td>  0.0292</td>\n",
              "</tr>\n",
              "<tr>\n",
              "  <th>Kurtosis:</th>      <td> 2.207</td> <th>  Cond. No.          </th> <td>    4.84</td>\n",
              "</tr>\n",
              "</table><br/><br/>Notes:<br/>[1] Standard Errors assume that the covariance matrix of the errors is correctly specified."
            ]
          },
          "metadata": {},
          "execution_count": 23
        }
      ]
    },
    {
      "cell_type": "markdown",
      "source": [
        "## Pregunta 4\n",
        "\n",
        "Obtenga los datos del IPSA y de las compañías que componen el [IPSA](https://www.rankia.cl/blog/analisis-ipsa/3229498-que-empresas-forman-parte-ipsa). Calcule el retorno y la volatilidad para un portfolio equally weighted y compárelo con el retorno y la volatilidad del IPSA. Calcule las métricas:\n",
        "+ Sharpe Ratio\n",
        "+ Treynor Ratio\n",
        "+ $\\beta$ \n"
      ],
      "metadata": {
        "id": "8NCNjKkAUct-"
      }
    },
    {
      "cell_type": "code",
      "source": [
        "lista = [\n",
        "    'SOQUICOM.SN',\n",
        "    'CHILE.SN',\n",
        "    'ENELCHILE.SN',\n",
        "    'COPEC.SN',\n",
        "    'BSANTANDER.SN'\n",
        "    ]"
      ],
      "metadata": {
        "id": "0TYVzlJBWwV7"
      },
      "execution_count": 24,
      "outputs": []
    },
    {
      "cell_type": "markdown",
      "source": [
        "# Trabajo Carteras de Inversión"
      ],
      "metadata": {
        "id": "WRZIBsyQVTyo"
      }
    },
    {
      "cell_type": "markdown",
      "source": [
        "## Pregunta 1"
      ],
      "metadata": {
        "id": "raYW9srFX0Ig"
      }
    },
    {
      "cell_type": "code",
      "source": [
        "ticker = ['SPY', 'AGG', 'BXMIX', 'BTC-USD']\n",
        "\n",
        "end = '2021-12-31'\n",
        "\n",
        "p = web.DataReader(ticker, 'yahoo', end = end)\n",
        "\n",
        "prices = p['Adj Close']\n",
        "\n",
        "returns = prices.pct_change().dropna()"
      ],
      "metadata": {
        "id": "uyqGJdPsVY8Z"
      },
      "execution_count": 29,
      "outputs": []
    },
    {
      "cell_type": "code",
      "source": [
        "returns.head()"
      ],
      "metadata": {
        "colab": {
          "base_uri": "https://localhost:8080/",
          "height": 238
        },
        "id": "m6ze82pSVxyn",
        "outputId": "7c199cfb-a1f4-4f6a-a570-5465ba4e760d"
      },
      "execution_count": 30,
      "outputs": [
        {
          "output_type": "execute_result",
          "data": {
            "text/plain": [
              "Symbols          SPY       AGG     BXMIX   BTC-USD\n",
              "Date                                              \n",
              "2017-09-09  0.000000  0.000000  0.000000 -0.000636\n",
              "2017-09-10  0.000000  0.000000  0.000000 -0.024401\n",
              "2017-09-11  0.010666 -0.002716  0.001828  0.009297\n",
              "2017-09-12  0.003371 -0.001452 -0.000912 -0.007320\n",
              "2017-09-13  0.000480 -0.001000 -0.001826 -0.060090"
            ],
            "text/html": [
              "\n",
              "  <div id=\"df-f24c5daf-5d84-4e4c-9034-c0f575dec329\">\n",
              "    <div class=\"colab-df-container\">\n",
              "      <div>\n",
              "<style scoped>\n",
              "    .dataframe tbody tr th:only-of-type {\n",
              "        vertical-align: middle;\n",
              "    }\n",
              "\n",
              "    .dataframe tbody tr th {\n",
              "        vertical-align: top;\n",
              "    }\n",
              "\n",
              "    .dataframe thead th {\n",
              "        text-align: right;\n",
              "    }\n",
              "</style>\n",
              "<table border=\"1\" class=\"dataframe\">\n",
              "  <thead>\n",
              "    <tr style=\"text-align: right;\">\n",
              "      <th>Symbols</th>\n",
              "      <th>SPY</th>\n",
              "      <th>AGG</th>\n",
              "      <th>BXMIX</th>\n",
              "      <th>BTC-USD</th>\n",
              "    </tr>\n",
              "    <tr>\n",
              "      <th>Date</th>\n",
              "      <th></th>\n",
              "      <th></th>\n",
              "      <th></th>\n",
              "      <th></th>\n",
              "    </tr>\n",
              "  </thead>\n",
              "  <tbody>\n",
              "    <tr>\n",
              "      <th>2017-09-09</th>\n",
              "      <td>0.000000</td>\n",
              "      <td>0.000000</td>\n",
              "      <td>0.000000</td>\n",
              "      <td>-0.000636</td>\n",
              "    </tr>\n",
              "    <tr>\n",
              "      <th>2017-09-10</th>\n",
              "      <td>0.000000</td>\n",
              "      <td>0.000000</td>\n",
              "      <td>0.000000</td>\n",
              "      <td>-0.024401</td>\n",
              "    </tr>\n",
              "    <tr>\n",
              "      <th>2017-09-11</th>\n",
              "      <td>0.010666</td>\n",
              "      <td>-0.002716</td>\n",
              "      <td>0.001828</td>\n",
              "      <td>0.009297</td>\n",
              "    </tr>\n",
              "    <tr>\n",
              "      <th>2017-09-12</th>\n",
              "      <td>0.003371</td>\n",
              "      <td>-0.001452</td>\n",
              "      <td>-0.000912</td>\n",
              "      <td>-0.007320</td>\n",
              "    </tr>\n",
              "    <tr>\n",
              "      <th>2017-09-13</th>\n",
              "      <td>0.000480</td>\n",
              "      <td>-0.001000</td>\n",
              "      <td>-0.001826</td>\n",
              "      <td>-0.060090</td>\n",
              "    </tr>\n",
              "  </tbody>\n",
              "</table>\n",
              "</div>\n",
              "      <button class=\"colab-df-convert\" onclick=\"convertToInteractive('df-f24c5daf-5d84-4e4c-9034-c0f575dec329')\"\n",
              "              title=\"Convert this dataframe to an interactive table.\"\n",
              "              style=\"display:none;\">\n",
              "        \n",
              "  <svg xmlns=\"http://www.w3.org/2000/svg\" height=\"24px\"viewBox=\"0 0 24 24\"\n",
              "       width=\"24px\">\n",
              "    <path d=\"M0 0h24v24H0V0z\" fill=\"none\"/>\n",
              "    <path d=\"M18.56 5.44l.94 2.06.94-2.06 2.06-.94-2.06-.94-.94-2.06-.94 2.06-2.06.94zm-11 1L8.5 8.5l.94-2.06 2.06-.94-2.06-.94L8.5 2.5l-.94 2.06-2.06.94zm10 10l.94 2.06.94-2.06 2.06-.94-2.06-.94-.94-2.06-.94 2.06-2.06.94z\"/><path d=\"M17.41 7.96l-1.37-1.37c-.4-.4-.92-.59-1.43-.59-.52 0-1.04.2-1.43.59L10.3 9.45l-7.72 7.72c-.78.78-.78 2.05 0 2.83L4 21.41c.39.39.9.59 1.41.59.51 0 1.02-.2 1.41-.59l7.78-7.78 2.81-2.81c.8-.78.8-2.07 0-2.86zM5.41 20L4 18.59l7.72-7.72 1.47 1.35L5.41 20z\"/>\n",
              "  </svg>\n",
              "      </button>\n",
              "      \n",
              "  <style>\n",
              "    .colab-df-container {\n",
              "      display:flex;\n",
              "      flex-wrap:wrap;\n",
              "      gap: 12px;\n",
              "    }\n",
              "\n",
              "    .colab-df-convert {\n",
              "      background-color: #E8F0FE;\n",
              "      border: none;\n",
              "      border-radius: 50%;\n",
              "      cursor: pointer;\n",
              "      display: none;\n",
              "      fill: #1967D2;\n",
              "      height: 32px;\n",
              "      padding: 0 0 0 0;\n",
              "      width: 32px;\n",
              "    }\n",
              "\n",
              "    .colab-df-convert:hover {\n",
              "      background-color: #E2EBFA;\n",
              "      box-shadow: 0px 1px 2px rgba(60, 64, 67, 0.3), 0px 1px 3px 1px rgba(60, 64, 67, 0.15);\n",
              "      fill: #174EA6;\n",
              "    }\n",
              "\n",
              "    [theme=dark] .colab-df-convert {\n",
              "      background-color: #3B4455;\n",
              "      fill: #D2E3FC;\n",
              "    }\n",
              "\n",
              "    [theme=dark] .colab-df-convert:hover {\n",
              "      background-color: #434B5C;\n",
              "      box-shadow: 0px 1px 3px 1px rgba(0, 0, 0, 0.15);\n",
              "      filter: drop-shadow(0px 1px 2px rgba(0, 0, 0, 0.3));\n",
              "      fill: #FFFFFF;\n",
              "    }\n",
              "  </style>\n",
              "\n",
              "      <script>\n",
              "        const buttonEl =\n",
              "          document.querySelector('#df-f24c5daf-5d84-4e4c-9034-c0f575dec329 button.colab-df-convert');\n",
              "        buttonEl.style.display =\n",
              "          google.colab.kernel.accessAllowed ? 'block' : 'none';\n",
              "\n",
              "        async function convertToInteractive(key) {\n",
              "          const element = document.querySelector('#df-f24c5daf-5d84-4e4c-9034-c0f575dec329');\n",
              "          const dataTable =\n",
              "            await google.colab.kernel.invokeFunction('convertToInteractive',\n",
              "                                                     [key], {});\n",
              "          if (!dataTable) return;\n",
              "\n",
              "          const docLinkHtml = 'Like what you see? Visit the ' +\n",
              "            '<a target=\"_blank\" href=https://colab.research.google.com/notebooks/data_table.ipynb>data table notebook</a>'\n",
              "            + ' to learn more about interactive tables.';\n",
              "          element.innerHTML = '';\n",
              "          dataTable['output_type'] = 'display_data';\n",
              "          await google.colab.output.renderOutput(dataTable, element);\n",
              "          const docLink = document.createElement('div');\n",
              "          docLink.innerHTML = docLinkHtml;\n",
              "          element.appendChild(docLink);\n",
              "        }\n",
              "      </script>\n",
              "    </div>\n",
              "  </div>\n",
              "  "
            ]
          },
          "metadata": {},
          "execution_count": 30
        }
      ]
    },
    {
      "cell_type": "code",
      "source": [
        "returns.corr()"
      ],
      "metadata": {
        "colab": {
          "base_uri": "https://localhost:8080/",
          "height": 206
        },
        "id": "lGZMTaZoVzhw",
        "outputId": "5dc9d7f8-98b2-4b9a-de65-a3643c97263d"
      },
      "execution_count": 31,
      "outputs": [
        {
          "output_type": "execute_result",
          "data": {
            "text/plain": [
              "Symbols       SPY       AGG     BXMIX   BTC-USD\n",
              "Symbols                                        \n",
              "SPY      1.000000  0.052119  0.527733  0.197640\n",
              "AGG      0.052119  1.000000  0.144916  0.131698\n",
              "BXMIX    0.527733  0.144916  1.000000  0.108731\n",
              "BTC-USD  0.197640  0.131698  0.108731  1.000000"
            ],
            "text/html": [
              "\n",
              "  <div id=\"df-5c35d204-8715-4d0b-bda8-0bf9b9ebd231\">\n",
              "    <div class=\"colab-df-container\">\n",
              "      <div>\n",
              "<style scoped>\n",
              "    .dataframe tbody tr th:only-of-type {\n",
              "        vertical-align: middle;\n",
              "    }\n",
              "\n",
              "    .dataframe tbody tr th {\n",
              "        vertical-align: top;\n",
              "    }\n",
              "\n",
              "    .dataframe thead th {\n",
              "        text-align: right;\n",
              "    }\n",
              "</style>\n",
              "<table border=\"1\" class=\"dataframe\">\n",
              "  <thead>\n",
              "    <tr style=\"text-align: right;\">\n",
              "      <th>Symbols</th>\n",
              "      <th>SPY</th>\n",
              "      <th>AGG</th>\n",
              "      <th>BXMIX</th>\n",
              "      <th>BTC-USD</th>\n",
              "    </tr>\n",
              "    <tr>\n",
              "      <th>Symbols</th>\n",
              "      <th></th>\n",
              "      <th></th>\n",
              "      <th></th>\n",
              "      <th></th>\n",
              "    </tr>\n",
              "  </thead>\n",
              "  <tbody>\n",
              "    <tr>\n",
              "      <th>SPY</th>\n",
              "      <td>1.000000</td>\n",
              "      <td>0.052119</td>\n",
              "      <td>0.527733</td>\n",
              "      <td>0.197640</td>\n",
              "    </tr>\n",
              "    <tr>\n",
              "      <th>AGG</th>\n",
              "      <td>0.052119</td>\n",
              "      <td>1.000000</td>\n",
              "      <td>0.144916</td>\n",
              "      <td>0.131698</td>\n",
              "    </tr>\n",
              "    <tr>\n",
              "      <th>BXMIX</th>\n",
              "      <td>0.527733</td>\n",
              "      <td>0.144916</td>\n",
              "      <td>1.000000</td>\n",
              "      <td>0.108731</td>\n",
              "    </tr>\n",
              "    <tr>\n",
              "      <th>BTC-USD</th>\n",
              "      <td>0.197640</td>\n",
              "      <td>0.131698</td>\n",
              "      <td>0.108731</td>\n",
              "      <td>1.000000</td>\n",
              "    </tr>\n",
              "  </tbody>\n",
              "</table>\n",
              "</div>\n",
              "      <button class=\"colab-df-convert\" onclick=\"convertToInteractive('df-5c35d204-8715-4d0b-bda8-0bf9b9ebd231')\"\n",
              "              title=\"Convert this dataframe to an interactive table.\"\n",
              "              style=\"display:none;\">\n",
              "        \n",
              "  <svg xmlns=\"http://www.w3.org/2000/svg\" height=\"24px\"viewBox=\"0 0 24 24\"\n",
              "       width=\"24px\">\n",
              "    <path d=\"M0 0h24v24H0V0z\" fill=\"none\"/>\n",
              "    <path d=\"M18.56 5.44l.94 2.06.94-2.06 2.06-.94-2.06-.94-.94-2.06-.94 2.06-2.06.94zm-11 1L8.5 8.5l.94-2.06 2.06-.94-2.06-.94L8.5 2.5l-.94 2.06-2.06.94zm10 10l.94 2.06.94-2.06 2.06-.94-2.06-.94-.94-2.06-.94 2.06-2.06.94z\"/><path d=\"M17.41 7.96l-1.37-1.37c-.4-.4-.92-.59-1.43-.59-.52 0-1.04.2-1.43.59L10.3 9.45l-7.72 7.72c-.78.78-.78 2.05 0 2.83L4 21.41c.39.39.9.59 1.41.59.51 0 1.02-.2 1.41-.59l7.78-7.78 2.81-2.81c.8-.78.8-2.07 0-2.86zM5.41 20L4 18.59l7.72-7.72 1.47 1.35L5.41 20z\"/>\n",
              "  </svg>\n",
              "      </button>\n",
              "      \n",
              "  <style>\n",
              "    .colab-df-container {\n",
              "      display:flex;\n",
              "      flex-wrap:wrap;\n",
              "      gap: 12px;\n",
              "    }\n",
              "\n",
              "    .colab-df-convert {\n",
              "      background-color: #E8F0FE;\n",
              "      border: none;\n",
              "      border-radius: 50%;\n",
              "      cursor: pointer;\n",
              "      display: none;\n",
              "      fill: #1967D2;\n",
              "      height: 32px;\n",
              "      padding: 0 0 0 0;\n",
              "      width: 32px;\n",
              "    }\n",
              "\n",
              "    .colab-df-convert:hover {\n",
              "      background-color: #E2EBFA;\n",
              "      box-shadow: 0px 1px 2px rgba(60, 64, 67, 0.3), 0px 1px 3px 1px rgba(60, 64, 67, 0.15);\n",
              "      fill: #174EA6;\n",
              "    }\n",
              "\n",
              "    [theme=dark] .colab-df-convert {\n",
              "      background-color: #3B4455;\n",
              "      fill: #D2E3FC;\n",
              "    }\n",
              "\n",
              "    [theme=dark] .colab-df-convert:hover {\n",
              "      background-color: #434B5C;\n",
              "      box-shadow: 0px 1px 3px 1px rgba(0, 0, 0, 0.15);\n",
              "      filter: drop-shadow(0px 1px 2px rgba(0, 0, 0, 0.3));\n",
              "      fill: #FFFFFF;\n",
              "    }\n",
              "  </style>\n",
              "\n",
              "      <script>\n",
              "        const buttonEl =\n",
              "          document.querySelector('#df-5c35d204-8715-4d0b-bda8-0bf9b9ebd231 button.colab-df-convert');\n",
              "        buttonEl.style.display =\n",
              "          google.colab.kernel.accessAllowed ? 'block' : 'none';\n",
              "\n",
              "        async function convertToInteractive(key) {\n",
              "          const element = document.querySelector('#df-5c35d204-8715-4d0b-bda8-0bf9b9ebd231');\n",
              "          const dataTable =\n",
              "            await google.colab.kernel.invokeFunction('convertToInteractive',\n",
              "                                                     [key], {});\n",
              "          if (!dataTable) return;\n",
              "\n",
              "          const docLinkHtml = 'Like what you see? Visit the ' +\n",
              "            '<a target=\"_blank\" href=https://colab.research.google.com/notebooks/data_table.ipynb>data table notebook</a>'\n",
              "            + ' to learn more about interactive tables.';\n",
              "          element.innerHTML = '';\n",
              "          dataTable['output_type'] = 'display_data';\n",
              "          await google.colab.output.renderOutput(dataTable, element);\n",
              "          const docLink = document.createElement('div');\n",
              "          docLink.innerHTML = docLinkHtml;\n",
              "          element.appendChild(docLink);\n",
              "        }\n",
              "      </script>\n",
              "    </div>\n",
              "  </div>\n",
              "  "
            ]
          },
          "metadata": {},
          "execution_count": 31
        }
      ]
    },
    {
      "cell_type": "code",
      "source": [
        "returns.loc['2020-12-31':].corr()"
      ],
      "metadata": {
        "colab": {
          "base_uri": "https://localhost:8080/",
          "height": 206
        },
        "id": "DJ0MwdgWWekd",
        "outputId": "3cdfbc1f-4fc1-40b5-9e0e-c3cadd2a5e04"
      },
      "execution_count": 33,
      "outputs": [
        {
          "output_type": "execute_result",
          "data": {
            "text/plain": [
              "Symbols       SPY       AGG     BXMIX   BTC-USD\n",
              "Symbols                                        \n",
              "SPY      1.000000  0.038909  0.425873  0.299159\n",
              "AGG      0.038909  1.000000 -0.021736  0.019366\n",
              "BXMIX    0.425873 -0.021736  1.000000  0.183735\n",
              "BTC-USD  0.299159  0.019366  0.183735  1.000000"
            ],
            "text/html": [
              "\n",
              "  <div id=\"df-f0bf411c-674f-44e0-8c62-98204c5ae3d0\">\n",
              "    <div class=\"colab-df-container\">\n",
              "      <div>\n",
              "<style scoped>\n",
              "    .dataframe tbody tr th:only-of-type {\n",
              "        vertical-align: middle;\n",
              "    }\n",
              "\n",
              "    .dataframe tbody tr th {\n",
              "        vertical-align: top;\n",
              "    }\n",
              "\n",
              "    .dataframe thead th {\n",
              "        text-align: right;\n",
              "    }\n",
              "</style>\n",
              "<table border=\"1\" class=\"dataframe\">\n",
              "  <thead>\n",
              "    <tr style=\"text-align: right;\">\n",
              "      <th>Symbols</th>\n",
              "      <th>SPY</th>\n",
              "      <th>AGG</th>\n",
              "      <th>BXMIX</th>\n",
              "      <th>BTC-USD</th>\n",
              "    </tr>\n",
              "    <tr>\n",
              "      <th>Symbols</th>\n",
              "      <th></th>\n",
              "      <th></th>\n",
              "      <th></th>\n",
              "      <th></th>\n",
              "    </tr>\n",
              "  </thead>\n",
              "  <tbody>\n",
              "    <tr>\n",
              "      <th>SPY</th>\n",
              "      <td>1.000000</td>\n",
              "      <td>0.038909</td>\n",
              "      <td>0.425873</td>\n",
              "      <td>0.299159</td>\n",
              "    </tr>\n",
              "    <tr>\n",
              "      <th>AGG</th>\n",
              "      <td>0.038909</td>\n",
              "      <td>1.000000</td>\n",
              "      <td>-0.021736</td>\n",
              "      <td>0.019366</td>\n",
              "    </tr>\n",
              "    <tr>\n",
              "      <th>BXMIX</th>\n",
              "      <td>0.425873</td>\n",
              "      <td>-0.021736</td>\n",
              "      <td>1.000000</td>\n",
              "      <td>0.183735</td>\n",
              "    </tr>\n",
              "    <tr>\n",
              "      <th>BTC-USD</th>\n",
              "      <td>0.299159</td>\n",
              "      <td>0.019366</td>\n",
              "      <td>0.183735</td>\n",
              "      <td>1.000000</td>\n",
              "    </tr>\n",
              "  </tbody>\n",
              "</table>\n",
              "</div>\n",
              "      <button class=\"colab-df-convert\" onclick=\"convertToInteractive('df-f0bf411c-674f-44e0-8c62-98204c5ae3d0')\"\n",
              "              title=\"Convert this dataframe to an interactive table.\"\n",
              "              style=\"display:none;\">\n",
              "        \n",
              "  <svg xmlns=\"http://www.w3.org/2000/svg\" height=\"24px\"viewBox=\"0 0 24 24\"\n",
              "       width=\"24px\">\n",
              "    <path d=\"M0 0h24v24H0V0z\" fill=\"none\"/>\n",
              "    <path d=\"M18.56 5.44l.94 2.06.94-2.06 2.06-.94-2.06-.94-.94-2.06-.94 2.06-2.06.94zm-11 1L8.5 8.5l.94-2.06 2.06-.94-2.06-.94L8.5 2.5l-.94 2.06-2.06.94zm10 10l.94 2.06.94-2.06 2.06-.94-2.06-.94-.94-2.06-.94 2.06-2.06.94z\"/><path d=\"M17.41 7.96l-1.37-1.37c-.4-.4-.92-.59-1.43-.59-.52 0-1.04.2-1.43.59L10.3 9.45l-7.72 7.72c-.78.78-.78 2.05 0 2.83L4 21.41c.39.39.9.59 1.41.59.51 0 1.02-.2 1.41-.59l7.78-7.78 2.81-2.81c.8-.78.8-2.07 0-2.86zM5.41 20L4 18.59l7.72-7.72 1.47 1.35L5.41 20z\"/>\n",
              "  </svg>\n",
              "      </button>\n",
              "      \n",
              "  <style>\n",
              "    .colab-df-container {\n",
              "      display:flex;\n",
              "      flex-wrap:wrap;\n",
              "      gap: 12px;\n",
              "    }\n",
              "\n",
              "    .colab-df-convert {\n",
              "      background-color: #E8F0FE;\n",
              "      border: none;\n",
              "      border-radius: 50%;\n",
              "      cursor: pointer;\n",
              "      display: none;\n",
              "      fill: #1967D2;\n",
              "      height: 32px;\n",
              "      padding: 0 0 0 0;\n",
              "      width: 32px;\n",
              "    }\n",
              "\n",
              "    .colab-df-convert:hover {\n",
              "      background-color: #E2EBFA;\n",
              "      box-shadow: 0px 1px 2px rgba(60, 64, 67, 0.3), 0px 1px 3px 1px rgba(60, 64, 67, 0.15);\n",
              "      fill: #174EA6;\n",
              "    }\n",
              "\n",
              "    [theme=dark] .colab-df-convert {\n",
              "      background-color: #3B4455;\n",
              "      fill: #D2E3FC;\n",
              "    }\n",
              "\n",
              "    [theme=dark] .colab-df-convert:hover {\n",
              "      background-color: #434B5C;\n",
              "      box-shadow: 0px 1px 3px 1px rgba(0, 0, 0, 0.15);\n",
              "      filter: drop-shadow(0px 1px 2px rgba(0, 0, 0, 0.3));\n",
              "      fill: #FFFFFF;\n",
              "    }\n",
              "  </style>\n",
              "\n",
              "      <script>\n",
              "        const buttonEl =\n",
              "          document.querySelector('#df-f0bf411c-674f-44e0-8c62-98204c5ae3d0 button.colab-df-convert');\n",
              "        buttonEl.style.display =\n",
              "          google.colab.kernel.accessAllowed ? 'block' : 'none';\n",
              "\n",
              "        async function convertToInteractive(key) {\n",
              "          const element = document.querySelector('#df-f0bf411c-674f-44e0-8c62-98204c5ae3d0');\n",
              "          const dataTable =\n",
              "            await google.colab.kernel.invokeFunction('convertToInteractive',\n",
              "                                                     [key], {});\n",
              "          if (!dataTable) return;\n",
              "\n",
              "          const docLinkHtml = 'Like what you see? Visit the ' +\n",
              "            '<a target=\"_blank\" href=https://colab.research.google.com/notebooks/data_table.ipynb>data table notebook</a>'\n",
              "            + ' to learn more about interactive tables.';\n",
              "          element.innerHTML = '';\n",
              "          dataTable['output_type'] = 'display_data';\n",
              "          await google.colab.output.renderOutput(dataTable, element);\n",
              "          const docLink = document.createElement('div');\n",
              "          docLink.innerHTML = docLinkHtml;\n",
              "          element.appendChild(docLink);\n",
              "        }\n",
              "      </script>\n",
              "    </div>\n",
              "  </div>\n",
              "  "
            ]
          },
          "metadata": {},
          "execution_count": 33
        }
      ]
    },
    {
      "cell_type": "code",
      "source": [
        "returns.loc[:'2020-12-31'].corr()"
      ],
      "metadata": {
        "colab": {
          "base_uri": "https://localhost:8080/",
          "height": 206
        },
        "id": "MeiH5sPtWxbp",
        "outputId": "69eac6c8-1eda-4c41-991a-f1554589d363"
      },
      "execution_count": 34,
      "outputs": [
        {
          "output_type": "execute_result",
          "data": {
            "text/plain": [
              "Symbols       SPY       AGG     BXMIX   BTC-USD\n",
              "Symbols                                        \n",
              "SPY      1.000000  0.054275  0.550276  0.183487\n",
              "AGG      0.054275  1.000000  0.177701  0.157070\n",
              "BXMIX    0.550276  0.177701  1.000000  0.088492\n",
              "BTC-USD  0.183487  0.157070  0.088492  1.000000"
            ],
            "text/html": [
              "\n",
              "  <div id=\"df-6d91417e-442e-43f5-928b-93cffc314249\">\n",
              "    <div class=\"colab-df-container\">\n",
              "      <div>\n",
              "<style scoped>\n",
              "    .dataframe tbody tr th:only-of-type {\n",
              "        vertical-align: middle;\n",
              "    }\n",
              "\n",
              "    .dataframe tbody tr th {\n",
              "        vertical-align: top;\n",
              "    }\n",
              "\n",
              "    .dataframe thead th {\n",
              "        text-align: right;\n",
              "    }\n",
              "</style>\n",
              "<table border=\"1\" class=\"dataframe\">\n",
              "  <thead>\n",
              "    <tr style=\"text-align: right;\">\n",
              "      <th>Symbols</th>\n",
              "      <th>SPY</th>\n",
              "      <th>AGG</th>\n",
              "      <th>BXMIX</th>\n",
              "      <th>BTC-USD</th>\n",
              "    </tr>\n",
              "    <tr>\n",
              "      <th>Symbols</th>\n",
              "      <th></th>\n",
              "      <th></th>\n",
              "      <th></th>\n",
              "      <th></th>\n",
              "    </tr>\n",
              "  </thead>\n",
              "  <tbody>\n",
              "    <tr>\n",
              "      <th>SPY</th>\n",
              "      <td>1.000000</td>\n",
              "      <td>0.054275</td>\n",
              "      <td>0.550276</td>\n",
              "      <td>0.183487</td>\n",
              "    </tr>\n",
              "    <tr>\n",
              "      <th>AGG</th>\n",
              "      <td>0.054275</td>\n",
              "      <td>1.000000</td>\n",
              "      <td>0.177701</td>\n",
              "      <td>0.157070</td>\n",
              "    </tr>\n",
              "    <tr>\n",
              "      <th>BXMIX</th>\n",
              "      <td>0.550276</td>\n",
              "      <td>0.177701</td>\n",
              "      <td>1.000000</td>\n",
              "      <td>0.088492</td>\n",
              "    </tr>\n",
              "    <tr>\n",
              "      <th>BTC-USD</th>\n",
              "      <td>0.183487</td>\n",
              "      <td>0.157070</td>\n",
              "      <td>0.088492</td>\n",
              "      <td>1.000000</td>\n",
              "    </tr>\n",
              "  </tbody>\n",
              "</table>\n",
              "</div>\n",
              "      <button class=\"colab-df-convert\" onclick=\"convertToInteractive('df-6d91417e-442e-43f5-928b-93cffc314249')\"\n",
              "              title=\"Convert this dataframe to an interactive table.\"\n",
              "              style=\"display:none;\">\n",
              "        \n",
              "  <svg xmlns=\"http://www.w3.org/2000/svg\" height=\"24px\"viewBox=\"0 0 24 24\"\n",
              "       width=\"24px\">\n",
              "    <path d=\"M0 0h24v24H0V0z\" fill=\"none\"/>\n",
              "    <path d=\"M18.56 5.44l.94 2.06.94-2.06 2.06-.94-2.06-.94-.94-2.06-.94 2.06-2.06.94zm-11 1L8.5 8.5l.94-2.06 2.06-.94-2.06-.94L8.5 2.5l-.94 2.06-2.06.94zm10 10l.94 2.06.94-2.06 2.06-.94-2.06-.94-.94-2.06-.94 2.06-2.06.94z\"/><path d=\"M17.41 7.96l-1.37-1.37c-.4-.4-.92-.59-1.43-.59-.52 0-1.04.2-1.43.59L10.3 9.45l-7.72 7.72c-.78.78-.78 2.05 0 2.83L4 21.41c.39.39.9.59 1.41.59.51 0 1.02-.2 1.41-.59l7.78-7.78 2.81-2.81c.8-.78.8-2.07 0-2.86zM5.41 20L4 18.59l7.72-7.72 1.47 1.35L5.41 20z\"/>\n",
              "  </svg>\n",
              "      </button>\n",
              "      \n",
              "  <style>\n",
              "    .colab-df-container {\n",
              "      display:flex;\n",
              "      flex-wrap:wrap;\n",
              "      gap: 12px;\n",
              "    }\n",
              "\n",
              "    .colab-df-convert {\n",
              "      background-color: #E8F0FE;\n",
              "      border: none;\n",
              "      border-radius: 50%;\n",
              "      cursor: pointer;\n",
              "      display: none;\n",
              "      fill: #1967D2;\n",
              "      height: 32px;\n",
              "      padding: 0 0 0 0;\n",
              "      width: 32px;\n",
              "    }\n",
              "\n",
              "    .colab-df-convert:hover {\n",
              "      background-color: #E2EBFA;\n",
              "      box-shadow: 0px 1px 2px rgba(60, 64, 67, 0.3), 0px 1px 3px 1px rgba(60, 64, 67, 0.15);\n",
              "      fill: #174EA6;\n",
              "    }\n",
              "\n",
              "    [theme=dark] .colab-df-convert {\n",
              "      background-color: #3B4455;\n",
              "      fill: #D2E3FC;\n",
              "    }\n",
              "\n",
              "    [theme=dark] .colab-df-convert:hover {\n",
              "      background-color: #434B5C;\n",
              "      box-shadow: 0px 1px 3px 1px rgba(0, 0, 0, 0.15);\n",
              "      filter: drop-shadow(0px 1px 2px rgba(0, 0, 0, 0.3));\n",
              "      fill: #FFFFFF;\n",
              "    }\n",
              "  </style>\n",
              "\n",
              "      <script>\n",
              "        const buttonEl =\n",
              "          document.querySelector('#df-6d91417e-442e-43f5-928b-93cffc314249 button.colab-df-convert');\n",
              "        buttonEl.style.display =\n",
              "          google.colab.kernel.accessAllowed ? 'block' : 'none';\n",
              "\n",
              "        async function convertToInteractive(key) {\n",
              "          const element = document.querySelector('#df-6d91417e-442e-43f5-928b-93cffc314249');\n",
              "          const dataTable =\n",
              "            await google.colab.kernel.invokeFunction('convertToInteractive',\n",
              "                                                     [key], {});\n",
              "          if (!dataTable) return;\n",
              "\n",
              "          const docLinkHtml = 'Like what you see? Visit the ' +\n",
              "            '<a target=\"_blank\" href=https://colab.research.google.com/notebooks/data_table.ipynb>data table notebook</a>'\n",
              "            + ' to learn more about interactive tables.';\n",
              "          element.innerHTML = '';\n",
              "          dataTable['output_type'] = 'display_data';\n",
              "          await google.colab.output.renderOutput(dataTable, element);\n",
              "          const docLink = document.createElement('div');\n",
              "          docLink.innerHTML = docLinkHtml;\n",
              "          element.appendChild(docLink);\n",
              "        }\n",
              "      </script>\n",
              "    </div>\n",
              "  </div>\n",
              "  "
            ]
          },
          "metadata": {},
          "execution_count": 34
        }
      ]
    },
    {
      "cell_type": "markdown",
      "source": [
        "Se puede ver cómo al cambiar la ventana de estimación, también lo hacen las correlaciones, afectando a una eventual optimización\n",
        "\n",
        "## Pregunta 2"
      ],
      "metadata": {
        "id": "ZzCtkcIVW56h"
      }
    },
    {
      "cell_type": "code",
      "source": [
        "def drawdown(return_series: pd.Series):\n",
        "    \"\"\"Takes a time series of asset returns.\n",
        "       returns a DataFrame with columns for\n",
        "       the wealth index, \n",
        "       the previous peaks, and \n",
        "       the percentage drawdown\n",
        "    \"\"\"\n",
        "    wealth_index = 1000*(1+return_series).cumprod()\n",
        "    previous_peaks = wealth_index.cummax()\n",
        "    drawdowns = (wealth_index - previous_peaks)/previous_peaks\n",
        "    return pd.DataFrame({\"Wealth\": wealth_index, \n",
        "                         \"Previous Peak\": previous_peaks, \n",
        "                         \"Drawdown\": drawdowns})\n",
        "\n",
        "from scipy.optimize import minimize\n",
        "\n",
        "def minimize_vol(target_return, er, cov):\n",
        "    \"\"\"\n",
        "    Returns the optimal weights that achieve the target return\n",
        "    given a set of expected returns and a covariance matrix\n",
        "    \"\"\"\n",
        "    n = er.shape[0]\n",
        "    init_guess = np.repeat(1/n, n)\n",
        "    bounds = ((0.0, 1.0),) * n # an N-tuple of 2-tuples!\n",
        "    # construct the constraints\n",
        "    weights_sum_to_1 = {'type': 'eq',\n",
        "                        'fun': lambda weights: np.sum(weights) - 1\n",
        "    }\n",
        "    return_is_target = {'type': 'eq',\n",
        "                        'args': (er,),\n",
        "                        'fun': lambda weights, er: target_return - portfolio_return(weights,er)\n",
        "    }\n",
        "    weights = minimize(portfolio_vol, init_guess,\n",
        "                       args=(cov,), method='SLSQP',\n",
        "                       options={'disp': False},\n",
        "                       constraints=(weights_sum_to_1,return_is_target),\n",
        "                       bounds=bounds)\n",
        "    return weights.x\n",
        "\n",
        "\n",
        "\n",
        "def msr(riskfree_rate, er, cov):\n",
        "    \"\"\"\n",
        "    Returns the weights of the portfolio that gives you the maximum sharpe ratio\n",
        "    given the riskfree rate and expected returns and a covariance matrix\n",
        "    \"\"\"\n",
        "    n = er.shape[0]\n",
        "    init_guess = np.repeat(1/n, n)\n",
        "    bounds = ((0.0, 1.0),) * n # an N-tuple of 2-tuples!\n",
        "    # construct the constraints\n",
        "    weights_sum_to_1 = {'type': 'eq',\n",
        "                        'fun': lambda weights: np.sum(weights) - 1\n",
        "    }\n",
        "    def neg_sharpe(weights, riskfree_rate, er, cov):\n",
        "        \"\"\"\n",
        "        Returns the negative of the sharpe ratio\n",
        "        of the given portfolio\n",
        "        \"\"\"\n",
        "        r = portfolio_return(weights, er)\n",
        "        vol = portfolio_vol(weights, cov)\n",
        "        return -(r - riskfree_rate)/vol\n",
        "    \n",
        "    weights = minimize(neg_sharpe, init_guess,\n",
        "                       args=(riskfree_rate, er, cov), method='SLSQP',\n",
        "                       options={'disp': False},\n",
        "                       constraints=(weights_sum_to_1,),\n",
        "                       bounds=bounds)\n",
        "    return weights.x\n",
        "\n",
        "\n",
        "def gmv(cov):\n",
        "    \"\"\"\n",
        "    Returns the weights of the Global Minimum Volatility portfolio\n",
        "    given a covariance matrix\n",
        "    \"\"\"\n",
        "    n = cov.shape[0]\n",
        "    return msr(0, np.repeat(1, n), cov)"
      ],
      "metadata": {
        "id": "6s4p1qSqXJcV"
      },
      "execution_count": 35,
      "outputs": []
    },
    {
      "cell_type": "code",
      "source": [
        "cov = returns.cov()\n",
        "cov"
      ],
      "metadata": {
        "colab": {
          "base_uri": "https://localhost:8080/",
          "height": 206
        },
        "id": "6OpJAv4zb85c",
        "outputId": "0435cdf3-9fe0-4873-8ebc-41730b158b2e"
      },
      "execution_count": 36,
      "outputs": [
        {
          "output_type": "execute_result",
          "data": {
            "text/plain": [
              "Symbols       SPY           AGG         BXMIX   BTC-USD\n",
              "Symbols                                                \n",
              "SPY      0.000111  1.391704e-06  1.391256e-05  0.000087\n",
              "AGG      0.000001  6.450208e-06  9.228436e-07  0.000014\n",
              "BXMIX    0.000014  9.228436e-07  6.287095e-06  0.000011\n",
              "BTC-USD  0.000087  1.394307e-05  1.136496e-05  0.001738"
            ],
            "text/html": [
              "\n",
              "  <div id=\"df-61fa093a-0f1e-40e7-bfbf-3f549355b9b6\">\n",
              "    <div class=\"colab-df-container\">\n",
              "      <div>\n",
              "<style scoped>\n",
              "    .dataframe tbody tr th:only-of-type {\n",
              "        vertical-align: middle;\n",
              "    }\n",
              "\n",
              "    .dataframe tbody tr th {\n",
              "        vertical-align: top;\n",
              "    }\n",
              "\n",
              "    .dataframe thead th {\n",
              "        text-align: right;\n",
              "    }\n",
              "</style>\n",
              "<table border=\"1\" class=\"dataframe\">\n",
              "  <thead>\n",
              "    <tr style=\"text-align: right;\">\n",
              "      <th>Symbols</th>\n",
              "      <th>SPY</th>\n",
              "      <th>AGG</th>\n",
              "      <th>BXMIX</th>\n",
              "      <th>BTC-USD</th>\n",
              "    </tr>\n",
              "    <tr>\n",
              "      <th>Symbols</th>\n",
              "      <th></th>\n",
              "      <th></th>\n",
              "      <th></th>\n",
              "      <th></th>\n",
              "    </tr>\n",
              "  </thead>\n",
              "  <tbody>\n",
              "    <tr>\n",
              "      <th>SPY</th>\n",
              "      <td>0.000111</td>\n",
              "      <td>1.391704e-06</td>\n",
              "      <td>1.391256e-05</td>\n",
              "      <td>0.000087</td>\n",
              "    </tr>\n",
              "    <tr>\n",
              "      <th>AGG</th>\n",
              "      <td>0.000001</td>\n",
              "      <td>6.450208e-06</td>\n",
              "      <td>9.228436e-07</td>\n",
              "      <td>0.000014</td>\n",
              "    </tr>\n",
              "    <tr>\n",
              "      <th>BXMIX</th>\n",
              "      <td>0.000014</td>\n",
              "      <td>9.228436e-07</td>\n",
              "      <td>6.287095e-06</td>\n",
              "      <td>0.000011</td>\n",
              "    </tr>\n",
              "    <tr>\n",
              "      <th>BTC-USD</th>\n",
              "      <td>0.000087</td>\n",
              "      <td>1.394307e-05</td>\n",
              "      <td>1.136496e-05</td>\n",
              "      <td>0.001738</td>\n",
              "    </tr>\n",
              "  </tbody>\n",
              "</table>\n",
              "</div>\n",
              "      <button class=\"colab-df-convert\" onclick=\"convertToInteractive('df-61fa093a-0f1e-40e7-bfbf-3f549355b9b6')\"\n",
              "              title=\"Convert this dataframe to an interactive table.\"\n",
              "              style=\"display:none;\">\n",
              "        \n",
              "  <svg xmlns=\"http://www.w3.org/2000/svg\" height=\"24px\"viewBox=\"0 0 24 24\"\n",
              "       width=\"24px\">\n",
              "    <path d=\"M0 0h24v24H0V0z\" fill=\"none\"/>\n",
              "    <path d=\"M18.56 5.44l.94 2.06.94-2.06 2.06-.94-2.06-.94-.94-2.06-.94 2.06-2.06.94zm-11 1L8.5 8.5l.94-2.06 2.06-.94-2.06-.94L8.5 2.5l-.94 2.06-2.06.94zm10 10l.94 2.06.94-2.06 2.06-.94-2.06-.94-.94-2.06-.94 2.06-2.06.94z\"/><path d=\"M17.41 7.96l-1.37-1.37c-.4-.4-.92-.59-1.43-.59-.52 0-1.04.2-1.43.59L10.3 9.45l-7.72 7.72c-.78.78-.78 2.05 0 2.83L4 21.41c.39.39.9.59 1.41.59.51 0 1.02-.2 1.41-.59l7.78-7.78 2.81-2.81c.8-.78.8-2.07 0-2.86zM5.41 20L4 18.59l7.72-7.72 1.47 1.35L5.41 20z\"/>\n",
              "  </svg>\n",
              "      </button>\n",
              "      \n",
              "  <style>\n",
              "    .colab-df-container {\n",
              "      display:flex;\n",
              "      flex-wrap:wrap;\n",
              "      gap: 12px;\n",
              "    }\n",
              "\n",
              "    .colab-df-convert {\n",
              "      background-color: #E8F0FE;\n",
              "      border: none;\n",
              "      border-radius: 50%;\n",
              "      cursor: pointer;\n",
              "      display: none;\n",
              "      fill: #1967D2;\n",
              "      height: 32px;\n",
              "      padding: 0 0 0 0;\n",
              "      width: 32px;\n",
              "    }\n",
              "\n",
              "    .colab-df-convert:hover {\n",
              "      background-color: #E2EBFA;\n",
              "      box-shadow: 0px 1px 2px rgba(60, 64, 67, 0.3), 0px 1px 3px 1px rgba(60, 64, 67, 0.15);\n",
              "      fill: #174EA6;\n",
              "    }\n",
              "\n",
              "    [theme=dark] .colab-df-convert {\n",
              "      background-color: #3B4455;\n",
              "      fill: #D2E3FC;\n",
              "    }\n",
              "\n",
              "    [theme=dark] .colab-df-convert:hover {\n",
              "      background-color: #434B5C;\n",
              "      box-shadow: 0px 1px 3px 1px rgba(0, 0, 0, 0.15);\n",
              "      filter: drop-shadow(0px 1px 2px rgba(0, 0, 0, 0.3));\n",
              "      fill: #FFFFFF;\n",
              "    }\n",
              "  </style>\n",
              "\n",
              "      <script>\n",
              "        const buttonEl =\n",
              "          document.querySelector('#df-61fa093a-0f1e-40e7-bfbf-3f549355b9b6 button.colab-df-convert');\n",
              "        buttonEl.style.display =\n",
              "          google.colab.kernel.accessAllowed ? 'block' : 'none';\n",
              "\n",
              "        async function convertToInteractive(key) {\n",
              "          const element = document.querySelector('#df-61fa093a-0f1e-40e7-bfbf-3f549355b9b6');\n",
              "          const dataTable =\n",
              "            await google.colab.kernel.invokeFunction('convertToInteractive',\n",
              "                                                     [key], {});\n",
              "          if (!dataTable) return;\n",
              "\n",
              "          const docLinkHtml = 'Like what you see? Visit the ' +\n",
              "            '<a target=\"_blank\" href=https://colab.research.google.com/notebooks/data_table.ipynb>data table notebook</a>'\n",
              "            + ' to learn more about interactive tables.';\n",
              "          element.innerHTML = '';\n",
              "          dataTable['output_type'] = 'display_data';\n",
              "          await google.colab.output.renderOutput(dataTable, element);\n",
              "          const docLink = document.createElement('div');\n",
              "          docLink.innerHTML = docLinkHtml;\n",
              "          element.appendChild(docLink);\n",
              "        }\n",
              "      </script>\n",
              "    </div>\n",
              "  </div>\n",
              "  "
            ]
          },
          "metadata": {},
          "execution_count": 36
        }
      ]
    },
    {
      "cell_type": "code",
      "source": [
        "weights_gmv = gmv(cov)\n",
        "weights_gmv"
      ],
      "metadata": {
        "colab": {
          "base_uri": "https://localhost:8080/"
        },
        "id": "eJMbubsucGtA",
        "outputId": "14f3dfa6-33ca-4f16-c577-ce710bbf7197"
      },
      "execution_count": 39,
      "outputs": [
        {
          "output_type": "execute_result",
          "data": {
            "text/plain": [
              "array([0.        , 0.4925115 , 0.50748882, 0.        ])"
            ]
          },
          "metadata": {},
          "execution_count": 39
        }
      ]
    },
    {
      "cell_type": "code",
      "source": [
        "ewp = np.repeat(1/4, 4)\n",
        "ewp"
      ],
      "metadata": {
        "colab": {
          "base_uri": "https://localhost:8080/"
        },
        "id": "JnbelzG9cJe5",
        "outputId": "2aa4bd69-92fc-40d0-8464-68dcf4a221a1"
      },
      "execution_count": 40,
      "outputs": [
        {
          "output_type": "execute_result",
          "data": {
            "text/plain": [
              "array([0.25, 0.25, 0.25, 0.25])"
            ]
          },
          "metadata": {},
          "execution_count": 40
        }
      ]
    },
    {
      "cell_type": "code",
      "source": [
        "gmv_pr = portfolio_return(weights_gmv, returns.T)\n",
        "gmv_pr"
      ],
      "metadata": {
        "colab": {
          "base_uri": "https://localhost:8080/"
        },
        "id": "uEEoy9OMeur4",
        "outputId": "164824f1-1851-457a-9bc4-38c9e29c6430"
      },
      "execution_count": 43,
      "outputs": [
        {
          "output_type": "execute_result",
          "data": {
            "text/plain": [
              "Date\n",
              "2017-09-09    0.000000\n",
              "2017-09-10    0.000000\n",
              "2017-09-11   -0.000410\n",
              "2017-09-12   -0.001178\n",
              "2017-09-13   -0.001420\n",
              "                ...   \n",
              "2021-12-28   -0.000216\n",
              "2021-12-29   -0.000509\n",
              "2021-12-30    0.001081\n",
              "2021-12-31   -0.001128\n",
              "2022-01-01    0.000000\n",
              "Length: 1576, dtype: float64"
            ]
          },
          "metadata": {},
          "execution_count": 43
        }
      ]
    },
    {
      "cell_type": "code",
      "source": [
        "ewp_r = portfolio_return(ewp, returns.T)\n",
        "ewp_r"
      ],
      "metadata": {
        "colab": {
          "base_uri": "https://localhost:8080/"
        },
        "id": "njRNgFy7fS0c",
        "outputId": "820b9652-2de5-493d-abd5-9cbd3df9de97"
      },
      "execution_count": 45,
      "outputs": [
        {
          "output_type": "execute_result",
          "data": {
            "text/plain": [
              "Date\n",
              "2017-09-09   -0.000159\n",
              "2017-09-10   -0.006100\n",
              "2017-09-11    0.004769\n",
              "2017-09-12   -0.001578\n",
              "2017-09-13   -0.015609\n",
              "                ...   \n",
              "2021-12-28   -0.015379\n",
              "2021-12-29   -0.005963\n",
              "2021-12-30    0.003806\n",
              "2021-12-31   -0.005808\n",
              "2022-01-01    0.007452\n",
              "Length: 1576, dtype: float64"
            ]
          },
          "metadata": {},
          "execution_count": 45
        }
      ]
    },
    {
      "cell_type": "code",
      "source": [
        "print(f'Ret Ann GMV Portfolio: {annualize_rets(gmv_pr, 252).round(3)} | Ret Ann EW Portfolio: {annualize_rets(ewp_r, 252).round(3)}')\n",
        "print(f'Vol GMV Portfolio: {portfolio_vol(weights_gmv, cov).round(3)} | Vol EW Portfolio: {portfolio_vol(ewp, cov).round(3)}')\n",
        "print(f'Sharpe Ratio GMV Portfolio: {(annualize_rets(gmv_pr, 252).round(3)-0.0333)/portfolio_vol(weights_gmv, cov)} | Sharpe Ratio EW Portfolio: {(annualize_rets(ewp_r, 252).round(3)-0.0333)/portfolio_vol(ewp, cov)}')\n",
        "\n",
        "drawdown_df = pd.concat([drawdown(gmv_pr)[['Drawdown']], drawdown(ewp_r)[['Drawdown']]], axis=1)\n",
        "drawdown_df.columns = ['GMV', 'EWP']\n",
        "drawdown_df.plot(figsize=(12, 6));"
      ],
      "metadata": {
        "colab": {
          "base_uri": "https://localhost:8080/",
          "height": 440
        },
        "id": "v8DEO-zrfy1Y",
        "outputId": "4ef711de-f036-4138-a9e1-47dd43a84a78"
      },
      "execution_count": 74,
      "outputs": [
        {
          "output_type": "stream",
          "name": "stdout",
          "text": [
            "Ret Ann GMV Portfolio: 0.019 | Ret Ann EW Portfolio: 0.195\n",
            "Vol GMV Portfolio: 0.002 | Vol EW Portfolio: 0.012\n",
            "Sharpe Ratio GMV Portfolio: -7.489951023507778 | Sharpe Ratio EW Portfolio: 14.056467032969358\n"
          ]
        },
        {
          "output_type": "display_data",
          "data": {
            "text/plain": [
              "<Figure size 864x432 with 1 Axes>"
            ],
            "image/png": "[encoded data removed]"
          },
          "metadata": {
            "needs_background": "light"
          }
        }
      ]
    },
    {
      "cell_type": "markdown",
      "source": [
        "## Pregunta 3"
      ],
      "metadata": {
        "id": "jnYva1l6Gr7P"
      }
    },
    {
      "cell_type": "code",
      "source": [
        "wp1 = np.array([0.6, 0.4, 0, 0])\n",
        "wp2 = np.array([0.6, 0.2, 0.2, 0])\n",
        "wp3 = np.array([0.5, 0.2, 0.2, 0.1])\n",
        "wp4 = np.array([0.55, 0.2, 0.2, 0.05])"
      ],
      "metadata": {
        "id": "WULs_C46hLLt"
      },
      "execution_count": 86,
      "outputs": []
    },
    {
      "cell_type": "code",
      "source": [
        "rp1 = portfolio_return(wp1, returns.T)\n",
        "ann_rp1 = annualize_rets(rp1, 252)\n",
        "vol_p1 = portfolio_vol(wp1, cov)\n",
        "sp1 = (ann_rp1 - 0.0333)/vol_p1\n",
        "mdd1 = drawdown(rp1).Drawdown.min()\n",
        "\n",
        "rp2 = portfolio_return(wp2, returns.T)\n",
        "ann_rp2 = annualize_rets(rp2, 252)\n",
        "vol_p2 = portfolio_vol(wp2, cov)\n",
        "sp2 = (ann_rp2 - 0.0333)/vol_p2\n",
        "mdd2 = drawdown(rp2).Drawdown.min()\n",
        "\n",
        "rp3 = portfolio_return(wp3, returns.T)\n",
        "ann_rp3 = annualize_rets(rp3, 252)\n",
        "vol_p3 = portfolio_vol(wp3, cov)\n",
        "sp3 = (ann_rp3 - 0.0333)/vol_p3\n",
        "mdd3 = drawdown(rp3).Drawdown.min()\n",
        "\n",
        "rp4 = portfolio_return(wp4, returns.T)\n",
        "ann_rp4 = annualize_rets(rp4, 252)\n",
        "vol_p4 = portfolio_vol(wp4, cov)\n",
        "sp4 = (ann_rp4 - 0.0333)/vol_p4\n",
        "mdd4 = drawdown(rp4).Drawdown.min()\n",
        "\n",
        "comparativa = pd.DataFrame({\n",
        "    'Ann Ret': [ann_rp1, ann_rp2, ann_rp3, ann_rp4],\n",
        "    'SR': [sp1, sp2, sp3, sp4],\n",
        "    'Std': [vol_p1, vol_p2, vol_p3, vol_p4],\n",
        "    'Max DD': [mdd1, mdd2, mdd3, mdd4]\n",
        "}, index = ['P1', 'P2', 'P3', 'P4'])\n",
        "\n",
        "comparativa"
      ],
      "metadata": {
        "colab": {
          "base_uri": "https://localhost:8080/",
          "height": 175
        },
        "id": "zei4Yb1QHrQ5",
        "outputId": "c1cb2387-97de-413e-9899-07ae68059534"
      },
      "execution_count": 87,
      "outputs": [
        {
          "output_type": "execute_result",
          "data": {
            "text/plain": [
              "     Ann Ret         SR       Std    Max DD\n",
              "P1  0.086164   8.206520  0.006442 -0.217170\n",
              "P2  0.084267   7.679070  0.006637 -0.248102\n",
              "P3  0.135194  13.341163  0.007638 -0.244570\n",
              "P4  0.110027  11.191274  0.006856 -0.245578"
            ],
            "text/html": [
              "\n",
              "  <div id=\"df-7db7135a-903e-4c13-952b-7df4277ecc69\">\n",
              "    <div class=\"colab-df-container\">\n",
              "      <div>\n",
              "<style scoped>\n",
              "    .dataframe tbody tr th:only-of-type {\n",
              "        vertical-align: middle;\n",
              "    }\n",
              "\n",
              "    .dataframe tbody tr th {\n",
              "        vertical-align: top;\n",
              "    }\n",
              "\n",
              "    .dataframe thead th {\n",
              "        text-align: right;\n",
              "    }\n",
              "</style>\n",
              "<table border=\"1\" class=\"dataframe\">\n",
              "  <thead>\n",
              "    <tr style=\"text-align: right;\">\n",
              "      <th></th>\n",
              "      <th>Ann Ret</th>\n",
              "      <th>SR</th>\n",
              "      <th>Std</th>\n",
              "      <th>Max DD</th>\n",
              "    </tr>\n",
              "  </thead>\n",
              "  <tbody>\n",
              "    <tr>\n",
              "      <th>P1</th>\n",
              "      <td>0.086164</td>\n",
              "      <td>8.206520</td>\n",
              "      <td>0.006442</td>\n",
              "      <td>-0.217170</td>\n",
              "    </tr>\n",
              "    <tr>\n",
              "      <th>P2</th>\n",
              "      <td>0.084267</td>\n",
              "      <td>7.679070</td>\n",
              "      <td>0.006637</td>\n",
              "      <td>-0.248102</td>\n",
              "    </tr>\n",
              "    <tr>\n",
              "      <th>P3</th>\n",
              "      <td>0.135194</td>\n",
              "      <td>13.341163</td>\n",
              "      <td>0.007638</td>\n",
              "      <td>-0.244570</td>\n",
              "    </tr>\n",
              "    <tr>\n",
              "      <th>P4</th>\n",
              "      <td>0.110027</td>\n",
              "      <td>11.191274</td>\n",
              "      <td>0.006856</td>\n",
              "      <td>-0.245578</td>\n",
              "    </tr>\n",
              "  </tbody>\n",
              "</table>\n",
              "</div>\n",
              "      <button class=\"colab-df-convert\" onclick=\"convertToInteractive('df-7db7135a-903e-4c13-952b-7df4277ecc69')\"\n",
              "              title=\"Convert this dataframe to an interactive table.\"\n",
              "              style=\"display:none;\">\n",
              "        \n",
              "  <svg xmlns=\"http://www.w3.org/2000/svg\" height=\"24px\"viewBox=\"0 0 24 24\"\n",
              "       width=\"24px\">\n",
              "    <path d=\"M0 0h24v24H0V0z\" fill=\"none\"/>\n",
              "    <path d=\"M18.56 5.44l.94 2.06.94-2.06 2.06-.94-2.06-.94-.94-2.06-.94 2.06-2.06.94zm-11 1L8.5 8.5l.94-2.06 2.06-.94-2.06-.94L8.5 2.5l-.94 2.06-2.06.94zm10 10l.94 2.06.94-2.06 2.06-.94-2.06-.94-.94-2.06-.94 2.06-2.06.94z\"/><path d=\"M17.41 7.96l-1.37-1.37c-.4-.4-.92-.59-1.43-.59-.52 0-1.04.2-1.43.59L10.3 9.45l-7.72 7.72c-.78.78-.78 2.05 0 2.83L4 21.41c.39.39.9.59 1.41.59.51 0 1.02-.2 1.41-.59l7.78-7.78 2.81-2.81c.8-.78.8-2.07 0-2.86zM5.41 20L4 18.59l7.72-7.72 1.47 1.35L5.41 20z\"/>\n",
              "  </svg>\n",
              "      </button>\n",
              "      \n",
              "  <style>\n",
              "    .colab-df-container {\n",
              "      display:flex;\n",
              "      flex-wrap:wrap;\n",
              "      gap: 12px;\n",
              "    }\n",
              "\n",
              "    .colab-df-convert {\n",
              "      background-color: #E8F0FE;\n",
              "      border: none;\n",
              "      border-radius: 50%;\n",
              "      cursor: pointer;\n",
              "      display: none;\n",
              "      fill: #1967D2;\n",
              "      height: 32px;\n",
              "      padding: 0 0 0 0;\n",
              "      width: 32px;\n",
              "    }\n",
              "\n",
              "    .colab-df-convert:hover {\n",
              "      background-color: #E2EBFA;\n",
              "      box-shadow: 0px 1px 2px rgba(60, 64, 67, 0.3), 0px 1px 3px 1px rgba(60, 64, 67, 0.15);\n",
              "      fill: #174EA6;\n",
              "    }\n",
              "\n",
              "    [theme=dark] .colab-df-convert {\n",
              "      background-color: #3B4455;\n",
              "      fill: #D2E3FC;\n",
              "    }\n",
              "\n",
              "    [theme=dark] .colab-df-convert:hover {\n",
              "      background-color: #434B5C;\n",
              "      box-shadow: 0px 1px 3px 1px rgba(0, 0, 0, 0.15);\n",
              "      filter: drop-shadow(0px 1px 2px rgba(0, 0, 0, 0.3));\n",
              "      fill: #FFFFFF;\n",
              "    }\n",
              "  </style>\n",
              "\n",
              "      <script>\n",
              "        const buttonEl =\n",
              "          document.querySelector('#df-7db7135a-903e-4c13-952b-7df4277ecc69 button.colab-df-convert');\n",
              "        buttonEl.style.display =\n",
              "          google.colab.kernel.accessAllowed ? 'block' : 'none';\n",
              "\n",
              "        async function convertToInteractive(key) {\n",
              "          const element = document.querySelector('#df-7db7135a-903e-4c13-952b-7df4277ecc69');\n",
              "          const dataTable =\n",
              "            await google.colab.kernel.invokeFunction('convertToInteractive',\n",
              "                                                     [key], {});\n",
              "          if (!dataTable) return;\n",
              "\n",
              "          const docLinkHtml = 'Like what you see? Visit the ' +\n",
              "            '<a target=\"_blank\" href=https://colab.research.google.com/notebooks/data_table.ipynb>data table notebook</a>'\n",
              "            + ' to learn more about interactive tables.';\n",
              "          element.innerHTML = '';\n",
              "          dataTable['output_type'] = 'display_data';\n",
              "          await google.colab.output.renderOutput(dataTable, element);\n",
              "          const docLink = document.createElement('div');\n",
              "          docLink.innerHTML = docLinkHtml;\n",
              "          element.appendChild(docLink);\n",
              "        }\n",
              "      </script>\n",
              "    </div>\n",
              "  </div>\n",
              "  "
            ]
          },
          "metadata": {},
          "execution_count": 87
        }
      ]
    },
    {
      "cell_type": "code",
      "source": [
        "ann_rp1"
      ],
      "metadata": {
        "colab": {
          "base_uri": "https://localhost:8080/"
        },
        "id": "c-Bi4OKSH9D4",
        "outputId": "d8f8c4ce-4af7-41bc-e2f4-615e04107610"
      },
      "execution_count": 82,
      "outputs": [
        {
          "output_type": "execute_result",
          "data": {
            "text/plain": [
              "0.08616424493211006"
            ]
          },
          "metadata": {},
          "execution_count": 82
        }
      ]
    },
    {
      "cell_type": "code",
      "source": [],
      "metadata": {
        "id": "hQaxsPqgIO80"
      },
      "execution_count": null,
      "outputs": []
    }
  ]
}