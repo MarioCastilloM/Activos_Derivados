{
  "nbformat": 4,
  "nbformat_minor": 0,
  "metadata": {
    "colab": {
      "name": "Options Valuation.ipynb",
      "provenance": [],
      "collapsed_sections": [],
      "authorship_tag": "ABX9TyP3D5Q9BcIeU5vXTIs8w127",
      "include_colab_link": true
    },
    "kernelspec": {
      "name": "python3",
      "display_name": "Python 3"
    },
    "language_info": {
      "name": "python"
    }
  },
  "cells": [
    {
      "cell_type": "markdown",
      "metadata": {
        "id": "view-in-github",
        "colab_type": "text"
      },
      "source": [
        "<a href=\"https://colab.research.google.com/github/MarioCastilloM/Activos_Derivados/blob/main/Options_Valuation.ipynb\" target=\"_parent\"><img src=\"https://colab.research.google.com/assets/colab-badge.svg\" alt=\"Open In Colab\"/></a>"
      ]
    },
    {
      "cell_type": "code",
      "metadata": {
        "id": "vFoTzp1pLC0W"
      },
      "source": [
        "class Options:\n",
        "  def __init__(self, s0, X, rf, sigma, div, T, n, option):\n",
        "    self.s0 = s0\n",
        "    self.X = X\n",
        "    self.rf = rf\n",
        "    self.sigma = sigma\n",
        "    self.div = div\n",
        "    self.T = T\n",
        "    self.option = option\n",
        "    self.n = n\n",
        "\n",
        "  def priceBSM(self):\n",
        "    import numpy as np\n",
        "    from scipy.stats import norm\n",
        "    if self.div == 0:\n",
        "      d1 = (np.log((self.s0)/self.X) + (self.rf + (self.sigma**2)/2) * self.T/self.n)/(self.sigma*np.sqrt(self.T/self.n))\n",
        "      d2 = d1 - self.sigma * np.sqrt(self.T/self.n)\n",
        "\n",
        "      if self.option == \"call\":\n",
        "        price = (self.s0)*norm.cdf(d1) - self.X*np.exp(-self.rf*self.T/self.n)*norm.cdf(d2)\n",
        "      elif self.option == \"put\":\n",
        "        price = self.X*np.exp(-self.rf*self.T/self.n)*norm.cdf(-d2) - (self.s0)*norm.cdf(-d1)\n",
        "      else:\n",
        "        print(\"ingrese opción válida\")\n",
        "        price = 0\n",
        "    else:\n",
        "      vpd = np.exp(-self.div*self.T/self.n)\n",
        "      d1 = (np.log((self.s0*vpd)/self.X) + (self.rf + self.sigma**2/2)*self.T/self.n)/(self.sigma*np.sqrt(self.T/self.n))\n",
        "      d2 = d1 - self.sigma * np.sqrt(self.T/self.n)\n",
        "\n",
        "      if self.option == \"call\":\n",
        "        price = (self.s0*vpd)*norm.cdf(d1) - self.X*np.exp(-self.rf*self.T/self.n)*norm.cdf(d2)\n",
        "      elif self.option == \"put\":\n",
        "        price = self.X*np.exp(-self.rf*self.T/self.n)*norm.cdf(-d2) - (self.s0*vpd)*norm.cdf(-d1)\n",
        "      else:\n",
        "        print(\"ingrese opción válida\")\n",
        "        price = 0\n",
        "    return price\n",
        "\n",
        "  def parity(self, price):\n",
        "    import numpy as np\n",
        "    if self.div == 0:\n",
        "      if self.option == \"call\":\n",
        "        par = price + self.X*(1+self.rf)**-self.T/self.n - self.s0\n",
        "      elif self.option == \"put\":\n",
        "        par = price - self.X*(1+self.rf)**-self.T/self.n + self.s0\n",
        "      else:\n",
        "        print(\"ingrese opción válida\")\n",
        "        par = 0\n",
        "    else:\n",
        "      vpd = np.exp(-self.div*self.T/self.n)\n",
        "      if self.option == \"call\":\n",
        "        vpd = np.exp(-self.div*self.T/self.n)\n",
        "        par = price + self.X*(1+self.rf)**-self.T/self.n - self.s0*vpd\n",
        "      elif self.option == \"put\":\n",
        "        par = price - self.X*(1+self.rf)**-self.T/self.n + self.s0*vpd\n",
        "      else:\n",
        "        print(\"ingrese opción válida\")\n",
        "        par = 0\n",
        "    return par\n",
        "  def binomial_tree(self):\n",
        "    import numpy as np\n",
        "    import pandas as pd\n",
        "    u = np.exp(self.sigma * np.sqrt(self.T/self.n))\n",
        "    d = 1/u\n",
        "    exp = np.exp(self.rf * self.T/self.n)\n",
        "    p = (exp - d)/(u - d)\n",
        "    df = pd.DataFrame(np.zeros((self.n, self.n)), columns=range(self.n))\n",
        "    for i in range(self.n):\n",
        "      for j in range(1, self.n):\n",
        "        df.iloc[0, 0] = self.s0\n",
        "        df.iloc[i, 0] = 0\n",
        "        if j >= i:\n",
        "          df.iloc[i, j] = self.s0 * u**(j-i) * d**i\n",
        "        else:\n",
        "          df.iloc[i, j] = 0\n",
        "    df1 = pd.DataFrame(np.zeros(df.shape))\n",
        "    if self.option == \"put\":\n",
        "      for i in range(len(df1)-1):\n",
        "        for j in range(len(df1)-1, 0-1, -1):\n",
        "          if j == len(df1)-1:\n",
        "            df1.iloc[i, j] = max(self.X - df.iloc[i, j], 0)\n",
        "          elif i <= j:\n",
        "            df1.iloc[i, j] = max(((p * df1.iloc[i, j+1] + (1-p) * df1.iloc[i+1, j+1]))/exp, self.X - df.iloc[i, j])\n",
        "          else:\n",
        "            df1.iloc[i, j] = 0\n",
        "    elif self.option == \"call\":\n",
        "      for i in range(len(df1)-1):\n",
        "        for j in range(len(df1)-1, 0-1, -1):\n",
        "          if j == len(df1)-1:\n",
        "            df1.iloc[i, j] = max(df.iloc[i, j] - self.X, 0)\n",
        "          elif i <= j:\n",
        "            df1.iloc[i, j] = max(((p * df1.iloc[i, j+1] + (1-p) * df1.iloc[i+1, j+1]))/exp, df.iloc[i, j] - self.X)\n",
        "          else:\n",
        "            df1.iloc[i, j] = 0\n",
        "    else:\n",
        "        print(\"option type is not valid\")\n",
        "        par = 0\n",
        "    return df1.iloc[0, 0]\n",
        "\n",
        "  def monte_carlo_ln(self, J):\n",
        "    import numpy as np\n",
        "    e = np.random.normal(0, 1, J)\n",
        "    op = np.zeros(J)\n",
        "    for i in range(J):\n",
        "      st = self.s0 * np.exp((self.rf - ((self.sigma**2) / 2)) * self.T/self.n + self.sigma * e[i] * np.sqrt(self.T/self.n))\n",
        "      if self.option == \"call\":\n",
        "        op[i] = max(st - self.X, 0) * np.exp(-self.rf * self.T/self.n)\n",
        "      elif self.option == \"put\":\n",
        "        op[i] = max(self.X - st, 0) * np.exp(-self.rf * self.T/self.n)\n",
        "      else:\n",
        "        op[i] = 0\n",
        "    price = np.mean(op)\n",
        "    return price\n",
        "  def monte_carlo_bt(self, J):\n",
        "    import numpy as np\n",
        "    delta_t = self.T/self.n\n",
        "    u = np.exp(self.sigma * np.sqrt(delta_t))\n",
        "    d = 1/u\n",
        "    p = (np.exp(self.rf * delta_t) - d)/(u - d)\n",
        "    op = np.zeros(J)\n",
        "    for i in range(J):\n",
        "      probs = np.random.uniform(0, 1, self.n)\n",
        "      delt = len(probs[probs < (1-p)])\n",
        "      st = self.s0 * (d**delt) * (u**(self.n - delt))\n",
        "      if self.option == \"call\":\n",
        "        op[i] = max(st - self.X, 0) * np.exp(-self.rf * delta_t)\n",
        "      elif self.option == \"put\":\n",
        "        op[i] = max(self.X - st, 0) * np.exp(-self.rf * delta_t)\n",
        "      else:\n",
        "        op[i] = 0\n",
        "    price = np.mean(op)\n",
        "    return price"
      ],
      "execution_count": null,
      "outputs": []
    },
    {
      "cell_type": "code",
      "metadata": {
        "colab": {
          "base_uri": "https://localhost:8080/"
        },
        "id": "XVkPx05Mdf7Z",
        "outputId": "9ee7bafc-0155-4589-ce6f-74dc7046662f"
      },
      "source": [
        "p1 = Options(s0 = 50, X = 52, rf = 0.05, sigma=0.3, div=0, T = 2, n = 500, option=\"put\")\n",
        "pp1 = p1.priceBSM()\n",
        "print(pp1)\n",
        "# parp1 = p1.parity(pp1)\n",
        "# print(parp1)\n",
        "# binomial = p1.binomial_tree()\n",
        "# print(binomial)\n",
        "MC = p1.monte_carlo_ln(J = 1000)\n",
        "print(MC)\n",
        "# MCBT = p1.monte_carlo_bt(J = 1000)\n",
        "# print(MCBT)"
      ],
      "execution_count": null,
      "outputs": [
        {
          "output_type": "stream",
          "name": "stdout",
          "text": [
            "1.9966499333931296\n",
            "2.0405169330769346\n"
          ]
        }
      ]
    },
    {
      "cell_type": "code",
      "metadata": {
        "id": "Ni_3fkUESh7e"
      },
      "source": [
        "# arbol\n",
        "import numpy as np\n",
        "n = 500\n",
        "delta_t = 2/n\n",
        "u = np.exp(0.3 * np.sqrt(delta_t))\n",
        "d = 1/u\n",
        "p = (np.exp(0.05 * delta_t) - d)/(u - d)\n",
        "J = 30000\n",
        "op = np.zeros(J)\n",
        "for i in range(J):\n",
        "  probs = np.random.uniform(0, 1, J)\n",
        "  delt = len(probs[probs < (1-p)])\n",
        "  st = 50 * (d**delt) * (u**(J - delt))\n",
        "  op[i] = max(52 - st, 0) * np.exp(0.05 * delta_t)\n",
        "price = np.mean(op)"
      ],
      "execution_count": 49,
      "outputs": []
    },
    {
      "cell_type": "code",
      "metadata": {
        "colab": {
          "base_uri": "https://localhost:8080/"
        },
        "id": "NmjXn1Eyfmzf",
        "outputId": "74f23265-221d-4d60-b6b1-70d1cdf1bc5e"
      },
      "source": [
        "price"
      ],
      "execution_count": 50,
      "outputs": [
        {
          "output_type": "execute_result",
          "data": {
            "text/plain": [
              "51.211114819660324"
            ]
          },
          "metadata": {},
          "execution_count": 50
        }
      ]
    },
    {
      "cell_type": "code",
      "metadata": {
        "colab": {
          "base_uri": "https://localhost:8080/"
        },
        "id": "7IK0XTnRfqw_",
        "outputId": "fa125c45-e802-4527-c044-be45dc5dff14"
      },
      "source": [
        "delt"
      ],
      "execution_count": 3,
      "outputs": [
        {
          "output_type": "execute_result",
          "data": {
            "text/plain": [
              "244"
            ]
          },
          "metadata": {},
          "execution_count": 3
        }
      ]
    },
    {
      "cell_type": "code",
      "metadata": {
        "colab": {
          "base_uri": "https://localhost:8080/"
        },
        "id": "r5gJVMVwftxf",
        "outputId": "de614af4-6a9b-472b-ba94-791ac75b7fc0"
      },
      "source": [
        "st"
      ],
      "execution_count": 4,
      "outputs": [
        {
          "output_type": "execute_result",
          "data": {
            "text/plain": [
              "62.78442272718567"
            ]
          },
          "metadata": {},
          "execution_count": 4
        }
      ]
    },
    {
      "cell_type": "code",
      "metadata": {
        "colab": {
          "base_uri": "https://localhost:8080/"
        },
        "id": "wh5ZrjQnfxUP",
        "outputId": "1ce6ca4d-ff9e-421d-9c6e-2cf3bd02c327"
      },
      "source": [
        "op"
      ],
      "execution_count": 6,
      "outputs": [
        {
          "output_type": "execute_result",
          "data": {
            "text/plain": [
              "array([ 0.        ,  2.00040004,  0.        , ...,  0.        ,\n",
              "       21.47435905,  0.        ])"
            ]
          },
          "metadata": {},
          "execution_count": 6
        }
      ]
    },
    {
      "cell_type": "code",
      "metadata": {
        "colab": {
          "base_uri": "https://localhost:8080/"
        },
        "id": "O4bs5cWYf1Ze",
        "outputId": "34fe961e-c877-437e-c8ae-3afc20a6e2f1"
      },
      "source": [
        "from scipy.stats import norm\n",
        "s0 = 50\n",
        "X = 52\n",
        "rf = 0.05\n",
        "sigma = 0.3\n",
        "T = 2\n",
        "n = 500\n",
        "deltaT = T/n\n",
        "\n",
        "d1 = (np.log(s0/X) + (rf + (sigma**2)/2)*T)/(sigma*np.sqrt(T))\n",
        "d2 = d1 - sigma * np.sqrt(T)\n",
        "\n",
        "c = X*np.exp(-rf*T)*norm.cdf(-d2) - (s0)*norm.cdf(-d1)\n",
        "\n",
        "print(f'Los valores relevantes de la valoración de la opción son:\\n\\\n",
        "Dados los valores anteriores, al aplicar BSM el valor de la call es: {round(c, 2)}')"
      ],
      "execution_count": 45,
      "outputs": [
        {
          "output_type": "stream",
          "name": "stdout",
          "text": [
            "Los valores relevantes de la valoración de la opción son:\n",
            "Dados los valores anteriores, al aplicar BSM el valor de la call es: 6.76\n"
          ]
        }
      ]
    },
    {
      "cell_type": "code",
      "metadata": {
        "colab": {
          "base_uri": "https://localhost:8080/"
        },
        "id": "P6EIUCSAjIKF",
        "outputId": "637ccbb7-6b46-4568-9584-8a164ee09ad2"
      },
      "source": [
        "deltaT"
      ],
      "execution_count": 25,
      "outputs": [
        {
          "output_type": "execute_result",
          "data": {
            "text/plain": [
              "0.004"
            ]
          },
          "metadata": {},
          "execution_count": 25
        }
      ]
    },
    {
      "cell_type": "code",
      "metadata": {
        "colab": {
          "base_uri": "https://localhost:8080/"
        },
        "id": "wu66qLr1jSUT",
        "outputId": "b0d0d829-60dd-40ba-ec56-a1d695657b91"
      },
      "source": [
        "u"
      ],
      "execution_count": 26,
      "outputs": [
        {
          "output_type": "execute_result",
          "data": {
            "text/plain": [
              "1.0191548098015244"
            ]
          },
          "metadata": {},
          "execution_count": 26
        }
      ]
    },
    {
      "cell_type": "code",
      "metadata": {
        "colab": {
          "base_uri": "https://localhost:8080/"
        },
        "id": "iios7hfejWQL",
        "outputId": "11b90bea-6577-40bc-b599-e4f09e76dc1e"
      },
      "source": [
        "d"
      ],
      "execution_count": 27,
      "outputs": [
        {
          "output_type": "execute_result",
          "data": {
            "text/plain": [
              "0.9812052009986052"
            ]
          },
          "metadata": {},
          "execution_count": 27
        }
      ]
    },
    {
      "cell_type": "code",
      "metadata": {
        "colab": {
          "base_uri": "https://localhost:8080/"
        },
        "id": "gEqvfCk0jYoy",
        "outputId": "3984f4fd-30e6-43ae-fbdd-cad329d201a3"
      },
      "source": [
        "1-p"
      ],
      "execution_count": 28,
      "outputs": [
        {
          "output_type": "execute_result",
          "data": {
            "text/plain": [
              "0.49947260059062537"
            ]
          },
          "metadata": {},
          "execution_count": 28
        }
      ]
    },
    {
      "cell_type": "code",
      "metadata": {
        "id": "0ruWh5NFjbKr"
      },
      "source": [
        "\n",
        "import numpy as np\n",
        "\n",
        "from scipy.stats import norm\n",
        "s0 = 50\n",
        "X = 52\n",
        "rf = 0.05\n",
        "sigma = 0.3\n",
        "T = 2\n",
        "n = 500\n",
        "deltaT = T/n\n",
        "\n",
        "J = 30000\n",
        "e = np.random.normal(0, 1, J)\n",
        "op = np.zeros(J)\n",
        "for i in range(J):\n",
        "  st = s0 * np.exp((rf - ((sigma**2) / 2)) * T + sigma * e[i] * np.sqrt(T))\n",
        "  op[i] = max(X - st, 0) * np.exp(-rf * T)"
      ],
      "execution_count": 46,
      "outputs": []
    },
    {
      "cell_type": "code",
      "metadata": {
        "id": "aV40VBF1kv-C"
      },
      "source": [
        "price = np.mean(op)"
      ],
      "execution_count": 47,
      "outputs": []
    },
    {
      "cell_type": "code",
      "metadata": {
        "colab": {
          "base_uri": "https://localhost:8080/"
        },
        "id": "qHPaATw4k2-Z",
        "outputId": "e17dd4c7-3c69-46bb-f419-b7d20b82b510"
      },
      "source": [
        "price"
      ],
      "execution_count": 48,
      "outputs": [
        {
          "output_type": "execute_result",
          "data": {
            "text/plain": [
              "6.73938957024994"
            ]
          },
          "metadata": {},
          "execution_count": 48
        }
      ]
    },
    {
      "cell_type": "code",
      "metadata": {
        "id": "pPKzKjMAk4gq"
      },
      "source": [
        ""
      ],
      "execution_count": null,
      "outputs": []
    }
  ]
}