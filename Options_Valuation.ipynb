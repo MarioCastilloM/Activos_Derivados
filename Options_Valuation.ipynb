{
  "nbformat": 4,
  "nbformat_minor": 0,
  "metadata": {
    "colab": {
      "name": "Options Valuation.ipynb",
      "provenance": [],
      "collapsed_sections": [],
      "authorship_tag": "ABX9TyPhlAHliiiyO5ww19RvhID1",
      "include_colab_link": true
    },
    "kernelspec": {
      "name": "python3",
      "display_name": "Python 3"
    },
    "language_info": {
      "name": "python"
    }
  },
  "cells": [
    {
      "cell_type": "markdown",
      "metadata": {
        "id": "view-in-github",
        "colab_type": "text"
      },
      "source": [
        "<a href=\"https://colab.research.google.com/github/MarioCastilloM/Activos_Derivados/blob/main/Options_Valuation.ipynb\" target=\"_parent\"><img src=\"https://colab.research.google.com/assets/colab-badge.svg\" alt=\"Open In Colab\"/></a>"
      ]
    },
    {
      "cell_type": "markdown",
      "metadata": {
        "id": "l8qZwmGsCIjN"
      },
      "source": [
        "<img style=\"float: right;\" align=\"center\" src=\"https://www.udp.cl/cms/wp-content/uploads/2021/06/UDP_LogoRGB_2lineas_Color_SinFondo.png\">"
      ]
    },
    {
      "cell_type": "markdown",
      "metadata": {
        "id": "_q-o93DGKQ5u"
      },
      "source": [
        "# Trabajo Activos Derivados\n",
        "\n",
        "<!-- ![picture](https://www.udp.cl/cms/wp-content/uploads/2021/06/UDP_LogoRGB_2lineas_Color_SinFondo.png) -->\n",
        "\n",
        "## Integrantes\n",
        "\n",
        "-  Mario Castillo\n",
        "-  Felipe Gálvez"
      ]
    },
    {
      "cell_type": "markdown",
      "metadata": {
        "id": "Yprd5jZr9axq"
      },
      "source": [
        "## Introducción\n",
        "\n",
        "A continuación se presenta la valoración de opciones con parámetros similares por distintos métodos, con la finalidad de comparar los resultados y evaluar la consistencia de estos. Adicionalmente, se presentan valoraciones de opciones americanas y asiáticas.\n",
        "\n",
        "Para realizar este proyecto, se decidió crear la clase ***Options*** en Python, de modo que la programación, en términos de modificar fórmulas y agregar procedimientos o funciones no implicara una reconstrucción del código. La clase ***Options*** considera los métodos requeridos para este trabajo, a saber:\n",
        "\n",
        "- Método Black-Scholes-Merton con y sin dividendos\n",
        "- Valoración por Árbol Binomial para opciones Europeas\n",
        "- Valoracion por Árbol Binomial para opciones Americanas\n",
        "- Simulaciones de Montecarlo log-normal, árbol binomial y para opciones asiáticas con strike-promedio\n",
        "\n",
        "Junto con el cálculo del precio en cada uno de los casos, se presenta una breve descripción del método utilizado."
      ]
    },
    {
      "cell_type": "code",
      "metadata": {
        "id": "vFoTzp1pLC0W"
      },
      "source": [
        "class Options:\n",
        "  def __init__(self, s0, X, rf, sigma, div, T, n, option):\n",
        "    self.s0 = s0\n",
        "    self.X = X\n",
        "    self.rf = rf\n",
        "    self.sigma = sigma\n",
        "    self.div = div\n",
        "    self.T = T\n",
        "    self.option = option\n",
        "    self.n = n\n",
        "\n",
        "  def priceBSM(self):\n",
        "    import numpy as np\n",
        "    from scipy.stats import norm\n",
        "    if self.div == 0:\n",
        "      d1 = (np.log((self.s0)/self.X) + (self.rf + (self.sigma**2)/2) * self.T)/(self.sigma*np.sqrt(self.T))\n",
        "      d2 = d1 - self.sigma * np.sqrt(self.T)\n",
        "\n",
        "      if self.option == \"call\":\n",
        "        price = (self.s0)*norm.cdf(d1) - self.X*np.exp(-self.rf*self.T)*norm.cdf(d2)\n",
        "      elif self.option == \"put\":\n",
        "        price = self.X*np.exp(-self.rf*self.T)*norm.cdf(-d2) - (self.s0)*norm.cdf(-d1)\n",
        "      else:\n",
        "        print(\"ingrese opción válida\")\n",
        "        price = 0\n",
        "    else:\n",
        "      vpd = self.div\n",
        "      d1 = (np.log((self.s0 - vpd)/self.X) + (self.rf + self.sigma**2/2)*self.T)/(self.sigma*np.sqrt(self.T))\n",
        "      d2 = d1 - self.sigma * np.sqrt(self.T)\n",
        "\n",
        "      if self.option == \"call\":\n",
        "        price = (self.s0 - vpd)*norm.cdf(d1) - self.X*np.exp(-self.rf*self.T)*norm.cdf(d2)\n",
        "      elif self.option == \"put\":\n",
        "        price = self.X*np.exp(-self.rf*self.T)*norm.cdf(-d2) - (self.s0 - vpd)*norm.cdf(-d1)\n",
        "      else:\n",
        "        print(\"ingrese opción válida\")\n",
        "        price = 0\n",
        "    return price\n",
        "\n",
        "  def parity(self, price):\n",
        "    import numpy as np\n",
        "    if self.div == 0:\n",
        "      if self.option == \"call\":\n",
        "        par = price + self.X*(1+self.rf)**-self.T - self.s0\n",
        "      elif self.option == \"put\":\n",
        "        par = price - self.X*(1+self.rf)**-self.T + self.s0\n",
        "      else:\n",
        "        print(\"ingrese opción válida\")\n",
        "        par = 0\n",
        "    else:\n",
        "      vpd = np.exp(-self.div*self.T)\n",
        "      if self.option == \"call\":\n",
        "        vpd = np.exp(-self.div*self.T)\n",
        "        par = price + self.X*(1+self.rf)**-self.T - self.s0*vpd\n",
        "      elif self.option == \"put\":\n",
        "        par = price - self.X*(1+self.rf)**-self.T + self.s0*vpd\n",
        "      else:\n",
        "        print(\"ingrese opción válida\")\n",
        "        par = 0\n",
        "    return par\n",
        "  def binomial_american(self):\n",
        "    import numpy as np\n",
        "    u = np.exp(self.sigma * np.sqrt(self.T/self.n))\n",
        "    d = 1/u\n",
        "    exp = np.exp(self.rf * self.T/self.n)\n",
        "    p = (exp - d)/(u - d)\n",
        "    df = np.zeros((self.n + 1, self.n + 1))\n",
        "    for i in range(self.n + 1):\n",
        "      for j in range(1, self.n + 1):\n",
        "        df[0, 0] = self.s0\n",
        "        df[i, 0] = 0\n",
        "        if j >= i:\n",
        "          df[i, j] = self.s0 * u**(j-i) * d**i\n",
        "        else:\n",
        "          df[i, j] = 0\n",
        "    df1 = np.zeros(df.shape)\n",
        "    if self.option == \"put\":\n",
        "      for j in range(len(df1)-1, -1, -1):\n",
        "        for i in range(len(df1)):\n",
        "          if j == len(df1)-1:\n",
        "            df1[i, j] = max(self.X - df[i, j], 0)\n",
        "          elif i <= j:\n",
        "            df1[i, j] = max(((p * df1[i, j+1] + (1-p) * df1[i+1, j+1]))/exp, self.X - df[i, j])\n",
        "          else:\n",
        "            df1[i, j] = 0\n",
        "    elif self.option == \"call\":\n",
        "      for j in range(len(df1)-1, -1, -1):\n",
        "        for i in range(len(df1)):\n",
        "          if j == len(df1)-1:\n",
        "            df1[i, j] = max(df[i, j] - self.X, 0)\n",
        "          elif i <= j:\n",
        "            df1[i, j] = max(((p * df1[i, j+1] + (1-p) * df1[i+1, j+1]))/exp, df[i, j] - self.X)\n",
        "          else:\n",
        "            df1[i, j] = 0\n",
        "    else:\n",
        "        print(\"option type is not valid\")\n",
        "        par = 0\n",
        "    return df1[0, 0]\n",
        "\n",
        "  def binomial_european(self):\n",
        "    import numpy as np\n",
        "    u = np.exp(self.sigma * np.sqrt(self.T/self.n))\n",
        "    d = 1/u\n",
        "    exp = np.exp(self.rf * self.T/self.n)\n",
        "    p = (exp - d)/(u - d)\n",
        "    df = np.zeros((self.n + 1, self.n + 1))\n",
        "    for i in range(self.n + 1):\n",
        "      for j in range(1, self.n + 1):\n",
        "        df[0, 0] = self.s0\n",
        "        df[i, 0] = 0\n",
        "        if j >= i:\n",
        "          df[i, j] = self.s0 * u**(j-i) * d**i\n",
        "        else:\n",
        "          df[i, j] = 0\n",
        "    df1 = np.zeros(df.shape)\n",
        "    if self.option == \"put\":\n",
        "      for j in range(len(df1)-1, -1, -1):\n",
        "        for i in range(len(df1)):\n",
        "          if j == len(df1)-1:\n",
        "            df1[i, j] = max(self.X - df[i, j], 0)\n",
        "          elif i <= j:\n",
        "            df1[i, j] = ((p * df1[i, j+1] + (1-p) * df1[i+1, j+1]))/exp\n",
        "          else:\n",
        "            df1[i, j] = 0\n",
        "    elif self.option == \"call\":\n",
        "      for j in range(len(df1)-1, -1, -1):\n",
        "        for i in range(len(df1)):\n",
        "          if j == len(df1)-1:\n",
        "            df1[i, j] = max(df[i, j] - self.X, 0)\n",
        "          elif i <= j:\n",
        "            df1[i, j] = ((p * df1[i, j+1] + (1-p) * df1[i+1, j+1]))/exp\n",
        "          else:\n",
        "            df1[i, j] = 0\n",
        "    else:\n",
        "        print(\"option type is not valid\")\n",
        "        par = 0\n",
        "    return df1[0, 0]\n",
        "\n",
        "  def monte_carlo_ln(self, J):\n",
        "    import numpy as np\n",
        "    e = np.random.normal(0, 1, J)\n",
        "    op = np.zeros(J)\n",
        "    for i in range(J):\n",
        "      st = self.s0 * np.exp((self.rf - ((self.sigma**2) / 2)) * self.T + self.sigma * e[i] * np.sqrt(self.T))\n",
        "      if self.option == \"call\":\n",
        "        op[i] = max(st - self.X, 0) * np.exp(-self.rf * self.T)\n",
        "      elif self.option == \"put\":\n",
        "        op[i] = max(self.X - st, 0) * np.exp(-self.rf * self.T)\n",
        "      else:\n",
        "        op[i] = 0\n",
        "    price = np.mean(op)\n",
        "    return price, [price - 1.96 * np.std(op) / np.sqrt(J), price + 1.96 * np.std(op) / np.sqrt(J)]\n",
        "  def monte_carlo_bt(self, J):\n",
        "    import numpy as np\n",
        "    delta_t = self.T/self.n\n",
        "    u = np.exp(self.sigma * np.sqrt(delta_t))\n",
        "    d = 1/u\n",
        "    p = (np.exp(self.rf * delta_t) - d)/(u - d)\n",
        "    op = np.zeros(J)\n",
        "    for i in range(J):\n",
        "      probs = np.random.uniform(0, 1, self.n)\n",
        "      delt = len(probs[probs < (1-p)])\n",
        "      st = self.s0 * (d**delt) * (u**(self.n - delt))\n",
        "      if self.option == \"call\":\n",
        "        op[i] = max(st - self.X, 0) * np.exp(-self.rf * self.T)\n",
        "      elif self.option == \"put\":\n",
        "        op[i] = max(self.X - st, 0) * np.exp(-self.rf * self.T)\n",
        "      else:\n",
        "        op[i] = 0\n",
        "    price = np.mean(op)\n",
        "    return price, [price - 1.96 * np.std(op) / np.sqrt(J), price + 1.96 * np.std(op) / np.sqrt(J)]\n",
        "\n",
        "  def monte_carlo_asian(self, J):\n",
        "    import numpy as np\n",
        "    u = np.exp(self.sigma * np.sqrt(self.T/self.n))\n",
        "    d = 1/u\n",
        "    exp = np.exp(self.rf * self.T/self.n)\n",
        "    p = (exp - d)/(u - d)\n",
        "    op = np.zeros(J)\n",
        "    s = np.zeros(self.n)\n",
        "    for j in range(J):\n",
        "      s[0] = self.s0\n",
        "      probs = np.random.uniform(0, 1, self.n)\n",
        "      for i in range(1, self.n):\n",
        "        if probs[i] >= (1 - p):\n",
        "          s[i] = s[i-1] * u\n",
        "        else:\n",
        "          s[i] = s[i-1] * d\n",
        "      if self.option == \"call\":\n",
        "        op[j] = (max(self.s0 - np.mean(s), 0)) * np.exp(-self.rf * self.T)\n",
        "      if self.option == \"put\":\n",
        "        op[j] = (max(np.mean(s) - self.s0, 0)) * np.exp(-self.rf * self.T)\n",
        "    price = np.mean(op)\n",
        "    return price, [price - 1.96 * np.std(op) / np.sqrt(J), price + 1.96 * np.std(op) / np.sqrt(J)]"
      ],
      "execution_count": 16,
      "outputs": []
    },
    {
      "cell_type": "markdown",
      "metadata": {
        "id": "AKVW9JDAKFZb"
      },
      "source": [
        "## Pregunta 1\n",
        "\n",
        "### Valoración por BSM\n",
        "\n",
        "El modelo Black, Scholes and Merton es utilizado para la valorización de opciones, a través de la utilización de una ecuación diferencial. Requiere de 5 variables inputs:\n",
        "\n",
        "- Strike\n",
        "- Precio actual del subyacente\n",
        "- Tiempo a la madurez\n",
        "- Tasa libre de riesgo\n",
        "- Volatilidad del activo subyacente\n",
        "\n",
        "Este modelo aplica para opciones europeas, es decir, que no son ejercidas antes de la madurez.\n",
        "\n",
        "Los supuestos que subyacen al modelo son los siguientes:\n",
        "\n",
        "- La acción no paga dividendos (*)\n",
        "- Los mercados se comportan de manera aleatoria\n",
        "- No hay costos de transacción al comprar la opción\n",
        "- La tasa libre de riesgo y la volatilidad del activo subyacente son conocidas y constantes.\n",
        "- La opción valorada es europea y sólo puede ser ejercida a la madurez\n",
        "\n",
        "(\\*) *Es posible valorar opciones sobre acciones que pagan dividendos con una pequeña modificación a las fórmulas del modelo*"
      ]
    },
    {
      "cell_type": "code",
      "metadata": {
        "colab": {
          "base_uri": "https://localhost:8080/"
        },
        "id": "XVkPx05Mdf7Z",
        "outputId": "b5f67cfc-52f1-47f4-f5fa-8c3636f368f9"
      },
      "source": [
        "p1 = Options(s0 = 50, X = 52, rf = 0.05, sigma=0.3, div=0, T = 2, n = 500, option=\"put\")\n",
        "pp1 = p1.priceBSM()\n",
        "print(f\"El precio de la opción put europea por el método BSM es {round(pp1, 2)}\")"
      ],
      "execution_count": 18,
      "outputs": [
        {
          "output_type": "stream",
          "name": "stdout",
          "text": [
            "El precio de la opción put europea por el método BSM es 6.76\n"
          ]
        }
      ]
    },
    {
      "cell_type": "markdown",
      "metadata": {
        "id": "PkPXxWvdKHF0"
      },
      "source": [
        "### Valoración por árbol binomial\n",
        "\n",
        "Si bien el modelo de Black-Scholes-Merton es uno de los más populares en la valoración de opciones, tiene limitaciones considerables, por ejemplo en la valoración de opciones americanas. Una alternativa a esta metodología es la valoración de la opción a través de un árbol binomial que considera, primero, dos movimientos posibles del precio del activo subyacente, hacia arriba o hacia abajo. Luego de construir el árbol binomial para el precio del activo subyacente, por inducción hacia atrás se construye el árbol del precio de la opción (call), en el período $T$ como $max\\{S_T - X, 0\\}$, mientras que para el resto de períodos, el precio viene definido por la valoración neutral al riesgo, i.e., $C_t = C_{u,\\ t+1}*p^* + C_{d,\\ t+1}*(1-p^*)$ en cada nodo, hasta llegar al nodo inicial o $t = 0$. Para realizar la valoración de una opción a través de esta metodología se deben calcular:\n",
        "\n",
        "- La tasa libre de riesgo\n",
        "- la volatilidad del activo subyacente\n",
        "- El strike\n",
        "- El precio actual del activo subyacente\n",
        "- Un factor de alza $u = exp(r_f * \\sqrt{\\frac{T}{n}})$\n",
        "- un factor de baja $d = 1/u$\n",
        "- La probabilidad neutral al riesgo $p^*=\\frac{exp(rf*\\Delta t)-d}{(u-d)}$"
      ]
    },
    {
      "cell_type": "code",
      "metadata": {
        "colab": {
          "base_uri": "https://localhost:8080/"
        },
        "id": "b1N1HCfdFCfX",
        "outputId": "43842eb5-e0c2-40df-c051-14e87ec9b674"
      },
      "source": [
        "binomial = p1.binomial_european()\n",
        "print(f\"El precio de la opción put europea por el método de árbol binomial es {round(binomial, 2)}\")"
      ],
      "execution_count": null,
      "outputs": [
        {
          "output_type": "stream",
          "name": "stdout",
          "text": [
            "El precio de la opción put europea por el método de árbol binomial es 6.76\n"
          ]
        }
      ]
    },
    {
      "cell_type": "markdown",
      "metadata": {
        "id": "P5-yPj6WKJBx"
      },
      "source": [
        "Como se puede observar, los precios obtenidos por ambos métodos, el método de árbol binomial y el método de Black, Scholes and Merton son bastante similares."
      ]
    },
    {
      "cell_type": "markdown",
      "metadata": {
        "id": "R71rVxPrTHKM"
      },
      "source": [
        "## Pregunta 2\n",
        "\n",
        "### Valoración por simulación de Montecarlo\n",
        "\n",
        "Hasta aquí hemos presentado dos métodos ampliamente utilizados para la valoración de una opción, sin embargo, con dichos métodos, es difícil proveer soluciones analíticas que incorporen saltos en la volatilidad y el el retorno, de modo que los métodos numéricos, como la simulación de Montecarlo, aparecen como respuesta a estas limitantes.\n",
        "\n",
        "#### Valoración por simulación de Montecarlo Log-Normal\n",
        "\n",
        "- Generamos un vector de errores estocásticos $\\varepsilon \\sim N(0,\\ 1)$\n",
        "- Obtenemos el precio del activo subyacente a la madurez incorporando este error estocástico en el precio a través de la volatilidad\n",
        "- Calculamos el valor presente del pago de la opción en cada replicación\n",
        "- Obtenemos el precio promedio de la opción y generamos el intervalo de confianza."
      ]
    },
    {
      "cell_type": "code",
      "metadata": {
        "colab": {
          "base_uri": "https://localhost:8080/"
        },
        "id": "jZbYuF99BU33",
        "outputId": "153069c2-c1a1-4664-d383-a48e7035dd39"
      },
      "source": [
        "MC, ICMCln = p1.monte_carlo_ln(J = 30000)\n",
        "print(f\"El precio de la opción put europea por simulación de Montecarlo Log-normal es {round(MC, 2)}\\nCon un intervalo de confianza {ICMCln}\")"
      ],
      "execution_count": null,
      "outputs": [
        {
          "output_type": "stream",
          "name": "stdout",
          "text": [
            "El precio de la opción put europea por simulación de Montecarlo Log-normal es 6.6\n",
            "Con un intervalo de confianza [6.5033136069392015, 6.69756313641259]\n"
          ]
        }
      ]
    },
    {
      "cell_type": "markdown",
      "metadata": {
        "id": "C3VYJ94KKKDW"
      },
      "source": [
        "#### Valoración por simulación de árbol binomial\n",
        "\n",
        "- Calculamos $\\Delta t$, $u$, $d$ y $p^*$\n",
        "- Generamos vector con $n$ probabilidades estocásticas $p^j \\sim U(0,\\ 1)$ y definimos $\\delta$ como el número de probabilidades del vector que son menores a $(1-p^*)$\n",
        "- Obtenemos el precio del activo a la madurez en cada replicación\n",
        "- Calculamos el pago de la opción en cada replicación\n",
        "- Obtenemos el precio de la opción como el promedio del vector de precios de la opción, que contiene el precio de cada replicación y generamos intervalos de confianza"
      ]
    },
    {
      "cell_type": "code",
      "metadata": {
        "colab": {
          "base_uri": "https://localhost:8080/"
        },
        "id": "tkay-T_RBYEP",
        "outputId": "b4cc33c7-924e-42e2-8647-f094a3757dd4"
      },
      "source": [
        "MCBT, ICMCbt = p1.monte_carlo_bt(J = 30000)\n",
        "print(f\"El precio de la opción put europea por simulación de árbol binomial es {round(MCBT, 2)}\\nCon un intervalo de confianza {ICMCbt}\")"
      ],
      "execution_count": null,
      "outputs": [
        {
          "output_type": "stream",
          "name": "stdout",
          "text": [
            "El precio de la opción put europea por simulación de árbol binomial es 6.7\n",
            "Con un intervalo de confianza [6.598791853134989, 6.793743591449818]\n"
          ]
        }
      ]
    },
    {
      "cell_type": "markdown",
      "metadata": {
        "id": "Q1GU7k2BTmK4"
      },
      "source": [
        "Ambos métodos nos entregan un resultado similar"
      ]
    },
    {
      "cell_type": "markdown",
      "metadata": {
        "id": "A07z818dTyoQ"
      },
      "source": [
        "## Pregunta 3\n",
        "\n",
        "### Opciones Exóticas\n",
        "\n",
        "Este tipo de opciones se diseñan para responder a necesidades específicas de los clientes y se transan en mercados OTC. Una de las más conocidas o utilizadas es la opción asiática.\n",
        "\n",
        "#### Valoración de Put Asiática por Montecarlo \n",
        "\n",
        "- Generamos un vector con n probabilidades tal que $p^j\\sim U(0,\\ 1)$\n",
        "- En cada replicación definimos un precio del subyacente imitando la trayectoria que tendría en un arbol binomial, dependiendo de si la probabilidad correspondiente a esa subiteración (sobre el vector de $n$ probabilidades y no de $J$ replicaciones) es mayor o menor que la probabilidad neutral al riesgo\n",
        "- Calculamos el valor presente de la opción en cada replicación, en este caso, fijando el precio del activo subyacente en $S_0 = 50$ y utilizando como strike el promedio del vector de $n$ precios del activo subyacente para cada replicación\n",
        "- Una vez que tenemos el vector con $J$ precios de la opción, obtenemos el precio final como el promedio y generamos un intervalo de confianza"
      ]
    },
    {
      "cell_type": "code",
      "metadata": {
        "colab": {
          "base_uri": "https://localhost:8080/"
        },
        "id": "dVpWinubBcvX",
        "outputId": "4b7e8bfc-fcac-4094-aade-7a09b896e552"
      },
      "source": [
        "asian, ICasian = p1.monte_carlo_asian(J = 30000)\n",
        "print(f\"El precio de la opción put asiática por simulación de Montecarlo es {round(asian, 2)}\\nCon un intervalo de confianza {ICasian}\")"
      ],
      "execution_count": 12,
      "outputs": [
        {
          "output_type": "stream",
          "name": "stdout",
          "text": [
            "El precio de la opción put asiática por simulación de Montecarlo es 5.78\n",
            "Con un intervalo de confianza [5.677030632110896, 5.876654454529757]\n"
          ]
        }
      ]
    },
    {
      "cell_type": "markdown",
      "metadata": {
        "id": "3nEUrFQTKLai"
      },
      "source": [
        "## Pregunta 4\n",
        "\n",
        "### Valoración Put Americana por árbol binomial \n",
        "\n",
        "En este caso, se construye igualmente el árbol binomial y el procedimiento de valoración es similar, sin embargo, en cada nodo se debe comparar el precio obtenido a través de la valoración neutral al riesgo, con la diferencia entre el precio del subyacente en ese nodo y el precio strike, con la finalidad de evaluar e cada nodo si es conveniente o no ejercer la opción en ese momento del tiempo"
      ]
    },
    {
      "cell_type": "code",
      "metadata": {
        "colab": {
          "base_uri": "https://localhost:8080/"
        },
        "id": "15ZBm3JNBRYt",
        "outputId": "f858d35d-cde1-4f5d-cdc7-9c5aebb3441d"
      },
      "source": [
        "import pandas as pd\n",
        "binomial_am = p1.binomial_american()\n",
        "print(f\"El precio de la opción put americana por árbol binomial es {round(binomial_am, 2)}\")"
      ],
      "execution_count": 20,
      "outputs": [
        {
          "output_type": "stream",
          "name": "stdout",
          "text": [
            "El precio de la opción put americana por árbol binomial es 7.47\n"
          ]
        }
      ]
    },
    {
      "cell_type": "markdown",
      "metadata": {
        "id": "wimXgoBuKMbm"
      },
      "source": [
        "## Pregunta 5\n",
        "\n",
        "### Valoración de Put Europea con dividendos por árbol binomial y BSM\n",
        "\n",
        "Al tratarse de una opción europea, el procedimiento del árbol binomial es el mismo descrito en la pregunta 1, sin embargo, al precio $S_0$ le restamos el valor presente de los dividendos. Este, se calcula como el dividendo descontado a la tasa libre de riesgo multiplicada por el plazo a la madurez del dividendo. Asumiendo que la valoración se lleva a cabo en septiembre, el plazo al primer dividendo es 1 año y al segundo dividendo son 2 años, de modo que el valor presente de los dividendos para este caso, vendrán dados por:\n",
        "\n",
        "$VP_{div} = D_1*exp(-r_f * T_1) + D_2*exp(-r_f*T_2)$\n",
        "\n",
        "Donde:\n",
        "\n",
        "- $D_1=1$\n",
        "- $D_2=1$\n",
        "- $T_1=1$\n",
        "- $T_1=2$\n",
        "- $r_f=0.05$\n",
        "\n",
        "Por otra parte, el modelo BSM, al incorporar el dividendo en el precio de la opción, considera una ligera modificación en sus 3 fórmulas, sin embargo, consiste en la misma lógica, restarle al precio del subyacente el valor presente de los dividendos:\n",
        "\n",
        "- $P = X*exp(-r_f*T)*N(-d_2) - [S_0 - D*exp(-r_f*T)]*N(-d_1)$\n",
        "- $d_1 = \\frac{ln((S_0-D*exp(-r_f*T))/X)+(r_f+(\\sigma^2)/2)*T}{\\sigma\\sqrt T}$\n",
        "- $d_2 = d_1 - \\sigma\\sqrt T$"
      ]
    },
    {
      "cell_type": "code",
      "metadata": {
        "colab": {
          "base_uri": "https://localhost:8080/"
        },
        "id": "l8A6DwghBdNi",
        "outputId": "7efa60aa-abd9-41f3-8e3a-a866bc790f12"
      },
      "source": [
        "import numpy as np\n",
        "div = (1 * np.exp(-0.05 * 1) + 1 * np.exp(-0.05 * 2))\n",
        "s0 = 50 - div\n",
        "p2 = Options(s0 = s0, X = 54, rf = 0.05, sigma=0.3, div=0 , T = 2, n = 500, option=\"put\")\n",
        "binomial_div = p2.binomial_european()\n",
        "\n",
        "p3 = Options(s0 = 50, X = 54, rf = 0.05, sigma=0.3, div=div , T = 2, n = 500, option=\"put\")\n",
        "bsm_div = p3.priceBSM()\n",
        "\n",
        "print(f\"El precio de la opción put europea con pago de dividendos de $1 anual es {round(binomial_div, 2)}\\nMientras que por BSM, el precio resultante es de {round(bsm_div, 2)}\")"
      ],
      "execution_count": 13,
      "outputs": [
        {
          "output_type": "stream",
          "name": "stdout",
          "text": [
            "El precio de la opción put europea con pago de dividendos de $1 anual es 8.51\n",
            "Mientras que por BSM, el precio resultante es de 8.51\n"
          ]
        }
      ]
    },
    {
      "cell_type": "markdown",
      "metadata": {
        "id": "Pj5m4EKOKNKd"
      },
      "source": [
        "Podemos ver que los precios obtenidos por ambos métodos son muy similares"
      ]
    },
    {
      "cell_type": "markdown",
      "metadata": {
        "id": "MUU68dLQYLq4"
      },
      "source": [
        "# Conclusión\n",
        "Finalmente, aplicando distintos métodos de valoración para opciones con iguales parámetros ($S_0$, $X$, $\\sigma$, $T$, $n$, $r_f$), podemos ver que los precios obtenidos son sumamente similares, de modo que podemos concluir que con un número de subperíodos y de simulaciones lo suficientemente grandes, el precio obtenido por distintos métodos converge al mismo valor."
      ]
    }
  ]
}